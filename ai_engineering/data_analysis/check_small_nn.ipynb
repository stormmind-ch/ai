{
 "cells": [
  {
   "cell_type": "code",
   "id": "initial_id",
   "metadata": {
    "collapsed": true,
    "ExecuteTime": {
     "end_time": "2025-05-03T16:46:06.991097Z",
     "start_time": "2025-05-03T16:46:06.714468Z"
    }
   },
   "source": [
    "from torch.nn import CrossEntropyLoss\n",
    "\n",
    "from datasets.ClusteredStormDamageDataset import ClusteredStormDamageDataset\n",
    "import numpy as np\n",
    "from sklearn.ensemble import RandomForestClassifier\n",
    "from sklearn.metrics import classification_report\n",
    "import pandas as pd\n",
    "import matplotlib.pyplot as plt\n",
    "import torch.nn as nn\n",
    "import torch\n",
    "from datasets.NormalizedClusteredStormDamageDataset import NormalizedClusteredStormDamageDataset\n",
    "import torch.optim.lr_scheduler as lr_scheduler\n",
    "import matplotlib.pyplot as plt\n",
    "from sklearn.metrics import confusion_matrix\n",
    "from imblearn.over_sampling import SMOTE\n",
    "\n",
    "\n",
    "\n"
   ],
   "outputs": [],
   "execution_count": 244
  },
  {
   "metadata": {
    "ExecuteTime": {
     "end_time": "2025-05-03T13:01:40.659229Z",
     "start_time": "2025-05-03T13:00:41.101507Z"
    }
   },
   "cell_type": "code",
   "source": [
    "train_dataset = NormalizedClusteredStormDamageDataset('../../Ressources/main_data_1972_2023.csv',\n",
    "                                    '../../Ressources/weather_data4',\n",
    "                                    '../../Ressources/municipalities_coordinates_newest.csv',\n",
    "                                              n_clusters=6,\n",
    "                                              n_sequences=0, test_years=10,\n",
    "                                              grouping_calendar='weekly', split='train',\n",
    "                                              damage_weights={0: 0, 1: 0.06, 2: 0.8, 3: 11.3})\n",
    "mean, std = train_dataset.mean, train_dataset.std\n",
    "\n",
    "test_dataset = NormalizedClusteredStormDamageDataset('../../Ressources/main_data_1972_2023.csv',\n",
    "                                    '../../Ressources/weather_data4',\n",
    "                                    '../../Ressources/municipalities_coordinates_newest.csv',\n",
    "                                              n_clusters=6,\n",
    "                                              n_sequences=0, test_years=10,\n",
    "                                              grouping_calendar='weekly', split='test',\n",
    "                                              damage_weights={0: 0, 1: 0.06, 2: 0.8, 3: 11.3},\n",
    "                                                mean=mean, std=std)"
   ],
   "id": "23440db069c9dade",
   "outputs": [
    {
     "name": "stdout",
     "output_type": "stream",
     "text": [
      "low threshold: 4.000000000000002\n",
      "mid thresh: 15.702195524999984\n",
      "low threshold: 4.000000000000002\n",
      "mid thresh: 15.702195524999984\n"
     ]
    }
   ],
   "execution_count": 2
  },
  {
   "metadata": {
    "ExecuteTime": {
     "end_time": "2025-05-03T13:45:00.050597Z",
     "start_time": "2025-05-03T13:45:00.047935Z"
    }
   },
   "cell_type": "code",
   "source": "mean, std",
   "id": "d3f3f54a7e3766bf",
   "outputs": [
    {
     "data": {
      "text/plain": [
       "(tensor([8.7132e+00, 2.8966e+04, 2.4517e+01, 3.6764e+00, 6.5267e+00, 2.1847e-01,\n",
       "         4.6815e+01, 8.0905e+00]),\n",
       " tensor([7.3103e+00, 1.0314e+04, 2.8042e+01, 8.0447e+00, 3.4481e+00, 4.1321e-01,\n",
       "         4.1761e-01, 9.1194e-01]))"
      ]
     },
     "execution_count": 94,
     "metadata": {},
     "output_type": "execute_result"
    }
   ],
   "execution_count": 94
  },
  {
   "metadata": {
    "ExecuteTime": {
     "end_time": "2025-05-03T16:46:26.920291Z",
     "start_time": "2025-05-03T16:46:26.408586Z"
    }
   },
   "cell_type": "code",
   "source": [
    "all_X_train, all_y_train = [], []\n",
    "for feat, lbl in train_dataset:\n",
    "    cur = feat[0].numpy()\n",
    "    all_X_train.append(cur)\n",
    "    all_y_train.append(1 if lbl > 0 else 0)\n",
    "all_X_train = np.vstack(all_X_train)\n",
    "all_y_train = np.array(all_y_train)"
   ],
   "id": "6623de8fa4cf640f",
   "outputs": [
    {
     "name": "stderr",
     "output_type": "stream",
     "text": [
      "/Users/nilsgamperli/PycharmProjects/StormMind/ai_engineering/datasets/NormalizedClusteredStormDamageDataset.py:46: UserWarning: To copy construct from a tensor, it is recommended to use sourceTensor.clone().detach() or sourceTensor.clone().detach().requires_grad_(True), rather than torch.tensor(sourceTensor).\n",
      "  mean = torch.tensor(self.mean, device=features.device)\n",
      "/Users/nilsgamperli/PycharmProjects/StormMind/ai_engineering/datasets/NormalizedClusteredStormDamageDataset.py:47: UserWarning: To copy construct from a tensor, it is recommended to use sourceTensor.clone().detach() or sourceTensor.clone().detach().requires_grad_(True), rather than torch.tensor(sourceTensor).\n",
      "  std = torch.tensor(self.std,  device=features.device)\n"
     ]
    }
   ],
   "execution_count": 245
  },
  {
   "metadata": {
    "ExecuteTime": {
     "end_time": "2025-05-03T16:46:28.872455Z",
     "start_time": "2025-05-03T16:46:28.733515Z"
    }
   },
   "cell_type": "code",
   "source": [
    "all_X_test, all_y_test = [], []\n",
    "for feat, lbl in test_dataset:\n",
    "    cur = feat[0].numpy()\n",
    "    all_X_test.append(cur)\n",
    "    all_y_test.append(1 if lbl > 0 else 0)\n",
    "all_X_test = np.vstack(all_X_test)\n",
    "all_y_test = np.array(all_y_test)"
   ],
   "id": "ba1ec972efb8416c",
   "outputs": [],
   "execution_count": 246
  },
  {
   "metadata": {
    "ExecuteTime": {
     "end_time": "2025-05-03T16:46:31.333337Z",
     "start_time": "2025-05-03T16:46:31.327926Z"
    }
   },
   "cell_type": "code",
   "source": "all_X_train.shape, all_y_train.shape, all_X_train.shape, all_y_test.shape",
   "id": "fe87dffdbc4aa00e",
   "outputs": [
    {
     "data": {
      "text/plain": [
       "((13146, 8), (13146,), (13146, 8), (3132,))"
      ]
     },
     "execution_count": 247,
     "metadata": {},
     "output_type": "execute_result"
    }
   ],
   "execution_count": 247
  },
  {
   "metadata": {
    "ExecuteTime": {
     "end_time": "2025-05-03T16:46:33.124299Z",
     "start_time": "2025-05-03T16:46:33.118883Z"
    }
   },
   "cell_type": "code",
   "source": [
    "all_X_train[:, 4] = all_X_train[:, 4] * std[4].numpy() + mean[4].numpy()\n",
    "all_X_test[:, 4] = all_X_test[:, 4] * std[4].numpy() + mean[4].numpy()"
   ],
   "id": "ec823cc5734f1eca",
   "outputs": [],
   "execution_count": 248
  },
  {
   "metadata": {
    "ExecuteTime": {
     "end_time": "2025-05-03T16:46:35.151315Z",
     "start_time": "2025-05-03T16:46:35.145819Z"
    }
   },
   "cell_type": "code",
   "source": "np.unique(all_X_train[:,4])",
   "id": "fd6be39a147d3e2a",
   "outputs": [
    {
     "data": {
      "text/plain": [
       "array([ 1.,  2.,  3.,  4.,  5.,  6.,  7.,  8.,  9., 10., 11., 12.],\n",
       "      dtype=float32)"
      ]
     },
     "execution_count": 249,
     "metadata": {},
     "output_type": "execute_result"
    }
   ],
   "execution_count": 249
  },
  {
   "metadata": {
    "ExecuteTime": {
     "end_time": "2025-05-03T16:46:36.617412Z",
     "start_time": "2025-05-03T16:46:36.612400Z"
    }
   },
   "cell_type": "code",
   "source": [
    "# put months into seasons:\n",
    "def month_to_season(months):\n",
    "    # months is a NumPy array of shape (N,)\n",
    "    return np.select(\n",
    "        [np.isin(months, [12, 1, 2]),\n",
    "         np.isin(months, [3, 4, 5]),\n",
    "         np.isin(months, [6, 7, 8]),\n",
    "         np.isin(months, [9, 10, 11])],\n",
    "        [0, 1, 2, 3]\n",
    "    )"
   ],
   "id": "60a06f6798e8d9cb",
   "outputs": [],
   "execution_count": 250
  },
  {
   "metadata": {
    "ExecuteTime": {
     "end_time": "2025-05-03T16:46:38.739116Z",
     "start_time": "2025-05-03T16:46:38.731011Z"
    }
   },
   "cell_type": "code",
   "source": [
    "all_X_train[:, 4] = month_to_season(all_X_train[:, 4].astype(int))\n",
    "all_X_test[:, 4] = month_to_season(all_X_test[:, 4].astype(int))"
   ],
   "id": "327f23c4b36f96a1",
   "outputs": [],
   "execution_count": 251
  },
  {
   "metadata": {
    "ExecuteTime": {
     "end_time": "2025-05-03T16:46:40.272098Z",
     "start_time": "2025-05-03T16:46:40.266031Z"
    }
   },
   "cell_type": "code",
   "source": "np.unique(all_X_train[:,4]), np.unique(all_X_test[:,4])",
   "id": "5eadb0346d3a9d1e",
   "outputs": [
    {
     "data": {
      "text/plain": [
       "(array([0., 1., 2., 3.], dtype=float32),\n",
       " array([0., 1., 2., 3.], dtype=float32))"
      ]
     },
     "execution_count": 252,
     "metadata": {},
     "output_type": "execute_result"
    }
   ],
   "execution_count": 252
  },
  {
   "metadata": {},
   "cell_type": "markdown",
   "source": [
    "Row features:\n",
    "t2m, sun, rain, snow, date_tensor, label_old, lat_tensor, long_tensor"
   ],
   "id": "da7082f74fa51325"
  },
  {
   "metadata": {
    "ExecuteTime": {
     "end_time": "2025-05-03T16:59:22.388525Z",
     "start_time": "2025-05-03T16:59:22.375474Z"
    }
   },
   "cell_type": "code",
   "source": [
    "X_train = np.concatenate((all_X_train[:, :3], all_X_train[:, 4:8]), axis=1)\n",
    "X_test = np.concatenate((all_X_test[:, :3], all_X_test[:, 4:8]), axis=1)"
   ],
   "id": "e96282fbf8f59c90",
   "outputs": [],
   "execution_count": 302
  },
  {
   "metadata": {
    "ExecuteTime": {
     "end_time": "2025-05-03T17:04:52.242051Z",
     "start_time": "2025-05-03T17:04:52.226360Z"
    }
   },
   "cell_type": "code",
   "source": "",
   "id": "d23da15b5ff40f0b",
   "outputs": [
    {
     "data": {
      "text/plain": [
       "array([[-1.5121783 ,  0.8958607 ],\n",
       "       [-0.8187152 , -0.4371171 ],\n",
       "       [-0.6945759 , -0.8197718 ],\n",
       "       [-0.45970234, -1.5437608 ],\n",
       "       [ 0.57930934,  1.4305598 ],\n",
       "       [ 0.5843975 ,  1.4228282 ],\n",
       "       [ 0.897354  , -0.681327  ],\n",
       "       [ 0.9043213 , -0.66375816],\n",
       "       [ 0.9136381 , -0.64026505],\n",
       "       [ 0.9334857 , -0.5902174 ],\n",
       "       [ 1.0105203 , -0.3959666 ],\n",
       "       [ 1.0247493 , -0.36008686],\n",
       "       [ 1.060204  , -0.27068424],\n",
       "       [ 1.1017642 , -0.16588612],\n",
       "       [ 1.1493247 , -0.04595742],\n",
       "       [ 1.2465516 ,  0.19921002],\n",
       "       [ 1.2908598 ,  0.31093773],\n",
       "       [ 1.3003677 ,  0.33491284]], dtype=float32)"
      ]
     },
     "execution_count": 316,
     "metadata": {},
     "output_type": "execute_result"
    }
   ],
   "execution_count": 316
  },
  {
   "metadata": {
    "ExecuteTime": {
     "end_time": "2025-05-03T16:59:23.770905Z",
     "start_time": "2025-05-03T16:59:23.747157Z"
    }
   },
   "cell_type": "code",
   "source": [
    "smote = SMOTE(random_state=42)\n",
    "X_train, y_train = smote.fit_resample(X_train, all_y_train)"
   ],
   "id": "fd082e0d0973fc2d",
   "outputs": [],
   "execution_count": 303
  },
  {
   "metadata": {
    "ExecuteTime": {
     "end_time": "2025-05-03T16:59:25.605892Z",
     "start_time": "2025-05-03T16:59:25.600851Z"
    }
   },
   "cell_type": "code",
   "source": "X_train.shape, y_train.shape",
   "id": "b6951388d7d869de",
   "outputs": [
    {
     "data": {
      "text/plain": [
       "((20548, 7), (20548,))"
      ]
     },
     "execution_count": 304,
     "metadata": {},
     "output_type": "execute_result"
    }
   ],
   "execution_count": 304
  },
  {
   "metadata": {
    "ExecuteTime": {
     "end_time": "2025-05-03T17:22:52.196591Z",
     "start_time": "2025-05-03T17:22:52.190977Z"
    }
   },
   "cell_type": "code",
   "source": "np.unique(all_y_train), np.unique(all_y_test)",
   "id": "33eb9b2d7653c67c",
   "outputs": [
    {
     "data": {
      "text/plain": [
       "(array([0, 1]), array([0, 1]))"
      ]
     },
     "execution_count": 353,
     "metadata": {},
     "output_type": "execute_result"
    }
   ],
   "execution_count": 353
  },
  {
   "metadata": {
    "ExecuteTime": {
     "end_time": "2025-05-03T17:22:49.723599Z",
     "start_time": "2025-05-03T17:22:49.716921Z"
    }
   },
   "cell_type": "code",
   "source": [
    "class SimpleMLP(nn.Module):\n",
    "    def __init__(self):\n",
    "        super(SimpleMLP, self).__init__()\n",
    "        self.net = nn.Sequential(\n",
    "            nn.Linear(7,16),\n",
    "            nn.Dropout(0.3),\n",
    "            nn.ReLU(),\n",
    "            nn.Linear(16, 32),\n",
    "            nn.ReLU(),\n",
    "            nn.Linear(32, 32),\n",
    "            nn.ReLU(),\n",
    "            nn.Dropout(0.3),\n",
    "            nn.Linear(32, 16),\n",
    "            nn.ReLU(),\n",
    "            nn.Linear(16, 2)\n",
    "        )\n",
    "\n",
    "    def forward(self, x):\n",
    "        return self.net(x)"
   ],
   "id": "5beea0cc422da894",
   "outputs": [],
   "execution_count": 352
  },
  {
   "metadata": {
    "ExecuteTime": {
     "end_time": "2025-05-03T17:22:55.258681Z",
     "start_time": "2025-05-03T17:22:55.243014Z"
    }
   },
   "cell_type": "code",
   "source": [
    "coords = X_train[:, 5:7]\n",
    "unique_coords, coord_indices = np.unique(coords, axis=0, return_inverse=True)\n",
    "unique_coords"
   ],
   "id": "f1c092f9c99895be",
   "outputs": [
    {
     "data": {
      "text/plain": [
       "array([[-1.5121783 ,  0.8958607 ],\n",
       "       [-0.8187152 , -0.4371171 ],\n",
       "       [-0.6945759 , -0.8197718 ],\n",
       "       [-0.45970234, -1.5437608 ],\n",
       "       [ 0.57930934,  1.4305598 ],\n",
       "       [ 0.5843975 ,  1.4228282 ],\n",
       "       [ 0.897354  , -0.681327  ],\n",
       "       [ 0.9043213 , -0.66375816],\n",
       "       [ 0.9136381 , -0.64026505],\n",
       "       [ 0.9334857 , -0.5902174 ],\n",
       "       [ 1.0105203 , -0.3959666 ],\n",
       "       [ 1.0247493 , -0.36008686],\n",
       "       [ 1.060204  , -0.27068424],\n",
       "       [ 1.1017642 , -0.16588612],\n",
       "       [ 1.1493247 , -0.04595742],\n",
       "       [ 1.2465516 ,  0.19921002],\n",
       "       [ 1.2908598 ,  0.31093773],\n",
       "       [ 1.3003677 ,  0.33491284]], dtype=float32)"
      ]
     },
     "execution_count": 354,
     "metadata": {},
     "output_type": "execute_result"
    }
   ],
   "execution_count": 354
  },
  {
   "metadata": {
    "ExecuteTime": {
     "end_time": "2025-05-03T17:22:57.036346Z",
     "start_time": "2025-05-03T17:22:57.031946Z"
    }
   },
   "cell_type": "code",
   "source": [
    "from torch.utils.data import TensorDataset, DataLoader\n",
    "\n",
    "X_train_tensor = torch.tensor(X_train, dtype=torch.float32)\n",
    "y_train_tensor = torch.tensor(y_train, dtype=torch.long)\n",
    "X_test_tensor = torch.tensor(X_test, dtype=torch.float32)\n",
    "y_test_tensor = torch.tensor(all_y_test, dtype=torch.long)\n",
    "\n",
    "# Dataset and DataLoader\n",
    "train_ds = TensorDataset(X_train_tensor, y_train_tensor)\n",
    "test_ds = TensorDataset(X_test_tensor, y_test_tensor)\n",
    "\n",
    "train_loader = DataLoader(train_ds, batch_size=32, shuffle=False)\n",
    "test_loader = DataLoader(test_ds, batch_size=32)\n"
   ],
   "id": "358a63953f1b9e34",
   "outputs": [],
   "execution_count": 355
  },
  {
   "metadata": {
    "ExecuteTime": {
     "end_time": "2025-05-03T17:33:08.074108Z",
     "start_time": "2025-05-03T17:33:08.067008Z"
    }
   },
   "cell_type": "code",
   "source": [
    "def validate(model, dataloader, criterion):\n",
    "    model.eval()\n",
    "    running_loss = 0.0\n",
    "    all_preds = []\n",
    "    all_labels = []\n",
    "\n",
    "    with torch.no_grad():\n",
    "       for input, labels in dataloader:\n",
    "            outputs= model(input)\n",
    "            loss = criterion(outputs, labels)\n",
    "\n",
    "            running_loss += loss.item()\n",
    "            predictions = torch.argmax(outputs, dim=1)\n",
    "            threshold = 0.4 # Example: more conservative, favors precision\n",
    "            predictions = (predictions >= threshold).long()\n",
    "\n",
    "            all_preds.append(predictions)\n",
    "            all_labels.append(labels)\n",
    "\n",
    "    all_labels = np.concatenate(all_labels)\n",
    "    all_pred = np.concatenate(all_preds)\n",
    "    report =  classification_report(all_labels, all_pred, zero_division=0.0, output_dict=True)\n",
    "    cm = confusion_matrix(all_labels, all_pred)\n",
    "    accuracy = report[\"accuracy\"]\n",
    "    f1 = report[\"macro avg\"][\"f1-score\"]\n",
    "    return running_loss / len(dataloader), report, accuracy, cm, f1"
   ],
   "id": "b54cce6201dc4e0d",
   "outputs": [],
   "execution_count": 382
  },
  {
   "metadata": {
    "ExecuteTime": {
     "end_time": "2025-05-03T17:33:07.995506Z",
     "start_time": "2025-05-03T17:32:45.759471Z"
    }
   },
   "cell_type": "code",
   "source": [
    "from sklearn.utils import compute_class_weight\n",
    "\n",
    "\n",
    "model = SimpleMLP()\n",
    "# Class weights\n",
    "\n",
    "weights = compute_class_weight(class_weight='balanced', classes=np.array([0, 1]), y=y_train)\n",
    "weights = torch.tensor(weights, dtype=torch.float32)\n",
    "criterion = nn.CrossEntropyLoss(weight=weights)\n",
    "optimizer = torch.optim.Adam(model.parameters(), lr=1e-5)\n",
    "scheduler = lr_scheduler.LinearLR(optimizer, start_factor=0.1, end_factor=1, total_iters=100)\n",
    "\n",
    "\n",
    "# Training loop\n",
    "train_losses = []\n",
    "val_losses = []\n",
    "accs = []\n",
    "f1s = []\n",
    "for epoch in range(100):\n",
    "    model.train()\n",
    "    running_loss = 0.0\n",
    "    for xb, yb in train_loader:\n",
    "        logits = model(xb)\n",
    "        loss = criterion(logits, yb)\n",
    "        optimizer.zero_grad()\n",
    "        loss.backward()\n",
    "        optimizer.step()\n",
    "        running_loss += loss.item()\n",
    "\n",
    "    avg_train_loss = running_loss / len(train_loader)\n",
    "    train_losses.append(avg_train_loss)\n",
    "\n",
    "    val_loss, _, acc, _, f1 = validate(model, test_loader, criterion)\n",
    "    val_losses.append(val_loss)\n",
    "    accs.append(acc)\n",
    "    f1s.append(f1)\n",
    "    scheduler.step()\n",
    "\n",
    "    print(f\"Epoch {epoch+1}: Train Loss = {avg_train_loss:.4f} | Val Loss = {val_loss:.4f} | Accuracy = {acc:.4f}\")\n"
   ],
   "id": "e9674b5607b934f1",
   "outputs": [
    {
     "name": "stdout",
     "output_type": "stream",
     "text": [
      "dict_values([{'precision': 0.7586206896551724, 'recall': 0.039603960396039604, 'f1-score': 0.07527801539777587, 'support': 2222.0}, {'precision': 0.29244031830238726, 'recall': 0.9692307692307692, 'f1-score': 0.4493122771268467, 'support': 910.0}, 0.30970625798212004, {'precision': 0.5255305039787799, 'recall': 0.5044173648134044, 'f1-score': 0.26229514626231126, 'support': 3132.0}, {'precision': 0.6231723697538204, 'recall': 0.30970625798212004, 'f1-score': 0.18395335964217382, 'support': 3132.0}])\n",
      "Epoch 1: Train Loss = 0.6920 | Val Loss = 0.6976 | Accuracy = 0.3097\n",
      "dict_values([{'precision': 0.7627118644067796, 'recall': 0.0405040504050405, 'f1-score': 0.07692307692307693, 'support': 2222.0}, {'precision': 0.29263437292634376, 'recall': 0.9692307692307692, 'f1-score': 0.44954128440366975, 'support': 910.0}, 0.3103448275862069, {'precision': 0.5276731186665617, 'recall': 0.5048674098179049, 'f1-score': 0.26323218066337334, 'support': 3132.0}, {'precision': 0.6261312394874958, 'recall': 0.3103448275862069, 'f1-score': 0.18518698778110357, 'support': 3132.0}])\n",
      "Epoch 2: Train Loss = 0.6921 | Val Loss = 0.6975 | Accuracy = 0.3103\n",
      "dict_values([{'precision': 0.7704918032786885, 'recall': 0.0423042304230423, 'f1-score': 0.08020477815699659, 'support': 2222.0}, {'precision': 0.2930232558139535, 'recall': 0.9692307692307692, 'f1-score': 0.45, 'support': 910.0}, 0.3116219667943806, {'precision': 0.531757529546321, 'recall': 0.5057674998269057, 'f1-score': 0.2651023890784983, 'support': 3132.0}, {'precision': 0.6317637131787814, 'recall': 0.3116219667943806, 'f1-score': 0.1876484728814963, 'support': 3132.0}])\n",
      "Epoch 3: Train Loss = 0.6919 | Val Loss = 0.6975 | Accuracy = 0.3116\n",
      "dict_values([{'precision': 0.776, 'recall': 0.043654365436543656, 'f1-score': 0.08265871325095867, 'support': 2222.0}, {'precision': 0.2933155969404722, 'recall': 0.9692307692307692, 'f1-score': 0.45034465151901965, 'support': 910.0}, 0.31257982120051087, {'precision': 0.5346577984702361, 'recall': 0.5064425673336564, 'f1-score': 0.26650168238498917, 'support': 3132.0}, {'precision': 0.6357564473869188, 'recall': 0.31257982120051087, 'f1-score': 0.18948955738376055, 'support': 3132.0}])\n",
      "Epoch 4: Train Loss = 0.6919 | Val Loss = 0.6974 | Accuracy = 0.3126\n",
      "dict_values([{'precision': 0.7835820895522388, 'recall': 0.047254725472547256, 'f1-score': 0.08913412563667232, 'support': 2222.0}, {'precision': 0.2938625750500334, 'recall': 0.9681318681318681, 'f1-score': 0.4508700102354145, 'support': 910.0}, 0.3148148148148148, {'precision': 0.5387223323011361, 'recall': 0.5076932968022076, 'f1-score': 0.2700020679360434, 'support': 3132.0}, {'precision': 0.6412944911496185, 'recall': 0.3148148148148148, 'f1-score': 0.1942361866152341, 'support': 3132.0}])\n",
      "Epoch 5: Train Loss = 0.6918 | Val Loss = 0.6973 | Accuracy = 0.3148\n",
      "dict_values([{'precision': 0.7898550724637681, 'recall': 0.049054905490549056, 'f1-score': 0.0923728813559322, 'support': 2222.0}, {'precision': 0.2942551770207081, 'recall': 0.9681318681318681, 'f1-score': 0.45133196721311475, 'support': 910.0}, 0.3160919540229885, {'precision': 0.542055124742238, 'recall': 0.5085933868112086, 'f1-score': 0.2718524242845235, 'support': 3132.0}, {'precision': 0.6458589342603248, 'recall': 0.3160919540229885, 'f1-score': 0.19666814576526684, 'support': 3132.0}])\n",
      "Epoch 6: Train Loss = 0.6916 | Val Loss = 0.6972 | Accuracy = 0.3161\n",
      "dict_values([{'precision': 0.7902097902097902, 'recall': 0.050855085508550855, 'f1-score': 0.09556025369978859, 'support': 2222.0}, {'precision': 0.29441284710605553, 'recall': 0.967032967032967, 'f1-score': 0.4513977943062324, 'support': 910.0}, 0.3170498084291188, {'precision': 0.5423113186579229, 'recall': 0.508944026270759, 'f1-score': 0.2734790240030105, 'support': 3132.0}, {'precision': 0.646156399972115, 'recall': 0.3170498084291188, 'f1-score': 0.19894855572784217, 'support': 3132.0}])\n",
      "Epoch 7: Train Loss = 0.6914 | Val Loss = 0.6972 | Accuracy = 0.3170\n",
      "dict_values([{'precision': 0.823170731707317, 'recall': 0.06075607560756076, 'f1-score': 0.11316010058675607, 'support': 2222.0}, {'precision': 0.29683288409703507, 'recall': 0.9681318681318681, 'f1-score': 0.45435791645177925, 'support': 910.0}, 0.3243933588761175, {'precision': 0.560001807902176, 'recall': 0.5144439718697145, 'f1-score': 0.28375900851926766, 'support': 3132.0}, {'precision': 0.6702437070185059, 'recall': 0.3243933588761175, 'f1-score': 0.21229484274421812, 'support': 3132.0}])\n",
      "Epoch 8: Train Loss = 0.6912 | Val Loss = 0.6971 | Accuracy = 0.3244\n",
      "dict_values([{'precision': 0.8571428571428571, 'recall': 0.0783078307830783, 'f1-score': 0.14350515463917526, 'support': 2222.0}, {'precision': 0.30078525093888697, 'recall': 0.9681318681318681, 'f1-score': 0.4589736910653816, 'support': 910.0}, 0.33684546615581096, {'precision': 0.578964054040872, 'recall': 0.5232198494574732, 'f1-score': 0.30123942285227845, 'support': 3132.0}, {'precision': 0.6954936165152668, 'recall': 0.33684546615581096, 'f1-score': 0.23516427601460557, 'support': 3132.0}])\n",
      "Epoch 9: Train Loss = 0.6913 | Val Loss = 0.6970 | Accuracy = 0.3368\n",
      "dict_values([{'precision': 0.8765957446808511, 'recall': 0.0927092709270927, 'f1-score': 0.1676841676841677, 'support': 2222.0}, {'precision': 0.30410769761822576, 'recall': 0.9681318681318681, 'f1-score': 0.46283162595219335, 'support': 910.0}, 0.34706257982120053, {'precision': 0.5903517211495384, 'recall': 0.5304205695294805, 'f1-score': 0.3152578968181805, 'support': 3132.0}, {'precision': 0.7102598178523106, 'recall': 0.34706257982120053, 'f1-score': 0.2534390166700883, 'support': 3132.0}])\n",
      "Epoch 10: Train Loss = 0.6911 | Val Loss = 0.6969 | Accuracy = 0.3471\n",
      "dict_values([{'precision': 0.8803088803088803, 'recall': 0.10261026102610261, 'f1-score': 0.1837968561064087, 'support': 2222.0}, {'precision': 0.30595196658545076, 'recall': 0.9659340659340659, 'f1-score': 0.464710547184774, 'support': 910.0}, 0.35344827586206895, {'precision': 0.5931304234471655, 'recall': 0.5342721634800843, 'f1-score': 0.32425370164559136, 'support': 3132.0}, {'precision': 0.713429955823465, 'recall': 0.35344827586206895, 'f1-score': 0.2654160958513999, 'support': 3132.0}])\n",
      "Epoch 11: Train Loss = 0.6911 | Val Loss = 0.6968 | Accuracy = 0.3534\n",
      "dict_values([{'precision': 0.8791208791208791, 'recall': 0.10801080108010801, 'f1-score': 0.19238476953907815, 'support': 2222.0}, {'precision': 0.3067506121021336, 'recall': 0.9637362637362638, 'f1-score': 0.46537543114884583, 'support': 910.0}, 0.3566411238825032, {'precision': 0.5929357456115063, 'recall': 0.5358735324081859, 'f1-score': 0.328880100343962, 'support': 3132.0}, {'precision': 0.7128191731863138, 'recall': 0.3566411238825032, 'f1-score': 0.27170197964919585, 'support': 3132.0}])\n",
      "Epoch 12: Train Loss = 0.6906 | Val Loss = 0.6967 | Accuracy = 0.3566\n",
      "dict_values([{'precision': 0.8817204301075269, 'recall': 0.11071107110711072, 'f1-score': 0.19672131147540983, 'support': 2222.0}, {'precision': 0.3073957237995093, 'recall': 0.9637362637362638, 'f1-score': 0.4661174594738241, 'support': 910.0}, 0.35855683269476374, {'precision': 0.5945580769535181, 'recall': 0.5372236674216873, 'f1-score': 0.33141938547461697, 'support': 3132.0}, {'precision': 0.7148508634599228, 'recall': 0.35855683269476374, 'f1-score': 0.27499413863970007, 'support': 3132.0}])\n",
      "Epoch 13: Train Loss = 0.6907 | Val Loss = 0.6966 | Accuracy = 0.3586\n",
      "dict_values([{'precision': 0.8869257950530035, 'recall': 0.11296129612961296, 'f1-score': 0.20039920159680638, 'support': 2222.0}, {'precision': 0.30817830817830816, 'recall': 0.9648351648351648, 'f1-score': 0.46714551742484706, 'support': 910.0}, 0.3604725415070243, {'precision': 0.5975520516156558, 'recall': 0.5388982304823889, 'f1-score': 0.33377235951082673, 'support': 3132.0}, {'precision': 0.7187711931832804, 'recall': 0.3604725415070243, 'f1-score': 0.27790212222372757, 'support': 3132.0}])\n",
      "Epoch 14: Train Loss = 0.6905 | Val Loss = 0.6965 | Accuracy = 0.3605\n",
      "dict_values([{'precision': 0.8801261829652997, 'recall': 0.12556255625562557, 'f1-score': 0.21977156360771957, 'support': 2222.0}, {'precision': 0.30976909413854353, 'recall': 0.9582417582417583, 'f1-score': 0.46818791946308724, 'support': 910.0}, 0.3674968071519796, {'precision': 0.5949476385519216, 'recall': 0.541902157248692, 'f1-score': 0.3439797415354034, 'support': 3132.0}, {'precision': 0.7144094042831961, 'recall': 0.3674968071519796, 'f1-score': 0.29194872958102247, 'support': 3132.0}])\n",
      "Epoch 15: Train Loss = 0.6902 | Val Loss = 0.6963 | Accuracy = 0.3675\n",
      "dict_values([{'precision': 0.8813056379821959, 'recall': 0.13366336633663367, 'f1-score': 0.2321219226260258, 'support': 2222.0}, {'precision': 0.3112701252236136, 'recall': 0.9560439560439561, 'f1-score': 0.46963562753036436, 'support': 910.0}, 0.3726053639846743, {'precision': 0.5962878816029047, 'recall': 0.5448536611902949, 'f1-score': 0.3508787750781951, 'support': 3132.0}, {'precision': 0.7156822929597471, 'recall': 0.3726053639846743, 'f1-score': 0.30113133241623913, 'support': 3132.0}])\n",
      "Epoch 16: Train Loss = 0.6899 | Val Loss = 0.6962 | Accuracy = 0.3726\n",
      "dict_values([{'precision': 0.8808864265927978, 'recall': 0.14311431143114312, 'f1-score': 0.2462253193960511, 'support': 2222.0}, {'precision': 0.3128834355828221, 'recall': 0.9527472527472527, 'f1-score': 0.4710676446617767, 'support': 910.0}, 0.3783524904214559, {'precision': 0.5968849310878099, 'recall': 0.5479307820891979, 'f1-score': 0.3586464820289139, 'support': 3132.0}, {'precision': 0.7158536290771279, 'recall': 0.3783524904214559, 'f1-score': 0.3115530703512907, 'support': 3132.0}])\n",
      "Epoch 17: Train Loss = 0.6899 | Val Loss = 0.6961 | Accuracy = 0.3784\n",
      "dict_values([{'precision': 0.8733850129198967, 'recall': 0.15211521152115212, 'f1-score': 0.25910310463779224, 'support': 2222.0}, {'precision': 0.31366120218579235, 'recall': 0.9461538461538461, 'f1-score': 0.4711354309165527, 'support': 910.0}, 0.38282247765006383, {'precision': 0.5935231075528445, 'recall': 0.5491345288374991, 'f1-score': 0.36511926777717246, 'support': 3132.0}, {'precision': 0.7107577243604986, 'recall': 0.38282247765006383, 'f1-score': 0.32070892102146786, 'support': 3132.0}])\n",
      "Epoch 18: Train Loss = 0.6897 | Val Loss = 0.6959 | Accuracy = 0.3828\n",
      "dict_values([{'precision': 0.8726899383983573, 'recall': 0.19126912691269127, 'f1-score': 0.3137689184200812, 'support': 2222.0}, {'precision': 0.3206049149338374, 'recall': 0.9318681318681319, 'f1-score': 0.4770745428973277, 'support': 910.0}, 0.40644955300127716, {'precision': 0.5966474266660974, 'recall': 0.5615686293904116, 'f1-score': 0.39542173065870445, 'support': 3132.0}, {'precision': 0.7122820931388704, 'recall': 0.40644955300127716, 'f1-score': 0.3612172320453348, 'support': 3132.0}])\n",
      "Epoch 19: Train Loss = 0.6891 | Val Loss = 0.6958 | Accuracy = 0.4064\n",
      "dict_values([{'precision': 0.8576642335766423, 'recall': 0.21152115211521152, 'f1-score': 0.33935018050541516, 'support': 2222.0}, {'precision': 0.3219814241486068, 'recall': 0.9142857142857143, 'f1-score': 0.4762449914138523, 'support': 910.0}, 0.4157088122605364, {'precision': 0.5898228288626246, 'recall': 0.5629034332004629, 'f1-score': 0.4077975859596337, 'support': 3132.0}, {'precision': 0.7020220379893141, 'recall': 0.4157088122605364, 'f1-score': 0.3791248541729368, 'support': 3132.0}])\n",
      "Epoch 20: Train Loss = 0.6889 | Val Loss = 0.6956 | Accuracy = 0.4157\n",
      "dict_values([{'precision': 0.8471544715447155, 'recall': 0.23447344734473446, 'f1-score': 0.36728939020091644, 'support': 2222.0}, {'precision': 0.32419547079856975, 'recall': 0.8967032967032967, 'f1-score': 0.4762182667055734, 'support': 910.0}, 0.4268837803320562, {'precision': 0.5856749711716426, 'recall': 0.5655883720240156, 'f1-score': 0.42175382845324494, 'support': 3132.0}, {'precision': 0.6952091680073615, 'recall': 0.4268837803320562, 'f1-score': 0.39893858484307415, 'support': 3132.0}])\n",
      "Epoch 21: Train Loss = 0.6888 | Val Loss = 0.6954 | Accuracy = 0.4269\n",
      "dict_values([{'precision': 0.8446455505279035, 'recall': 0.252025202520252, 'f1-score': 0.3882149046793761, 'support': 2222.0}, {'precision': 0.3268529769137303, 'recall': 0.8868131868131868, 'f1-score': 0.4776561112755253, 'support': 910.0}, 0.43646232439335886, {'precision': 0.5857492637208168, 'recall': 0.5694191946667194, 'f1-score': 0.43293550797745073, 'support': 3132.0}, {'precision': 0.6942013481048838, 'recall': 0.43646232439335886, 'f1-score': 0.4142019730071206, 'support': 3132.0}])\n",
      "Epoch 22: Train Loss = 0.6887 | Val Loss = 0.6952 | Accuracy = 0.4365\n",
      "dict_values([{'precision': 0.8359712230215828, 'recall': 0.26147614761476146, 'f1-score': 0.3983544737744258, 'support': 2222.0}, {'precision': 0.32663110381616745, 'recall': 0.8747252747252747, 'f1-score': 0.4756498356737377, 'support': 910.0}, 0.4396551724137931, {'precision': 0.5813011634188752, 'recall': 0.568100711170018, 'f1-score': 0.43700215472408177, 'support': 3132.0}, {'precision': 0.687982874210303, 'recall': 0.4396551724137931, 'f1-score': 0.42081257700826163, 'support': 3132.0}])\n",
      "Epoch 23: Train Loss = 0.6882 | Val Loss = 0.6950 | Accuracy = 0.4397\n",
      "dict_values([{'precision': 0.8326474622770919, 'recall': 0.2731773177317732, 'f1-score': 0.41138597085733647, 'support': 2222.0}, {'precision': 0.32792342904702454, 'recall': 0.865934065934066, 'f1-score': 0.4757017808632659, 'support': 910.0}, 0.4454022988505747, {'precision': 0.5802854456620582, 'recall': 0.5695556918329195, 'f1-score': 0.4435438758603012, 'support': 3132.0}, {'precision': 0.6860003134139496, 'recall': 0.4454022988505747, 'f1-score': 0.4300728760634015, 'support': 3132.0}])\n",
      "Epoch 24: Train Loss = 0.6877 | Val Loss = 0.6948 | Accuracy = 0.4454\n",
      "dict_values([{'precision': 0.8236074270557029, 'recall': 0.27947794779477947, 'f1-score': 0.4173387096774194, 'support': 2222.0}, {'precision': 0.3267451640033642, 'recall': 0.8538461538461538, 'f1-score': 0.4726277372262774, 'support': 910.0}, 0.446360153256705, {'precision': 0.5751762955295335, 'recall': 0.5666620508204666, 'f1-score': 0.4449832234518484, 'support': 3132.0}, {'precision': 0.679244508991326, 'recall': 0.446360153256705, 'f1-score': 0.43340289073407995, 'support': 3132.0}])\n",
      "Epoch 25: Train Loss = 0.6875 | Val Loss = 0.6946 | Accuracy = 0.4464\n",
      "dict_values([{'precision': 0.8263090676883781, 'recall': 0.2911791179117912, 'f1-score': 0.43061564059900165, 'support': 2222.0}, {'precision': 0.32950191570881227, 'recall': 0.8505494505494505, 'f1-score': 0.4749923289352562, 'support': 910.0}, 0.4537037037037037, {'precision': 0.5779054916985952, 'recall': 0.5708642842306209, 'f1-score': 0.4528039847671289, 'support': 3132.0}, {'precision': 0.6819621621004455, 'recall': 0.4537037037037037, 'f1-score': 0.4435092505562148, 'support': 3132.0}])\n",
      "Epoch 26: Train Loss = 0.6873 | Val Loss = 0.6943 | Accuracy = 0.4537\n",
      "dict_values([{'precision': 0.8262454434993924, 'recall': 0.30603060306030605, 'f1-score': 0.4466338259441708, 'support': 2222.0}, {'precision': 0.33217843222174104, 'recall': 0.8428571428571429, 'f1-score': 0.47654551102826964, 'support': 910.0}, 0.4620051085568327, {'precision': 0.5792119378605667, 'recall': 0.5744438729587245, 'f1-score': 0.4615896684862202, 'support': 3132.0}, {'precision': 0.6826946835176994, 'recall': 0.4620051085568327, 'f1-score': 0.45532464121445493, 'support': 3132.0}])\n",
      "Epoch 27: Train Loss = 0.6865 | Val Loss = 0.6941 | Accuracy = 0.4620\n",
      "dict_values([{'precision': 0.8261851015801355, 'recall': 0.32943294329432943, 'f1-score': 0.47104247104247104, 'support': 2222.0}, {'precision': 0.3365983971504898, 'recall': 0.8307692307692308, 'f1-score': 0.4790874524714829, 'support': 910.0}, 0.47509578544061304, {'precision': 0.5813917493653127, 'recall': 0.5801010870317801, 'f1-score': 0.475064961756977, 'support': 3132.0}, {'precision': 0.6839360910338464, 'recall': 0.47509578544061304, 'f1-score': 0.47337993371820564, 'support': 3132.0}])\n",
      "Epoch 28: Train Loss = 0.6863 | Val Loss = 0.6938 | Accuracy = 0.4751\n",
      "dict_values([{'precision': 0.8252631578947368, 'recall': 0.35283528352835286, 'f1-score': 0.4943253467843632, 'support': 2222.0}, {'precision': 0.34097158570119157, 'recall': 0.8175824175824176, 'f1-score': 0.48124191461837, 'support': 910.0}, 0.4878671775223499, {'precision': 0.5831173717979642, 'recall': 0.5852088505553852, 'f1-score': 0.4877836307013666, 'support': 3132.0}, {'precision': 0.6845526436239431, 'recall': 0.4878671775223499, 'f1-score': 0.4905239664296206, 'support': 3132.0}])\n",
      "Epoch 29: Train Loss = 0.6858 | Val Loss = 0.6935 | Accuracy = 0.4879\n",
      "dict_values([{'precision': 0.8265107212475633, 'recall': 0.38163816381638166, 'f1-score': 0.5221674876847291, 'support': 2222.0}, {'precision': 0.3475783475783476, 'recall': 0.8043956043956044, 'f1-score': 0.4854111405835544, 'support': 910.0}, 0.5044699872286079, {'precision': 0.5870445344129555, 'recall': 0.5930168841059931, 'f1-score': 0.5037893141341417, 'support': 3132.0}, {'precision': 0.6873573176591259, 'recall': 0.5044699872286079, 'f1-score': 0.5114879615474146, 'support': 3132.0}])\n",
      "Epoch 30: Train Loss = 0.6858 | Val Loss = 0.6932 | Accuracy = 0.5045\n",
      "dict_values([{'precision': 0.8331822302810517, 'recall': 0.4135913591359136, 'f1-score': 0.552781954887218, 'support': 2222.0}, {'precision': 0.3578117299162149, 'recall': 0.7978021978021979, 'f1-score': 0.49404559373936713, 'support': 910.0}, 0.5252234993614304, {'precision': 0.5954969800986333, 'recall': 0.6056967784690557, 'f1-score': 0.5234137743132926, 'support': 3132.0}, {'precision': 0.6950637260243462, 'recall': 0.5252234993614304, 'f1-score': 0.5357161539151413, 'support': 3132.0}])\n",
      "Epoch 31: Train Loss = 0.6855 | Val Loss = 0.6929 | Accuracy = 0.5252\n",
      "dict_values([{'precision': 0.8341880341880342, 'recall': 0.43924392439243926, 'f1-score': 0.5754716981132075, 'support': 2222.0}, {'precision': 0.36493374108053006, 'recall': 0.7868131868131868, 'f1-score': 0.4986072423398329, 'support': 910.0}, 0.5402298850574713, {'precision': 0.5995608876342822, 'recall': 0.613028555602813, 'f1-score': 0.5370394702265202, 'support': 3132.0}, {'precision': 0.6978465888726355, 'recall': 0.5402298850574713, 'f1-score': 0.5531387942965501, 'support': 3132.0}])\n",
      "Epoch 32: Train Loss = 0.6843 | Val Loss = 0.6926 | Accuracy = 0.5402\n",
      "dict_values([{'precision': 0.8337428337428338, 'recall': 0.45814581458145814, 'f1-score': 0.5913447574789428, 'support': 2222.0}, {'precision': 0.36996336996337, 'recall': 0.7769230769230769, 'f1-score': 0.5012406947890818, 'support': 910.0}, 0.5507662835249042, {'precision': 0.6018531018531019, 'recall': 0.6175344457522676, 'f1-score': 0.5462927261340123, 'support': 3132.0}, {'precision': 0.6989920955438197, 'recall': 0.5507662835249042, 'f1-score': 0.565165096863434, 'support': 3132.0}])\n",
      "Epoch 33: Train Loss = 0.6839 | Val Loss = 0.6923 | Accuracy = 0.5508\n",
      "dict_values([{'precision': 0.8330708661417323, 'recall': 0.47614761476147616, 'f1-score': 0.6059564719358533, 'support': 2222.0}, {'precision': 0.3748657357679914, 'recall': 0.7670329670329671, 'f1-score': 0.5036075036075036, 'support': 910.0}, 0.5606641123882503, {'precision': 0.6039683009548619, 'recall': 0.6215902908972216, 'f1-score': 0.5547819877716784, 'support': 3132.0}, {'precision': 0.6999397458862712, 'recall': 0.5606641123882503, 'f1-score': 0.5762190641520736, 'support': 3132.0}])\n",
      "Epoch 34: Train Loss = 0.6836 | Val Loss = 0.6919 | Accuracy = 0.5607\n",
      "dict_values([{'precision': 0.832312404287902, 'recall': 0.4891989198919892, 'f1-score': 0.6162131519274376, 'support': 2222.0}, {'precision': 0.3784227820372399, 'recall': 0.7593406593406593, 'f1-score': 0.5051169590643275, 'support': 910.0}, 0.5676883780332056, {'precision': 0.6053675931625709, 'recall': 0.6242697896163243, 'f1-score': 0.5606650554958825, 'support': 3132.0}, {'precision': 0.7004351513351234, 'recall': 0.5676883780332056, 'f1-score': 0.5839342453165085, 'support': 3132.0}])\n",
      "Epoch 35: Train Loss = 0.6832 | Val Loss = 0.6915 | Accuracy = 0.5677\n",
      "dict_values([{'precision': 0.8303437967115097, 'recall': 0.5, 'f1-score': 0.6241573033707866, 'support': 2222.0}, {'precision': 0.38071348940914157, 'recall': 0.7505494505494505, 'f1-score': 0.5051775147928994, 'support': 910.0}, 0.5727969348659003, {'precision': 0.6055286430603256, 'recall': 0.6252747252747253, 'f1-score': 0.564667409081843, 'support': 3132.0}, {'precision': 0.6997040841811281, 'recall': 0.5727969348659003, 'f1-score': 0.5895878245694208, 'support': 3132.0}])\n",
      "Epoch 36: Train Loss = 0.6825 | Val Loss = 0.6911 | Accuracy = 0.5728\n",
      "dict_values([{'precision': 0.8314855875831486, 'recall': 0.5063006300630063, 'f1-score': 0.6293706293706294, 'support': 2222.0}, {'precision': 0.38336143901068015, 'recall': 0.7494505494505495, 'f1-score': 0.5072517664559316, 'support': 910.0}, 0.5769476372924649, {'precision': 0.6074235132969144, 'recall': 0.6278755897567778, 'f1-score': 0.5683111979132804, 'support': 3132.0}, {'precision': 0.7012834882214161, 'recall': 0.5769476372924649, 'f1-score': 0.5938890951265761, 'support': 3132.0}])\n",
      "Epoch 37: Train Loss = 0.6818 | Val Loss = 0.6906 | Accuracy = 0.5769\n",
      "dict_values([{'precision': 0.8298181818181818, 'recall': 0.5135013501350135, 'f1-score': 0.6344175701973868, 'support': 2222.0}, {'precision': 0.38474672737620946, 'recall': 0.7428571428571429, 'f1-score': 0.5069366329208849, 'support': 910.0}, 0.5801404853128991, {'precision': 0.6072824545971957, 'recall': 0.6281792464960783, 'f1-score': 0.5706771015591359, 'support': 3132.0}, {'precision': 0.7005030402019, 'recall': 0.5801404853128991, 'f1-score': 0.5973780896987863, 'support': 3132.0}])\n",
      "Epoch 38: Train Loss = 0.6810 | Val Loss = 0.6902 | Accuracy = 0.5801\n",
      "dict_values([{'precision': 0.8281811646297628, 'recall': 0.5184518451845185, 'f1-score': 0.6376972045391641, 'support': 2222.0}, {'precision': 0.3854106835152211, 'recall': 0.7373626373626374, 'f1-score': 0.5062240663900415, 'support': 910.0}, 0.5820561941251596, {'precision': 0.6067959240724919, 'recall': 0.627907241273578, 'f1-score': 0.5719606354646027, 'support': 3132.0}, {'precision': 0.6995345689036347, 'recall': 0.5820561941251596, 'f1-score': 0.5994977933911113, 'support': 3132.0}])\n",
      "Epoch 39: Train Loss = 0.6804 | Val Loss = 0.6897 | Accuracy = 0.5821\n",
      "dict_values([{'precision': 0.828125, 'recall': 0.5247524752475248, 'f1-score': 0.6424242424242425, 'support': 2222.0}, {'precision': 0.3874709976798144, 'recall': 0.734065934065934, 'f1-score': 0.507213363705391, 'support': 910.0}, 0.5855683269476373, {'precision': 0.6077979988399071, 'recall': 0.6294092046567294, 'f1-score': 0.5748188030648167, 'support': 3132.0}, {'precision': 0.7000933454305974, 'recall': 0.5855683269476373, 'f1-score': 0.6031388338565047, 'support': 3132.0}])\n",
      "Epoch 40: Train Loss = 0.6797 | Val Loss = 0.6892 | Accuracy = 0.5856\n",
      "dict_values([{'precision': 0.8281907433380085, 'recall': 0.5315031503150315, 'f1-score': 0.6474780701754386, 'support': 2222.0}, {'precision': 0.3898007033997655, 'recall': 0.7307692307692307, 'f1-score': 0.5084097859327217, 'support': 910.0}, 0.5893997445721584, {'precision': 0.608995723368887, 'recall': 0.6311361905421311, 'f1-score': 0.5779439280540801, 'support': 3132.0}, {'precision': 0.7008168811592725, 'recall': 0.5893997445721584, 'f1-score': 0.6070718956349301, 'support': 3132.0}])\n",
      "Epoch 41: Train Loss = 0.6788 | Val Loss = 0.6887 | Accuracy = 0.5894\n",
      "dict_values([{'precision': 0.827538247566064, 'recall': 0.5355535553555355, 'f1-score': 0.6502732240437158, 'support': 2222.0}, {'precision': 0.3907910271546635, 'recall': 0.7274725274725274, 'f1-score': 0.5084485407066052, 'support': 910.0}, 0.5913154533844189, {'precision': 0.6091646373603637, 'recall': 0.6315130414140315, 'f1-score': 0.5793608823751605, 'support': 3132.0}, {'precision': 0.7006417052370811, 'recall': 0.5913154533844189, 'f1-score': 0.6090661800345298, 'support': 3132.0}])\n",
      "Epoch 42: Train Loss = 0.6781 | Val Loss = 0.6882 | Accuracy = 0.5913\n",
      "dict_values([{'precision': 0.8262362637362637, 'recall': 0.5414041404140414, 'f1-score': 0.6541598694942904, 'support': 2222.0}, {'precision': 0.39200477326968974, 'recall': 0.721978021978022, 'f1-score': 0.5081206496519721, 'support': 910.0}, 0.5938697318007663, {'precision': 0.6091205185029767, 'recall': 0.6316910811960317, 'f1-score': 0.5811402595731312, 'support': 3132.0}, {'precision': 0.7000706646543409, 'recall': 0.5938697318007663, 'f1-score': 0.6117282954021737, 'support': 3132.0}])\n",
      "Epoch 43: Train Loss = 0.6775 | Val Loss = 0.6876 | Accuracy = 0.5939\n",
      "dict_values([{'precision': 0.8261758691206544, 'recall': 0.5454545454545454, 'f1-score': 0.6570886419083762, 'support': 2222.0}, {'precision': 0.3933933933933934, 'recall': 0.7197802197802198, 'f1-score': 0.5087378640776699, 'support': 910.0}, 0.5961047254150702, {'precision': 0.6097846312570239, 'recall': 0.6326173826173827, 'f1-score': 0.582913252993023, 'support': 3132.0}, {'precision': 0.7004312800683531, 'recall': 0.5961047254150702, 'f1-score': 0.6139854465616512, 'support': 3132.0}])\n",
      "Epoch 44: Train Loss = 0.6766 | Val Loss = 0.6870 | Accuracy = 0.5961\n",
      "dict_values([{'precision': 0.8263229308005428, 'recall': 0.5481548154815482, 'f1-score': 0.6590909090909091, 'support': 2222.0}, {'precision': 0.3944511459589867, 'recall': 0.7186813186813187, 'f1-score': 0.5093457943925234, 'support': 910.0}, 0.5977011494252874, {'precision': 0.6103870383797647, 'recall': 0.6334180670814334, 'f1-score': 0.5842183517417162, 'support': 3132.0}, {'precision': 0.7008429422290817, 'recall': 0.5977011494252874, 'f1-score': 0.6155825903247754, 'support': 3132.0}])\n",
      "Epoch 45: Train Loss = 0.6755 | Val Loss = 0.6864 | Accuracy = 0.5977\n",
      "dict_values([{'precision': 0.8267293485560779, 'recall': 0.554005400540054, 'f1-score': 0.663433036917273, 'support': 2222.0}, {'precision': 0.39683505782105905, 'recall': 0.7164835164835165, 'f1-score': 0.5107716412064238, 'support': 910.0}, 0.601213282247765, {'precision': 0.6117822031885685, 'recall': 0.6352444585117852, 'f1-score': 0.5871023390618484, 'support': 3132.0}, {'precision': 0.7018239192556733, 'recall': 0.601213282247765, 'f1-score': 0.6190773951238909, 'support': 3132.0}])\n",
      "Epoch 46: Train Loss = 0.6753 | Val Loss = 0.6858 | Accuracy = 0.6012\n",
      "dict_values([{'precision': 0.8282085561497327, 'recall': 0.5576057605760576, 'f1-score': 0.666487358795051, 'support': 2222.0}, {'precision': 0.3991442542787286, 'recall': 0.7175824175824176, 'f1-score': 0.5129615082482325, 'support': 910.0}, 0.6040868454661558, {'precision': 0.6136764052142306, 'recall': 0.6375940890792375, 'f1-score': 0.5897244335216418, 'support': 3132.0}, {'precision': 0.7035442794247602, 'recall': 0.6040868454661558, 'f1-score': 0.621880550366697, 'support': 3132.0}])\n",
      "Epoch 47: Train Loss = 0.6738 | Val Loss = 0.6852 | Accuracy = 0.6041\n",
      "dict_values([{'precision': 0.827906976744186, 'recall': 0.5607560756075608, 'f1-score': 0.6686342903139254, 'support': 2222.0}, {'precision': 0.40012292562999385, 'recall': 0.7153846153846154, 'f1-score': 0.5132045723295231, 'support': 910.0}, 0.605683269476373, {'precision': 0.6140149511870899, 'recall': 0.6380703454960881, 'f1-score': 0.5909194313217243, 'support': 3132.0}, {'precision': 0.7036146758138173, 'recall': 0.605683269476373, 'f1-score': 0.6234743147820588, 'support': 3132.0}])\n",
      "Epoch 48: Train Loss = 0.6731 | Val Loss = 0.6845 | Accuracy = 0.6057\n",
      "dict_values([{'precision': 0.826201448321264, 'recall': 0.5648064806480648, 'f1-score': 0.6709435979684576, 'support': 2222.0}, {'precision': 0.4004959702417855, 'recall': 0.7098901098901099, 'f1-score': 0.5120887831946096, 'support': 910.0}, 0.6069604086845466, {'precision': 0.6133487092815247, 'recall': 0.6373482952690874, 'f1-score': 0.5915161905815336, 'support': 3132.0}, {'precision': 0.7025130750606238, 'recall': 0.6069604086845466, 'f1-score': 0.6247884634077291, 'support': 3132.0}])\n",
      "Epoch 49: Train Loss = 0.6724 | Val Loss = 0.6838 | Accuracy = 0.6070\n",
      "dict_values([{'precision': 0.827023498694517, 'recall': 0.5702070207020702, 'f1-score': 0.6750133191262653, 'support': 2222.0}, {'precision': 0.403125, 'recall': 0.7087912087912088, 'f1-score': 0.5139442231075697, 'support': 910.0}, 0.6104725415070242, {'precision': 0.6150742493472585, 'recall': 0.6394991147466396, 'f1-score': 0.5944787711169175, 'support': 3132.0}, {'precision': 0.7038601417941305, 'recall': 0.6104725415070242, 'f1-score': 0.6282148269880108, 'support': 3132.0}])\n",
      "Epoch 50: Train Loss = 0.6707 | Val Loss = 0.6831 | Accuracy = 0.6105\n",
      "dict_values([{'precision': 0.8254380272550292, 'recall': 0.5724572457245725, 'f1-score': 0.676056338028169, 'support': 2222.0}, {'precision': 0.40289126335637965, 'recall': 0.7043956043956044, 'f1-score': 0.512594962015194, 'support': 910.0}, 0.6107918263090677, {'precision': 0.6141646453057045, 'recall': 0.6384264250600884, 'f1-score': 0.5943256500216815, 'support': 3132.0}, {'precision': 0.7026674157774523, 'recall': 0.6107918263090677, 'f1-score': 0.6285627709235051, 'support': 3132.0}])\n",
      "Epoch 51: Train Loss = 0.6708 | Val Loss = 0.6824 | Accuracy = 0.6108\n",
      "dict_values([{'precision': 0.8250484183344093, 'recall': 0.5751575157515751, 'f1-score': 0.6778042959427207, 'support': 2222.0}, {'precision': 0.4036639292482628, 'recall': 0.7021978021978021, 'f1-score': 0.5126353790613718, 'support': 910.0}, 0.6120689655172413, {'precision': 0.6143561737913361, 'recall': 0.6386776589746886, 'f1-score': 0.5952198375020463, 'support': 3132.0}, {'precision': 0.7026155048387537, 'recall': 0.6120689655172413, 'f1-score': 0.6298146042562496, 'support': 3132.0}])\n",
      "Epoch 52: Train Loss = 0.6691 | Val Loss = 0.6816 | Accuracy = 0.6121\n",
      "dict_values([{'precision': 0.8246628131021194, 'recall': 0.5778577857785778, 'f1-score': 0.6795448531357502, 'support': 2222.0}, {'precision': 0.40444444444444444, 'recall': 0.7, 'f1-score': 0.5126760563380282, 'support': 910.0}, 0.6133461047254151, {'precision': 0.6145536287732819, 'recall': 0.6389288928892889, 'f1-score': 0.5961104547368892, 'support': 3132.0}, {'precision': 0.7025687149289124, 'recall': 0.6133461047254151, 'f1-score': 0.631061262750716, 'support': 3132.0}])\n",
      "Epoch 53: Train Loss = 0.6679 | Val Loss = 0.6808 | Accuracy = 0.6133\n",
      "dict_values([{'precision': 0.8229299363057325, 'recall': 0.5814581458145814, 'f1-score': 0.6814345991561181, 'support': 2222.0}, {'precision': 0.4046094750320102, 'recall': 0.6945054945054945, 'f1-score': 0.511326860841424, 'support': 910.0}, 0.6143039591315453, {'precision': 0.6137697056688713, 'recall': 0.637981820160038, 'f1-score': 0.5963807299987711, 'support': 3132.0}, {'precision': 0.7013872735474033, 'recall': 0.6143039591315453, 'f1-score': 0.6320099370021043, 'support': 3132.0}])\n",
      "Epoch 54: Train Loss = 0.6669 | Val Loss = 0.6798 | Accuracy = 0.6143\n",
      "dict_values([{'precision': 0.8221518987341773, 'recall': 0.5846084608460846, 'f1-score': 0.6833245660178853, 'support': 2222.0}, {'precision': 0.4052835051546392, 'recall': 0.6912087912087912, 'f1-score': 0.5109666937449229, 'support': 910.0}, 0.6155810983397191, {'precision': 0.6137177019444082, 'recall': 0.6379086260274379, 'f1-score': 0.5971456298814041, 'support': 3132.0}, {'precision': 0.7010311330389731, 'recall': 0.6155810983397191, 'f1-score': 0.6332461293102238, 'support': 3132.0}])\n",
      "Epoch 55: Train Loss = 0.6665 | Val Loss = 0.6788 | Accuracy = 0.6156\n",
      "dict_values([{'precision': 0.8219005663939585, 'recall': 0.5877587758775877, 'f1-score': 0.6853844135397533, 'support': 2222.0}, {'precision': 0.406351263771873, 'recall': 0.689010989010989, 'f1-score': 0.5112107623318386, 'support': 910.0}, 0.6171775223499362, {'precision': 0.6141259150829157, 'recall': 0.6383848824442884, 'f1-score': 0.5982975879357959, 'support': 3132.0}, {'precision': 0.7011630614814114, 'recall': 0.6171775223499362, 'f1-score': 0.634778403769893, 'support': 3132.0}])\n",
      "Epoch 56: Train Loss = 0.6654 | Val Loss = 0.6778 | Accuracy = 0.6172\n",
      "dict_values([{'precision': 0.821072319201995, 'recall': 0.5927092709270927, 'f1-score': 0.6884474647151072, 'support': 2222.0}, {'precision': 0.40772251308900526, 'recall': 0.6846153846153846, 'f1-score': 0.5110746513535686, 'support': 910.0}, 0.6194125159642401, {'precision': 0.6143974161455001, 'recall': 0.6386623277712387, 'f1-score': 0.5997610580343379, 'support': 3132.0}, {'precision': 0.7009738761742744, 'recall': 0.6194125159642401, 'f1-score': 0.6369119410372654, 'support': 3132.0}])\n",
      "Epoch 57: Train Loss = 0.6632 | Val Loss = 0.6768 | Accuracy = 0.6194\n",
      "dict_values([{'precision': 0.8207196029776674, 'recall': 0.5954095409540954, 'f1-score': 0.6901408450704225, 'support': 2222.0}, {'precision': 0.4085526315789474, 'recall': 0.6824175824175824, 'f1-score': 0.5111111111111111, 'support': 910.0}, 0.6206896551724138, {'precision': 0.6146361172783075, 'recall': 0.6389135616858389, 'f1-score': 0.6006259780907668, 'support': 3132.0}, {'precision': 0.700964831594259, 'recall': 0.6206896551724138, 'f1-score': 0.6381239044883749, 'support': 3132.0}])\n",
      "Epoch 58: Train Loss = 0.6630 | Val Loss = 0.6756 | Accuracy = 0.6207\n",
      "dict_values([{'precision': 0.8214947498455837, 'recall': 0.5985598559855986, 'f1-score': 0.6925279875032544, 'support': 2222.0}, {'precision': 0.41044282881692, 'recall': 0.6824175824175824, 'f1-score': 0.5125877011968634, 'support': 910.0}, 0.6229246487867177, {'precision': 0.6159687893312519, 'recall': 0.6404887192015905, 'f1-score': 0.6025578443500589, 'support': 3132.0}, {'precision': 0.7020639554215466, 'recall': 0.6229246487867177, 'f1-score': 0.640246486692649, 'support': 3132.0}])\n",
      "Epoch 59: Train Loss = 0.6618 | Val Loss = 0.6746 | Accuracy = 0.6229\n",
      "dict_values([{'precision': 0.8210332103321033, 'recall': 0.6008100810081008, 'f1-score': 0.6938669438669439, 'support': 2222.0}, {'precision': 0.4110225763612218, 'recall': 0.6802197802197802, 'f1-score': 0.5124172185430463, 'support': 910.0}, 0.623882503192848, {'precision': 0.6160278933466625, 'recall': 0.6405149306139406, 'f1-score': 0.6031420812049951, 'support': 3132.0}, {'precision': 0.7019049609982904, 'recall': 0.623882503192848, 'f1-score': 0.6411468768028485, 'support': 3132.0}])\n",
      "Epoch 60: Train Loss = 0.6609 | Val Loss = 0.6734 | Accuracy = 0.6239\n",
      "dict_values([{'precision': 0.8204503956177723, 'recall': 0.6066606660666066, 'f1-score': 0.6975420439844761, 'support': 2222.0}, {'precision': 0.41302887844190733, 'recall': 0.6758241758241759, 'f1-score': 0.5127136306794498, 'support': 910.0}, 0.6267560664112388, {'precision': 0.6167396370298398, 'recall': 0.6412424209453913, 'f1-score': 0.6051278373319628, 'support': 3132.0}, {'precision': 0.7020744120194207, 'recall': 0.6267560664112388, 'f1-score': 0.6438403019322494, 'support': 3132.0}])\n",
      "Epoch 61: Train Loss = 0.6594 | Val Loss = 0.6722 | Accuracy = 0.6268\n",
      "dict_values([{'precision': 0.8196125907990315, 'recall': 0.6093609360936093, 'f1-score': 0.6990191017036654, 'support': 2222.0}, {'precision': 0.4135135135135135, 'recall': 0.6725274725274726, 'f1-score': 0.5121338912133891, 'support': 910.0}, 0.6277139208173691, {'precision': 0.6165630521562725, 'recall': 0.6409442043105409, 'f1-score': 0.6055764964585273, 'support': 3132.0}, {'precision': 0.7016208410130094, 'recall': 0.627713920817369, 'f1-score': 0.644719758936695, 'support': 3132.0}])\n",
      "Epoch 62: Train Loss = 0.6580 | Val Loss = 0.6710 | Accuracy = 0.6277\n",
      "dict_values([{'precision': 0.8198795180722892, 'recall': 0.6125112511251125, 'f1-score': 0.7011849562081401, 'support': 2222.0}, {'precision': 0.41508152173913043, 'recall': 0.6714285714285714, 'f1-score': 0.5130142737195634, 'support': 910.0}, 0.6296296296296297, {'precision': 0.6174805199057098, 'recall': 0.641969911276842, 'f1-score': 0.6070996149638518, 'support': 3132.0}, {'precision': 0.7022657962768951, 'recall': 0.6296296296296297, 'f1-score': 0.6465121206191858, 'support': 3132.0}])\n",
      "Epoch 63: Train Loss = 0.6567 | Val Loss = 0.6700 | Accuracy = 0.6296\n",
      "dict_values([{'precision': 0.8203592814371258, 'recall': 0.6165616561656165, 'f1-score': 0.7040082219938335, 'support': 2222.0}, {'precision': 0.4172366621067031, 'recall': 0.6703296703296703, 'f1-score': 0.5143338954468802, 'support': 910.0}, 0.632183908045977, {'precision': 0.6187979717719144, 'recall': 0.6434456632476434, 'f1-score': 0.6091710587203569, 'support': 3132.0}, {'precision': 0.7032323390390783, 'recall': 0.632183908045977, 'f1-score': 0.6488985038719538, 'support': 3132.0}])\n",
      "Epoch 64: Train Loss = 0.6561 | Val Loss = 0.6688 | Accuracy = 0.6322\n",
      "dict_values([{'precision': 0.8201310303752234, 'recall': 0.6197119711971197, 'f1-score': 0.7059728274801333, 'support': 2222.0}, {'precision': 0.4184445973847213, 'recall': 0.6681318681318681, 'f1-score': 0.5146000846381719, 'support': 910.0}, 0.6337803320561941, {'precision': 0.6192878138799723, 'recall': 0.6439219196644939, 'f1-score': 0.6102864560591525, 'support': 3132.0}, {'precision': 0.7034213707260035, 'recall': 0.6337803320561941, 'f1-score': 0.650369635913663, 'support': 3132.0}])\n",
      "Epoch 65: Train Loss = 0.6545 | Val Loss = 0.6675 | Accuracy = 0.6338\n",
      "dict_values([{'precision': 0.820816085156712, 'recall': 0.6246624662466247, 'f1-score': 0.709430104778942, 'support': 2222.0}, {'precision': 0.421235253296322, 'recall': 0.667032967032967, 'f1-score': 0.5163760102084219, 'support': 910.0}, 0.6369731800766284, {'precision': 0.621025669226517, 'recall': 0.6458477166397958, 'f1-score': 0.612903057493682, 'support': 3132.0}, {'precision': 0.7047182061679014, 'recall': 0.6369731800766284, 'f1-score': 0.6533383978634971, 'support': 3132.0}])\n",
      "Epoch 66: Train Loss = 0.6531 | Val Loss = 0.6663 | Accuracy = 0.6370\n",
      "dict_values([{'precision': 0.8210093896713615, 'recall': 0.6296129612961296, 'f1-score': 0.7126846663270504, 'support': 2222.0}, {'precision': 0.42366946778711484, 'recall': 0.6648351648351648, 'f1-score': 0.5175363558597091, 'support': 910.0}, 0.6398467432950191, {'precision': 0.6223394287292382, 'recall': 0.6472240630656472, 'f1-score': 0.6151105110933798, 'support': 3132.0}, {'precision': 0.7055626052158492, 'recall': 0.6398467432950191, 'f1-score': 0.6559844867212775, 'support': 3132.0}])\n",
      "Epoch 67: Train Loss = 0.6526 | Val Loss = 0.6648 | Accuracy = 0.6398\n",
      "dict_values([{'precision': 0.820677570093458, 'recall': 0.6323132313231323, 'f1-score': 0.7142857142857143, 'support': 2222.0}, {'precision': 0.42464788732394365, 'recall': 0.6626373626373626, 'f1-score': 0.5175965665236052, 'support': 910.0}, 0.6411238825031929, {'precision': 0.6226627287087008, 'recall': 0.6474752969802475, 'f1-score': 0.6159411404046597, 'support': 3132.0}, {'precision': 0.7056114745250486, 'recall': 0.6411238825031929, 'f1-score': 0.657137845683058, 'support': 3132.0}])\n",
      "Epoch 68: Train Loss = 0.6514 | Val Loss = 0.6634 | Accuracy = 0.6411\n",
      "dict_values([{'precision': 0.8215116279069767, 'recall': 0.6359135913591359, 'f1-score': 0.7168949771689498, 'support': 2222.0}, {'precision': 0.42705382436260625, 'recall': 0.6626373626373626, 'f1-score': 0.5193798449612403, 'support': 910.0}, 0.6436781609195402, {'precision': 0.6242827261347915, 'recall': 0.6492754769982493, 'f1-score': 0.618137411065095, 'support': 3132.0}, {'precision': 0.7069022405425522, 'recall': 0.6436781609195402, 'f1-score': 0.6595071194713075, 'support': 3132.0}])\n",
      "Epoch 69: Train Loss = 0.6503 | Val Loss = 0.6620 | Accuracy = 0.6437\n",
      "dict_values([{'precision': 0.8216964800923254, 'recall': 0.6408640864086409, 'f1-score': 0.7201011378002529, 'support': 2222.0}, {'precision': 0.4295925661186562, 'recall': 0.6604395604395604, 'f1-score': 0.5205716760502382, 'support': 910.0}, 0.646551724137931, {'precision': 0.6256445231054908, 'recall': 0.6506518234241007, 'f1-score': 0.6203364069252455, 'support': 3132.0}, {'precision': 0.7077710133886093, 'recall': 0.646551724137931, 'f1-score': 0.6621280183262703, 'support': 3132.0}])\n",
      "Epoch 70: Train Loss = 0.6481 | Val Loss = 0.6607 | Accuracy = 0.6466\n",
      "dict_values([{'precision': 0.8216340621403913, 'recall': 0.6426642664266426, 'f1-score': 0.7212121212121212, 'support': 2222.0}, {'precision': 0.430416068866571, 'recall': 0.6593406593406593, 'f1-score': 0.5208333333333334, 'support': 910.0}, 0.6475095785440613, {'precision': 0.6260250655034811, 'recall': 0.651002462883651, 'f1-score': 0.6210227272727273, 'support': 3132.0}, {'precision': 0.7079659989605775, 'recall': 0.6475095785440613, 'f1-score': 0.6629922307364836, 'support': 3132.0}])\n",
      "Epoch 71: Train Loss = 0.6482 | Val Loss = 0.6591 | Accuracy = 0.6475\n",
      "dict_values([{'precision': 0.8218785796105383, 'recall': 0.6458145814581459, 'f1-score': 0.7232862903225806, 'support': 2222.0}, {'precision': 0.43217893217893216, 'recall': 0.6582417582417582, 'f1-score': 0.5217770034843205, 'support': 910.0}, 0.6494252873563219, {'precision': 0.6270287558947353, 'recall': 0.652028169849952, 'f1-score': 0.6225316469034505, 'support': 3132.0}, {'precision': 0.7086516705547397, 'recall': 0.6494252873563219, 'f1-score': 0.6647379343127414, 'support': 3132.0}])\n",
      "Epoch 72: Train Loss = 0.6465 | Val Loss = 0.6576 | Accuracy = 0.6494\n",
      "dict_values([{'precision': 0.820615034168565, 'recall': 0.6485148514851485, 'f1-score': 0.7244846656611362, 'support': 2222.0}, {'precision': 0.4324127906976744, 'recall': 0.6538461538461539, 'f1-score': 0.5205599300087489, 'support': 910.0}, 0.6500638569604087, {'precision': 0.6265139124331197, 'recall': 0.6511805026656512, 'f1-score': 0.6225222978349425, 'support': 3132.0}, {'precision': 0.7078231945904965, 'recall': 0.6500638569604087, 'f1-score': 0.665234503003514, 'support': 3132.0}])\n",
      "Epoch 73: Train Loss = 0.6465 | Val Loss = 0.6561 | Accuracy = 0.6501\n",
      "dict_values([{'precision': 0.8204545454545454, 'recall': 0.6498649864986499, 'f1-score': 0.7252636865896535, 'support': 2222.0}, {'precision': 0.4329446064139942, 'recall': 0.6527472527472528, 'f1-score': 0.5205959684487291, 'support': 910.0}, 0.6507024265644955, {'precision': 0.6266995759342698, 'recall': 0.6513061196229513, 'f1-score': 0.6229298275191912, 'support': 3132.0}, {'precision': 0.7078638543540021, 'recall': 0.6507024265644955, 'f1-score': 0.6657976509867667, 'support': 3132.0}])\n",
      "Epoch 74: Train Loss = 0.6445 | Val Loss = 0.6547 | Accuracy = 0.6507\n",
      "dict_values([{'precision': 0.8203389830508474, 'recall': 0.6534653465346535, 'f1-score': 0.7274549098196392, 'support': 2222.0}, {'precision': 0.434654919236417, 'recall': 0.6505494505494506, 'f1-score': 0.5211267605633803, 'support': 910.0}, 0.6526181353767561, {'precision': 0.6274969511436322, 'recall': 0.652007398542052, 'f1-score': 0.6242908351915097, 'support': 3132.0}, {'precision': 0.7082787984815206, 'recall': 0.6526181353767561, 'f1-score': 0.6675064373345831, 'support': 3132.0}])\n",
      "Epoch 75: Train Loss = 0.6425 | Val Loss = 0.6534 | Accuracy = 0.6526\n",
      "dict_values([{'precision': 0.8204839617332583, 'recall': 0.6561656165616562, 'f1-score': 0.7291822955738935, 'support': 2222.0}, {'precision': 0.4361623616236162, 'recall': 0.6494505494505495, 'f1-score': 0.5218543046357615, 'support': 910.0}, 0.6542145593869731, {'precision': 0.6283231616784373, 'recall': 0.6528080830061028, 'f1-score': 0.6255183001048275, 'support': 3132.0}, {'precision': 0.7088196398623214, 'recall': 0.6542145593869731, 'f1-score': 0.6689433199181782, 'support': 3132.0}])\n",
      "Epoch 76: Train Loss = 0.6427 | Val Loss = 0.6517 | Accuracy = 0.6542\n",
      "dict_values([{'precision': 0.819764177428411, 'recall': 0.6570657065706571, 'f1-score': 0.729452910317262, 'support': 2222.0}, {'precision': 0.4359733530717987, 'recall': 0.6472527472527473, 'f1-score': 0.5210084033613446, 'support': 910.0}, 0.6542145593869731, {'precision': 0.6278687652501048, 'recall': 0.6521592269117023, 'f1-score': 0.6252306568393033, 'support': 3132.0}, {'precision': 0.7082540720118985, 'recall': 0.6542145593869731, 'f1-score': 0.6688895318594443, 'support': 3132.0}])\n",
      "Epoch 77: Train Loss = 0.6425 | Val Loss = 0.6501 | Accuracy = 0.6542\n",
      "dict_values([{'precision': 0.8206703910614526, 'recall': 0.6611161116111611, 'f1-score': 0.7323030907278165, 'support': 2222.0}, {'precision': 0.43889716840536513, 'recall': 0.6472527472527473, 'f1-score': 0.5230905861456483, 'support': 910.0}, 0.657088122605364, {'precision': 0.6297837797334088, 'recall': 0.6541844294319542, 'f1-score': 0.6276968384367324, 'support': 3132.0}, {'precision': 0.7097464981441347, 'recall': 0.657088122605364, 'f1-score': 0.6715165711972376, 'support': 3132.0}])\n",
      "Epoch 78: Train Loss = 0.6420 | Val Loss = 0.6486 | Accuracy = 0.6571\n",
      "dict_values([{'precision': 0.8206703910614526, 'recall': 0.6611161116111611, 'f1-score': 0.7323030907278165, 'support': 2222.0}, {'precision': 0.43889716840536513, 'recall': 0.6472527472527473, 'f1-score': 0.5230905861456483, 'support': 910.0}, 0.657088122605364, {'precision': 0.6297837797334088, 'recall': 0.6541844294319542, 'f1-score': 0.6276968384367324, 'support': 3132.0}, {'precision': 0.7097464981441347, 'recall': 0.657088122605364, 'f1-score': 0.6715165711972376, 'support': 3132.0}])\n",
      "Epoch 79: Train Loss = 0.6405 | Val Loss = 0.6473 | Accuracy = 0.6571\n",
      "dict_values([{'precision': 0.8215281650864473, 'recall': 0.6629162916291629, 'f1-score': 0.7337484433374845, 'support': 2222.0}, {'precision': 0.4406273338312173, 'recall': 0.6483516483516484, 'f1-score': 0.5246776345042241, 'support': 910.0}, 0.6586845466155811, {'precision': 0.6310777494588323, 'recall': 0.6556339699904057, 'f1-score': 0.6292130389208543, 'support': 3132.0}, {'precision': 0.7108577447664411, 'recall': 0.6586845466155811, 'f1-score': 0.6730030933891235, 'support': 3132.0}])\n",
      "Epoch 80: Train Loss = 0.6392 | Val Loss = 0.6460 | Accuracy = 0.6587\n",
      "dict_values([{'precision': 0.8221234018899388, 'recall': 0.6656165616561656, 'f1-score': 0.7356379010196469, 'support': 2222.0}, {'precision': 0.4426106526631658, 'recall': 0.6483516483516484, 'f1-score': 0.5260811413285778, 'support': 910.0}, 0.6606002554278416, {'precision': 0.6323670272765523, 'recall': 0.6569841050039069, 'f1-score': 0.6308595211741124, 'support': 3132.0}, {'precision': 0.7118562876509976, 'recall': 0.6606002554278416, 'f1-score': 0.674751358452957, 'support': 3132.0}])\n",
      "Epoch 81: Train Loss = 0.6390 | Val Loss = 0.6446 | Accuracy = 0.6606\n",
      "dict_values([{'precision': 0.8230088495575221, 'recall': 0.6696669666966697, 'f1-score': 0.7384615384615385, 'support': 2222.0}, {'precision': 0.44561933534743203, 'recall': 0.6483516483516484, 'f1-score': 0.5282005371530887, 'support': 910.0}, 0.6634738186462324, {'precision': 0.634314092452477, 'recall': 0.659009307524159, 'f1-score': 0.6333310378073136, 'support': 3132.0}, {'precision': 0.7133586394900948, 'recall': 0.6634738186462324, 'f1-score': 0.677370379077538, 'support': 3132.0}])\n",
      "Epoch 82: Train Loss = 0.6376 | Val Loss = 0.6431 | Accuracy = 0.6635\n",
      "dict_values([{'precision': 0.8229453943739659, 'recall': 0.6714671467146714, 'f1-score': 0.7395291201982652, 'support': 2222.0}, {'precision': 0.44655041698256254, 'recall': 0.6472527472527473, 'f1-score': 0.528488111260655, 'support': 910.0}, 0.6644316730523627, {'precision': 0.6347479056782642, 'recall': 0.6593599469837094, 'f1-score': 0.6340086157294601, 'support': 3132.0}, {'precision': 0.7135841461536028, 'recall': 0.6644316730523627, 'f1-score': 0.6782113302451281, 'support': 3132.0}])\n",
      "Epoch 83: Train Loss = 0.6368 | Val Loss = 0.6419 | Accuracy = 0.6644\n",
      "dict_values([{'precision': 0.8225895316804408, 'recall': 0.671917191719172, 'f1-score': 0.7396581620014863, 'support': 2222.0}, {'precision': 0.44646924829157175, 'recall': 0.6461538461538462, 'f1-score': 0.5280646609788954, 'support': 910.0}, 0.6644316730523627, {'precision': 0.6345293899860063, 'recall': 0.6590355189365091, 'f1-score': 0.6338614114901908, 'support': 3132.0}, {'precision': 0.7133080955744795, 'recall': 0.6644316730523627, 'f1-score': 0.6781798459317041, 'support': 3132.0}])\n",
      "Epoch 84: Train Loss = 0.6352 | Val Loss = 0.6409 | Accuracy = 0.6644\n",
      "dict_values([{'precision': 0.8228822882288229, 'recall': 0.6732673267326733, 'f1-score': 0.7405940594059406, 'support': 2222.0}, {'precision': 0.4474885844748858, 'recall': 0.6461538461538462, 'f1-score': 0.5287769784172662, 'support': 910.0}, 0.665389527458493, {'precision': 0.6351854363518543, 'recall': 0.6597105864432597, 'f1-score': 0.6346855189116034, 'support': 3132.0}, {'precision': 0.7138119592326279, 'recall': 0.665389527458493, 'f1-score': 0.6790507823626157, 'support': 3132.0}])\n",
      "Epoch 85: Train Loss = 0.6361 | Val Loss = 0.6399 | Accuracy = 0.6654\n",
      "dict_values([{'precision': 0.8224657534246576, 'recall': 0.6755175517551755, 'f1-score': 0.7417840375586855, 'support': 2222.0}, {'precision': 0.4483550114766641, 'recall': 0.643956043956044, 'f1-score': 0.5286423094271538, 'support': 910.0}, 0.6663473818646233, {'precision': 0.6354103824506608, 'recall': 0.6597367978556097, 'f1-score': 0.6352131734929196, 'support': 3132.0}, {'precision': 0.7137681879161409, 'recall': 0.6663473818646233, 'f1-score': 0.6798558853876466, 'support': 3132.0}])\n",
      "Epoch 86: Train Loss = 0.6354 | Val Loss = 0.6385 | Accuracy = 0.6663\n",
      "dict_values([{'precision': 0.8226600985221675, 'recall': 0.6764176417641764, 'f1-score': 0.7424055322301802, 'support': 2222.0}, {'precision': 0.44904214559386973, 'recall': 0.643956043956044, 'f1-score': 0.5291196388261851, 'support': 910.0}, 0.6669859514687101, {'precision': 0.6358511220580186, 'recall': 0.6601868428601102, 'f1-score': 0.6357625855281827, 'support': 3132.0}, {'precision': 0.7141057124542393, 'recall': 0.6669859514687101, 'f1-score': 0.6804354929589045, 'support': 3132.0}])\n",
      "Epoch 87: Train Loss = 0.6340 | Val Loss = 0.6375 | Accuracy = 0.6670\n",
      "dict_values([{'precision': 0.8229508196721311, 'recall': 0.6777677767776777, 'f1-score': 0.7433366238894373, 'support': 2222.0}, {'precision': 0.4500768049155146, 'recall': 0.643956043956044, 'f1-score': 0.5298372513562387, 'support': 910.0}, 0.6679438058748404, {'precision': 0.6365138122938229, 'recall': 0.6608619103668609, 'f1-score': 0.636586937622838, 'support': 3132.0}, {'precision': 0.7146125842224118, 'recall': 0.6679438058748404, 'f1-score': 0.6813045584343892, 'support': 3132.0}])\n",
      "Epoch 88: Train Loss = 0.6344 | Val Loss = 0.6364 | Accuracy = 0.6679\n",
      "dict_values([{'precision': 0.8233369683751364, 'recall': 0.6795679567956796, 'f1-score': 0.7445759368836292, 'support': 2222.0}, {'precision': 0.4514637904468413, 'recall': 0.643956043956044, 'f1-score': 0.5307971014492754, 'support': 910.0}, 0.669220945083014, {'precision': 0.6374003794109888, 'recall': 0.6617620003758617, 'f1-score': 0.6376865191664522, 'support': 3132.0}, {'precision': 0.7152895252350506, 'recall': 0.669220945083014, 'f1-score': 0.6824626737146439, 'support': 3132.0}])\n",
      "Epoch 89: Train Loss = 0.6305 | Val Loss = 0.6356 | Accuracy = 0.6692\n",
      "dict_values([{'precision': 0.8236254763200871, 'recall': 0.680918091809181, 'f1-score': 0.7455038186745504, 'support': 2222.0}, {'precision': 0.4525096525096525, 'recall': 0.643956043956044, 'f1-score': 0.5315192743764172, 'support': 910.0}, 0.6701787994891443, {'precision': 0.6380675644148698, 'recall': 0.6624370678826125, 'f1-score': 0.6385115465254838, 'support': 3132.0}, {'precision': 0.7157980817902355, 'recall': 0.6701787994891443, 'f1-score': 0.6833307869659612, 'support': 3132.0}])\n",
      "Epoch 90: Train Loss = 0.6316 | Val Loss = 0.6350 | Accuracy = 0.6702\n",
      "dict_values([{'precision': 0.8236570808464461, 'recall': 0.6831683168316832, 'f1-score': 0.7468634686346863, 'support': 2222.0}, {'precision': 0.4538401861908456, 'recall': 0.6428571428571429, 'f1-score': 0.5320600272851296, 'support': 910.0}, 0.671455938697318, {'precision': 0.6387486335186459, 'recall': 0.6630127298444131, 'f1-score': 0.639461747959908, 'support': 3132.0}, {'precision': 0.7162070891042377, 'recall': 0.671455938697318, 'f1-score': 0.6844525070676056, 'support': 3132.0}])\n",
      "Epoch 91: Train Loss = 0.6327 | Val Loss = 0.6340 | Accuracy = 0.6715\n",
      "dict_values([{'precision': 0.823943661971831, 'recall': 0.6845184518451846, 'f1-score': 0.7477876106194691, 'support': 2222.0}, {'precision': 0.4548989113530327, 'recall': 0.6428571428571429, 'f1-score': 0.5327868852459017, 'support': 910.0}, 0.6724137931034483, {'precision': 0.6394212866624318, 'recall': 0.6636877973511637, 'f1-score': 0.6402872479326853, 'support': 3132.0}, {'precision': 0.7167180160385276, 'recall': 0.6724137931034483, 'f1-score': 0.6853193283429856, 'support': 3132.0}])\n",
      "Epoch 92: Train Loss = 0.6310 | Val Loss = 0.6330 | Accuracy = 0.6724\n",
      "dict_values([{'precision': 0.823943661971831, 'recall': 0.6845184518451846, 'f1-score': 0.7477876106194691, 'support': 2222.0}, {'precision': 0.4548989113530327, 'recall': 0.6428571428571429, 'f1-score': 0.5327868852459017, 'support': 910.0}, 0.6724137931034483, {'precision': 0.6394212866624318, 'recall': 0.6636877973511637, 'f1-score': 0.6402872479326853, 'support': 3132.0}, {'precision': 0.7167180160385276, 'recall': 0.6724137931034483, 'f1-score': 0.6853193283429856, 'support': 3132.0}])\n",
      "Epoch 93: Train Loss = 0.6296 | Val Loss = 0.6324 | Accuracy = 0.6724\n",
      "dict_values([{'precision': 0.8239740820734341, 'recall': 0.6867686768676867, 'f1-score': 0.7491408934707904, 'support': 2222.0}, {'precision': 0.45625, 'recall': 0.6417582417582418, 'f1-score': 0.5333333333333333, 'support': 910.0}, 0.6736909323116219, {'precision': 0.640112041036717, 'recall': 0.6642634593129643, 'f1-score': 0.6412371134020618, 'support': 3132.0}, {'precision': 0.7171321552896458, 'recall': 0.6736909323116219, 'f1-score': 0.686438186023445, 'support': 3132.0}])\n",
      "Epoch 94: Train Loss = 0.6312 | Val Loss = 0.6315 | Accuracy = 0.6737\n",
      "dict_values([{'precision': 0.823371028540657, 'recall': 0.6881188118811881, 'f1-score': 0.7496935523412601, 'support': 2222.0}, {'precision': 0.45647058823529413, 'recall': 0.6395604395604395, 'f1-score': 0.5327231121281465, 'support': 910.0}, 0.6740102171136654, {'precision': 0.6399208083879756, 'recall': 0.6638396257208138, 'f1-score': 0.6412083322347033, 'support': 3132.0}, {'precision': 0.7167684101888434, 'recall': 0.6740102171136654, 'f1-score': 0.6866529710532866, 'support': 3132.0}])\n",
      "Epoch 95: Train Loss = 0.6306 | Val Loss = 0.6304 | Accuracy = 0.6740\n",
      "dict_values([{'precision': 0.8234660925726588, 'recall': 0.6885688568856886, 'f1-score': 0.75, 'support': 2222.0}, {'precision': 0.45682888540031397, 'recall': 0.6395604395604395, 'f1-score': 0.532967032967033, 'support': 910.0}, 0.6743295019157088, {'precision': 0.6401474889864864, 'recall': 0.6640646482230641, 'f1-score': 0.6414835164835164, 'support': 3132.0}, {'precision': 0.7169399563891231, 'recall': 0.6743295019157088, 'f1-score': 0.686941251596424, 'support': 3132.0}])\n",
      "Epoch 96: Train Loss = 0.6287 | Val Loss = 0.6298 | Accuracy = 0.6743\n",
      "dict_values([{'precision': 0.8236559139784946, 'recall': 0.6894689468946895, 'f1-score': 0.7506124448799608, 'support': 2222.0}, {'precision': 0.45754716981132076, 'recall': 0.6395604395604395, 'f1-score': 0.5334555453712191, 'support': 910.0}, 0.6749680715197957, {'precision': 0.6406015418949077, 'recall': 0.6645146932275645, 'f1-score': 0.64203399512559, 'support': 3132.0}, {'precision': 0.7172833222824128, 'recall': 0.6749680715197957, 'f1-score': 0.6875176879984298, 'support': 3132.0}])\n",
      "Epoch 97: Train Loss = 0.6292 | Val Loss = 0.6290 | Accuracy = 0.6750\n",
      "dict_values([{'precision': 0.8240343347639485, 'recall': 0.6912691269126913, 'f1-score': 0.7518355359765051, 'support': 2222.0}, {'precision': 0.4589905362776025, 'recall': 0.6395604395604395, 'f1-score': 0.5344352617079889, 'support': 910.0}, 0.6762452107279694, {'precision': 0.6415124355207755, 'recall': 0.6654147832365653, 'f1-score': 0.643135398842247, 'support': 3132.0}, {'precision': 0.7179711621513768, 'recall': 0.6762452107279694, 'f1-score': 0.688670066760557, 'support': 3132.0}])\n",
      "Epoch 98: Train Loss = 0.6287 | Val Loss = 0.6285 | Accuracy = 0.6762\n",
      "dict_values([{'precision': 0.8244111349036403, 'recall': 0.693069306930693, 'f1-score': 0.7530562347188264, 'support': 2222.0}, {'precision': 0.46044303797468356, 'recall': 0.6395604395604395, 'f1-score': 0.5354185832566697, 'support': 910.0}, 0.677522349936143, {'precision': 0.6424270864391619, 'recall': 0.6663148732455663, 'f1-score': 0.6442374089877481, 'support': 3132.0}, {'precision': 0.7186605064855844, 'recall': 0.677522349936143, 'f1-score': 0.6898217957563223, 'support': 3132.0}])\n",
      "Epoch 99: Train Loss = 0.6276 | Val Loss = 0.6276 | Accuracy = 0.6775\n",
      "dict_values([{'precision': 0.8243459690336359, 'recall': 0.6948694869486949, 'f1-score': 0.7540903540903541, 'support': 2222.0}, {'precision': 0.4614773629864972, 'recall': 0.6384615384615384, 'f1-score': 0.5357307514983863, 'support': 910.0}, 0.6784802043422733, {'precision': 0.6429116660100666, 'recall': 0.6666655127051166, 'f1-score': 0.6449105527943702, 'support': 3132.0}, {'precision': 0.7189147967785605, 'recall': 0.6784802043422733, 'f1-score': 0.6906461528264044, 'support': 3132.0}])\n",
      "Epoch 100: Train Loss = 0.6267 | Val Loss = 0.6267 | Accuracy = 0.6785\n"
     ]
    }
   ],
   "execution_count": 381
  },
  {
   "metadata": {
    "ExecuteTime": {
     "end_time": "2025-05-03T17:33:27.904065Z",
     "start_time": "2025-05-03T17:33:27.832149Z"
    }
   },
   "cell_type": "code",
   "source": [
    "epochs = [i for i in range(100)]\n",
    "plt.plot(epochs, train_losses, label='train loss')\n",
    "plt.plot(epochs, val_losses, label='test loss')\n",
    "plt.plot(epochs, accs, label='accuracy')\n",
    "plt.plot(epochs, f1s, label= 'f1')\n",
    "plt.xlabel(\"epoch\")\n",
    "plt.ylabel(\"loss\")\n",
    "plt.legend()\n",
    "plt.title(\"Train loss and val_loss\")\n",
    "plt.show()"
   ],
   "id": "d1c453562ec49727",
   "outputs": [
    {
     "data": {
      "text/plain": [
       "<Figure size 640x480 with 1 Axes>"
      ],
      "image/png": "[encoded data removed]"
     },
     "metadata": {},
     "output_type": "display_data"
    }
   ],
   "execution_count": 383
  },
  {
   "metadata": {
    "ExecuteTime": {
     "end_time": "2025-05-03T17:33:55.651083Z",
     "start_time": "2025-05-03T17:33:55.578713Z"
    }
   },
   "cell_type": "code",
   "source": [
    "_, _, _, cm, _ = validate(model, test_loader, criterion)\n",
    "import seaborn as sns\n",
    "\n",
    "# Optional: define class names\n",
    "class_names = [\"Class 0\", \"Class 1\"]\n",
    "\n",
    "plt.figure(figsize=(6, 5))\n",
    "sns.heatmap(cm, annot=True, fmt=\"d\", cmap=\"Blues\",\n",
    "            xticklabels=class_names, yticklabels=class_names)\n",
    "\n",
    "plt.xlabel(\"Predicted Label\")\n",
    "plt.ylabel(\"True Label\")\n",
    "plt.title(\"Confusion Matrix\")\n",
    "plt.tight_layout()\n",
    "plt.show()\n"
   ],
   "id": "191de7348796926e",
   "outputs": [
    {
     "data": {
      "text/plain": [
       "<Figure size 600x500 with 2 Axes>"
      ],
      "image/png": "[encoded data removed]"
     },
     "metadata": {},
     "output_type": "display_data"
    }
   ],
   "execution_count": 385
  },
  {
   "metadata": {},
   "cell_type": "markdown",
   "source": [
    "Simple Model with (temperature, sun, rain)\n",
    "\n",
    "\n",
    "              precision    recall  f1-score   support\n",
    "\n",
    "           0       0.84      0.65      0.73      2222\n",
    "           1       0.45      0.69      0.55       910\n",
    "\n",
    "    accuracy                           0.66      3132\n",
    "   macro avg       0.64      0.67      0.64      3132\n",
    "weighted avg       0.73      0.66      0.68      3132"
   ],
   "id": "bdd3ccf0436a7613"
  },
  {
   "metadata": {},
   "cell_type": "markdown",
   "source": [
    "simple model with (temp, sun, rain, snow). Therefor snow did not use anything\n",
    "\n",
    "              precision    recall  f1-score   support\n",
    "\n",
    "           0       0.83      0.71      0.77      2222\n",
    "           1       0.48      0.65      0.55       910\n",
    "\n",
    "    accuracy                           0.69      3132\n",
    "   macro avg       0.66      0.68      0.66      3132\n",
    "weighted avg       0.73      0.69      0.70      3132\n"
   ],
   "id": "d35ba35822d2c5ed"
  }
 ],
 "metadata": {
  "kernelspec": {
   "display_name": "Python 3",
   "language": "python",
   "name": "python3"
  },
  "language_info": {
   "codemirror_mode": {
    "name": "ipython",
    "version": 2
   },
   "file_extension": ".py",
   "mimetype": "text/x-python",
   "name": "python",
   "nbconvert_exporter": "python",
   "pygments_lexer": "ipython2",
   "version": "2.7.6"
  }
 },
 "nbformat": 4,
 "nbformat_minor": 5
}
