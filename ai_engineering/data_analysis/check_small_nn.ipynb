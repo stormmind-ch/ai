{
 "cells": [
  {
   "cell_type": "code",
   "id": "initial_id",
   "metadata": {
    "collapsed": true,
    "ExecuteTime": {
     "end_time": "2025-05-05T18:19:20.983643Z",
     "start_time": "2025-05-05T18:19:20.971899Z"
    }
   },
   "source": [
    "from torch.nn import CrossEntropyLoss\n",
    "\n",
    "from datasets.ClusteredStormDamageDataset import ClusteredStormDamageDataset\n",
    "import numpy as np\n",
    "from sklearn.ensemble import RandomForestClassifier\n",
    "from sklearn.metrics import classification_report\n",
    "import pandas as pd\n",
    "import matplotlib.pyplot as plt\n",
    "import torch.nn as nn\n",
    "import torch\n",
    "from datasets.NormalizedClusteredStormDamageDataset import NormalizedClusteredStormDamageDataset\n",
    "import torch.optim.lr_scheduler as lr_scheduler\n",
    "import matplotlib.pyplot as plt\n",
    "from sklearn.metrics import confusion_matrix\n",
    "from imblearn.over_sampling import SMOTE\n"
   ],
   "outputs": [],
   "execution_count": 10
  },
  {
   "metadata": {
    "ExecuteTime": {
     "end_time": "2025-05-05T18:49:18.701364Z",
     "start_time": "2025-05-05T18:48:17.758037Z"
    }
   },
   "cell_type": "code",
   "source": [
    "train_dataset = NormalizedClusteredStormDamageDataset('../../Ressources/main_data_1972_2023.csv',\n",
    "                                    '../../Ressources/weather_data4',\n",
    "                                    '../../Ressources/municipalities_coordinates_newest.csv',\n",
    "                                              n_clusters=3,\n",
    "                                              n_sequences=0, test_years=10,\n",
    "                                              grouping_calendar='weekly', split='train',\n",
    "                                              damage_weights={0: 0, 1: 0.06, 2: 0.8, 3: 11.3})\n",
    "mean, std = train_dataset.mean, train_dataset.std\n",
    "\n",
    "test_dataset = NormalizedClusteredStormDamageDataset('../../Ressources/main_data_1972_2023.csv',\n",
    "                                    '../../Ressources/weather_data4',\n",
    "                                    '../../Ressources/municipalities_coordinates_newest.csv',\n",
    "                                              n_clusters=3  ,\n",
    "                                              n_sequences=0, test_years=10,\n",
    "                                              grouping_calendar='weekly', split='test',\n",
    "                                              damage_weights={0: 0, 1: 0.06, 2: 0.8, 3: 11.3},\n",
    "                                                mean=mean, std=std)"
   ],
   "id": "23440db069c9dade",
   "outputs": [
    {
     "name": "stdout",
     "output_type": "stream",
     "text": [
      "low threshold: 11.3\n",
      "mid thresh: 22.63982287\n",
      "low threshold: 11.3\n",
      "mid thresh: 22.63982287\n"
     ]
    }
   ],
   "execution_count": 117
  },
  {
   "metadata": {
    "ExecuteTime": {
     "end_time": "2025-05-05T18:49:25.102852Z",
     "start_time": "2025-05-05T18:49:25.097459Z"
    }
   },
   "cell_type": "code",
   "source": "mean, std",
   "id": "d3f3f54a7e3766bf",
   "outputs": [
    {
     "data": {
      "text/plain": [
       "(tensor([7.1596e+00, 2.8898e+04, 2.2029e+01, 4.2406e+00, 6.5267e+00, 3.4109e-01,\n",
       "         4.6913e+01, 7.9926e+00]),\n",
       " tensor([7.4802e+00, 1.0397e+04, 2.1813e+01, 9.5241e+00, 3.4481e+00, 4.7407e-01,\n",
       "         2.1207e-01, 9.2782e-01]))"
      ]
     },
     "execution_count": 118,
     "metadata": {},
     "output_type": "execute_result"
    }
   ],
   "execution_count": 118
  },
  {
   "metadata": {
    "ExecuteTime": {
     "end_time": "2025-05-05T18:49:27.162846Z",
     "start_time": "2025-05-05T18:49:26.874590Z"
    }
   },
   "cell_type": "code",
   "source": [
    "all_X_train, all_y_train = [], []\n",
    "for feat, lbl in train_dataset:\n",
    "    cur = feat[0].numpy()\n",
    "    all_X_train.append(cur)\n",
    "    all_y_train.append(1 if lbl > 0 else 0)\n",
    "all_X_train = np.vstack(all_X_train)\n",
    "all_y_train = np.array(all_y_train)"
   ],
   "id": "6623de8fa4cf640f",
   "outputs": [
    {
     "name": "stderr",
     "output_type": "stream",
     "text": [
      "/Users/nilsgamperli/PycharmProjects/StormMind/ai_engineering/datasets/NormalizedClusteredStormDamageDataset.py:46: UserWarning: To copy construct from a tensor, it is recommended to use sourceTensor.clone().detach() or sourceTensor.clone().detach().requires_grad_(True), rather than torch.tensor(sourceTensor).\n",
      "  mean = torch.tensor(self.mean, device=features.device)\n",
      "/Users/nilsgamperli/PycharmProjects/StormMind/ai_engineering/datasets/NormalizedClusteredStormDamageDataset.py:47: UserWarning: To copy construct from a tensor, it is recommended to use sourceTensor.clone().detach() or sourceTensor.clone().detach().requires_grad_(True), rather than torch.tensor(sourceTensor).\n",
      "  std = torch.tensor(self.std,  device=features.device)\n"
     ]
    }
   ],
   "execution_count": 119
  },
  {
   "metadata": {
    "ExecuteTime": {
     "end_time": "2025-05-05T18:49:28.870505Z",
     "start_time": "2025-05-05T18:49:28.790087Z"
    }
   },
   "cell_type": "code",
   "source": [
    "all_X_test, all_y_test = [], []\n",
    "for feat, lbl in test_dataset:\n",
    "    cur = feat[0].numpy()\n",
    "    all_X_test.append(cur)\n",
    "    all_y_test.append(1 if lbl > 0 else 0)\n",
    "all_X_test = np.vstack(all_X_test)\n",
    "all_y_test = np.array(all_y_test)"
   ],
   "id": "ba1ec972efb8416c",
   "outputs": [],
   "execution_count": 120
  },
  {
   "metadata": {
    "ExecuteTime": {
     "end_time": "2025-05-05T18:49:31.948553Z",
     "start_time": "2025-05-05T18:49:31.945029Z"
    }
   },
   "cell_type": "code",
   "source": "all_X_train.shape, all_y_train.shape, all_X_train.shape, all_y_test.shape",
   "id": "fe87dffdbc4aa00e",
   "outputs": [
    {
     "data": {
      "text/plain": [
       "((6573, 8), (6573,), (6573, 8), (1566,))"
      ]
     },
     "execution_count": 121,
     "metadata": {},
     "output_type": "execute_result"
    }
   ],
   "execution_count": 121
  },
  {
   "metadata": {
    "ExecuteTime": {
     "end_time": "2025-05-05T18:43:47.730396Z",
     "start_time": "2025-05-05T18:43:47.721923Z"
    }
   },
   "cell_type": "code",
   "source": "compute_class_weight(class_weight='balanced', classes=np.array([0, 1]), y=all_y_train)",
   "id": "69eda32a0b72325e",
   "outputs": [
    {
     "data": {
      "text/plain": [
       "array([1.2025247 , 0.85585937])"
      ]
     },
     "execution_count": 94,
     "metadata": {},
     "output_type": "execute_result"
    }
   ],
   "execution_count": 94
  },
  {
   "metadata": {
    "ExecuteTime": {
     "end_time": "2025-05-05T18:49:38.787369Z",
     "start_time": "2025-05-05T18:49:38.782220Z"
    }
   },
   "cell_type": "code",
   "source": [
    "all_X_train[:, 4] = all_X_train[:, 4] * std[4].numpy() + mean[4].numpy()\n",
    "all_X_test[:, 4] = all_X_test[:, 4] * std[4].numpy() + mean[4].numpy()"
   ],
   "id": "ec823cc5734f1eca",
   "outputs": [],
   "execution_count": 122
  },
  {
   "metadata": {
    "ExecuteTime": {
     "end_time": "2025-05-05T18:49:41.189700Z",
     "start_time": "2025-05-05T18:49:41.186158Z"
    }
   },
   "cell_type": "code",
   "source": "np.unique(all_X_train[:,4])",
   "id": "fd6be39a147d3e2a",
   "outputs": [
    {
     "data": {
      "text/plain": [
       "array([ 1.       ,  2.       ,  2.9999998,  4.       ,  5.       ,\n",
       "        6.       ,  7.       ,  8.       ,  9.       , 10.       ,\n",
       "       11.       , 12.       ], dtype=float32)"
      ]
     },
     "execution_count": 123,
     "metadata": {},
     "output_type": "execute_result"
    }
   ],
   "execution_count": 123
  },
  {
   "metadata": {
    "ExecuteTime": {
     "end_time": "2025-05-05T18:49:42.718598Z",
     "start_time": "2025-05-05T18:49:42.712369Z"
    }
   },
   "cell_type": "code",
   "source": [
    "# put months into seasons:\n",
    "def month_to_season(months):\n",
    "    # months is a NumPy array of shape (N,)\n",
    "    return np.select(\n",
    "        [np.isin(months, [12, 1, 2]),\n",
    "         np.isin(months, [3, 4, 5]),\n",
    "         np.isin(months, [6, 7, 8]),\n",
    "         np.isin(months, [9, 10, 11])],\n",
    "        [0, 1, 2, 3]\n",
    "    )\n",
    "\n",
    "def month_to_sine(months):\n",
    "    return np.sin((2*np.pi*months)/12)"
   ],
   "id": "60a06f6798e8d9cb",
   "outputs": [],
   "execution_count": 124
  },
  {
   "metadata": {
    "ExecuteTime": {
     "end_time": "2025-05-05T18:49:44.728495Z",
     "start_time": "2025-05-05T18:49:44.724611Z"
    }
   },
   "cell_type": "code",
   "source": [
    "all_X_train[:, 4] = month_to_sine(all_X_train[:, 4].astype(int))\n",
    "all_X_test[:, 4] = month_to_sine(all_X_test[:, 4].astype(int))"
   ],
   "id": "327f23c4b36f96a1",
   "outputs": [],
   "execution_count": 125
  },
  {
   "metadata": {
    "ExecuteTime": {
     "end_time": "2025-05-05T18:49:45.998325Z",
     "start_time": "2025-05-05T18:49:45.993601Z"
    }
   },
   "cell_type": "code",
   "source": "np.unique(all_X_train[:,4]), np.unique(all_X_test[:,4])",
   "id": "5eadb0346d3a9d1e",
   "outputs": [
    {
     "data": {
      "text/plain": [
       "(array([-1.0000000e+00, -8.6602539e-01, -5.0000000e-01, -2.4492937e-16,\n",
       "         1.2246469e-16,  5.0000000e-01,  8.6602539e-01], dtype=float32),\n",
       " array([-1.0000000e+00, -8.6602539e-01, -5.0000000e-01, -2.4492937e-16,\n",
       "         1.2246469e-16,  5.0000000e-01,  8.6602539e-01], dtype=float32))"
      ]
     },
     "execution_count": 126,
     "metadata": {},
     "output_type": "execute_result"
    }
   ],
   "execution_count": 126
  },
  {
   "metadata": {},
   "cell_type": "markdown",
   "source": [
    "Row features:\n",
    "t2m, sun, rain, snow, date_tensor, label_old, lat_tensor, long_tensor"
   ],
   "id": "da7082f74fa51325"
  },
  {
   "metadata": {
    "ExecuteTime": {
     "end_time": "2025-05-05T18:49:47.907042Z",
     "start_time": "2025-05-05T18:49:47.904251Z"
    }
   },
   "cell_type": "code",
   "source": [
    "#X_train = np.concatenate((all_X_train[:, :3], all_X_train[:, 4:8]), axis=1)\n",
    "#X_test = np.concatenate((all_X_test[:, :3], all_X_test[:, 4:8]), axis=1)\n",
    "X_train = all_X_train[:,:3]\n",
    "X_test = all_X_test[:,:3]"
   ],
   "id": "e96282fbf8f59c90",
   "outputs": [],
   "execution_count": 127
  },
  {
   "metadata": {
    "ExecuteTime": {
     "end_time": "2025-05-03T17:04:52.242051Z",
     "start_time": "2025-05-03T17:04:52.226360Z"
    }
   },
   "cell_type": "code",
   "source": "",
   "id": "d23da15b5ff40f0b",
   "outputs": [
    {
     "data": {
      "text/plain": [
       "array([[-1.5121783 ,  0.8958607 ],\n",
       "       [-0.8187152 , -0.4371171 ],\n",
       "       [-0.6945759 , -0.8197718 ],\n",
       "       [-0.45970234, -1.5437608 ],\n",
       "       [ 0.57930934,  1.4305598 ],\n",
       "       [ 0.5843975 ,  1.4228282 ],\n",
       "       [ 0.897354  , -0.681327  ],\n",
       "       [ 0.9043213 , -0.66375816],\n",
       "       [ 0.9136381 , -0.64026505],\n",
       "       [ 0.9334857 , -0.5902174 ],\n",
       "       [ 1.0105203 , -0.3959666 ],\n",
       "       [ 1.0247493 , -0.36008686],\n",
       "       [ 1.060204  , -0.27068424],\n",
       "       [ 1.1017642 , -0.16588612],\n",
       "       [ 1.1493247 , -0.04595742],\n",
       "       [ 1.2465516 ,  0.19921002],\n",
       "       [ 1.2908598 ,  0.31093773],\n",
       "       [ 1.3003677 ,  0.33491284]], dtype=float32)"
      ]
     },
     "execution_count": 316,
     "metadata": {},
     "output_type": "execute_result"
    }
   ],
   "execution_count": 316
  },
  {
   "metadata": {
    "ExecuteTime": {
     "end_time": "2025-05-04T15:14:11.769885Z",
     "start_time": "2025-05-04T15:14:11.741901Z"
    }
   },
   "cell_type": "code",
   "source": [
    "smote = SMOTE(random_state=42)\n",
    "X_train, y_train = smote.fit_resample(X_train, all_y_train)"
   ],
   "id": "fd082e0d0973fc2d",
   "outputs": [],
   "execution_count": 66
  },
  {
   "metadata": {
    "ExecuteTime": {
     "end_time": "2025-05-05T18:49:51.629113Z",
     "start_time": "2025-05-05T18:49:51.624546Z"
    }
   },
   "cell_type": "code",
   "source": "X_train.shape, all_y_train.shape",
   "id": "b6951388d7d869de",
   "outputs": [
    {
     "data": {
      "text/plain": [
       "((6573, 3), (6573,))"
      ]
     },
     "execution_count": 128,
     "metadata": {},
     "output_type": "execute_result"
    }
   ],
   "execution_count": 128
  },
  {
   "metadata": {
    "ExecuteTime": {
     "end_time": "2025-05-05T18:49:53.389592Z",
     "start_time": "2025-05-05T18:49:53.384891Z"
    }
   },
   "cell_type": "code",
   "source": "np.unique(all_y_train, return_counts=True)",
   "id": "471990d24ad85464",
   "outputs": [
    {
     "data": {
      "text/plain": [
       "(array([0, 1]), array([4331, 2242]))"
      ]
     },
     "execution_count": 129,
     "metadata": {},
     "output_type": "execute_result"
    }
   ],
   "execution_count": 129
  },
  {
   "metadata": {
    "ExecuteTime": {
     "end_time": "2025-05-05T18:50:01.469516Z",
     "start_time": "2025-05-05T18:50:01.464009Z"
    }
   },
   "cell_type": "code",
   "source": "np.unique(all_y_train), np.unique(all_y_test)",
   "id": "33eb9b2d7653c67c",
   "outputs": [
    {
     "data": {
      "text/plain": [
       "(array([0, 1]), array([0, 1]))"
      ]
     },
     "execution_count": 130,
     "metadata": {},
     "output_type": "execute_result"
    }
   ],
   "execution_count": 130
  },
  {
   "metadata": {
    "ExecuteTime": {
     "end_time": "2025-05-05T18:50:03.673319Z",
     "start_time": "2025-05-05T18:50:03.667880Z"
    }
   },
   "cell_type": "code",
   "source": [
    "class SimpleMLP(nn.Module):\n",
    "    def __init__(self):\n",
    "        super(SimpleMLP, self).__init__()\n",
    "        self.net = nn.Sequential(\n",
    "            nn.Linear(3,16),\n",
    "            nn.ReLU(),\n",
    "            nn.Linear(16, 32),\n",
    "            nn.ReLU(),\n",
    "            nn.Linear(32, 32),\n",
    "            nn.ReLU(),\n",
    "            nn.Linear(32, 64),\n",
    "            nn.ReLU(),\n",
    "            nn.Linear(64, 64),\n",
    "            nn.ReLU(),\n",
    "            nn.Linear(64, 64),\n",
    "            nn.ReLU(),\n",
    "            nn.Linear(64, 32),\n",
    "            nn.ReLU(),\n",
    "            nn.Linear(32, 16),\n",
    "            nn.ReLU(),\n",
    "            nn.Linear(16, 8),\n",
    "            nn.Linear(8,2)\n",
    "        )\n",
    "\n",
    "    def forward(self, x):\n",
    "        return self.net(x)"
   ],
   "id": "5beea0cc422da894",
   "outputs": [],
   "execution_count": 131
  },
  {
   "metadata": {
    "ExecuteTime": {
     "end_time": "2025-05-05T18:50:05.834738Z",
     "start_time": "2025-05-05T18:50:05.829227Z"
    }
   },
   "cell_type": "code",
   "source": [
    "coords = X_train[:, 5:7]\n",
    "unique_coords, coord_indices = np.unique(coords, axis=0, return_inverse=True)\n",
    "unique_coords"
   ],
   "id": "f1c092f9c99895be",
   "outputs": [
    {
     "data": {
      "text/plain": [
       "array([], shape=(1, 0), dtype=float32)"
      ]
     },
     "execution_count": 132,
     "metadata": {},
     "output_type": "execute_result"
    }
   ],
   "execution_count": 132
  },
  {
   "metadata": {
    "ExecuteTime": {
     "end_time": "2025-05-05T18:50:07.431465Z",
     "start_time": "2025-05-05T18:50:07.425448Z"
    }
   },
   "cell_type": "code",
   "source": [
    "from torch.utils.data import TensorDataset, DataLoader\n",
    "\n",
    "X_train_tensor = torch.tensor(X_train, dtype=torch.float32)\n",
    "y_train_tensor = torch.tensor(all_y_train, dtype=torch.long)\n",
    "X_test_tensor = torch.tensor(X_test, dtype=torch.float32)\n",
    "y_test_tensor = torch.tensor(all_y_test, dtype=torch.long)\n",
    "\n",
    "# Dataset and DataLoader\n",
    "train_ds = TensorDataset(X_train_tensor, y_train_tensor)\n",
    "test_ds = TensorDataset(X_test_tensor, y_test_tensor)\n",
    "\n",
    "train_loader = DataLoader(train_ds, batch_size=32, shuffle=False)\n",
    "test_loader = DataLoader(test_ds, batch_size=32)\n"
   ],
   "id": "358a63953f1b9e34",
   "outputs": [],
   "execution_count": 133
  },
  {
   "metadata": {
    "ExecuteTime": {
     "end_time": "2025-05-05T18:50:08.922334Z",
     "start_time": "2025-05-05T18:50:08.917031Z"
    }
   },
   "cell_type": "code",
   "source": [
    "def validate(model, dataloader, criterion):\n",
    "    model.eval()\n",
    "    running_loss = 0.0\n",
    "    all_preds = []\n",
    "    all_labels = []\n",
    "\n",
    "    with torch.no_grad():\n",
    "       for input, labels in dataloader:\n",
    "            outputs= model(input)\n",
    "            loss = criterion(outputs, labels)\n",
    "\n",
    "            running_loss += loss.item()\n",
    "            predictions = torch.argmax(outputs, dim=1)\n",
    "            threshold = 0.45 # Example: more conservative, favors precision\n",
    "            predictions = (predictions >= threshold).long()\n",
    "\n",
    "            all_preds.append(predictions)\n",
    "            all_labels.append(labels)\n",
    "\n",
    "    all_labels = np.concatenate(all_labels)\n",
    "    all_pred = np.concatenate(all_preds)\n",
    "    report =  classification_report(all_labels, all_pred, zero_division=0.0, output_dict=True)\n",
    "    cm = confusion_matrix(all_labels, all_pred)\n",
    "    accuracy = report[\"accuracy\"]\n",
    "    f1 = report[\"macro avg\"][\"f1-score\"]\n",
    "    return running_loss / len(dataloader), report, accuracy, cm, f1"
   ],
   "id": "b54cce6201dc4e0d",
   "outputs": [],
   "execution_count": 134
  },
  {
   "metadata": {
    "ExecuteTime": {
     "end_time": "2025-05-05T18:50:19.108243Z",
     "start_time": "2025-05-05T18:50:11.251144Z"
    }
   },
   "cell_type": "code",
   "source": [
    "from sklearn.utils import compute_class_weight\n",
    "\n",
    "\n",
    "model = SimpleMLP()\n",
    "# Class weights\n",
    "\n",
    "weights = compute_class_weight(class_weight='balanced', classes=np.array([0, 1]), y=all_y_train)\n",
    "weights = torch.tensor(weights, dtype=torch.float32)\n",
    "criterion = nn.CrossEntropyLoss(weight=weights)\n",
    "optimizer = torch.optim.Adam(model.parameters(), lr=1e-5)\n",
    "scheduler = lr_scheduler.LinearLR(optimizer, start_factor=0.1, end_factor=1, total_iters=100)\n",
    "print(weights)\n",
    "\n",
    "# Training loop\n",
    "train_losses = []\n",
    "val_losses = []\n",
    "accs = []\n",
    "f1s = []\n",
    "for epoch in range(64):\n",
    "    model.train()\n",
    "    running_loss = 0.0\n",
    "    for xb, yb in train_loader:\n",
    "        logits = model(xb)\n",
    "        loss = criterion(logits, yb)\n",
    "        optimizer.zero_grad()\n",
    "        loss.backward()\n",
    "        optimizer.step()\n",
    "        running_loss += loss.item()\n",
    "\n",
    "    avg_train_loss = running_loss / len(train_loader)\n",
    "    train_losses.append(avg_train_loss)\n",
    "\n",
    "    val_loss, _, acc, _, f1 = validate(model, test_loader, criterion)\n",
    "    val_losses.append(val_loss)\n",
    "    accs.append(acc)\n",
    "    f1s.append(f1)\n",
    "    scheduler.step()\n",
    "\n",
    "    print(f\"Epoch {epoch+1}: Train Loss = {avg_train_loss:.4f} | Val Loss = {val_loss:.4f} | Accuracy = {acc:.4f}\")\n"
   ],
   "id": "e9674b5607b934f1",
   "outputs": [
    {
     "name": "stdout",
     "output_type": "stream",
     "text": [
      "tensor([0.7588, 1.4659])\n",
      "Epoch 1: Train Loss = 0.7023 | Val Loss = 0.7481 | Accuracy = 0.5549\n",
      "Epoch 2: Train Loss = 0.7022 | Val Loss = 0.7480 | Accuracy = 0.5549\n",
      "Epoch 3: Train Loss = 0.7022 | Val Loss = 0.7478 | Accuracy = 0.5549\n",
      "Epoch 4: Train Loss = 0.7021 | Val Loss = 0.7476 | Accuracy = 0.5549\n",
      "Epoch 5: Train Loss = 0.7020 | Val Loss = 0.7475 | Accuracy = 0.5549\n",
      "Epoch 6: Train Loss = 0.7020 | Val Loss = 0.7473 | Accuracy = 0.5549\n",
      "Epoch 7: Train Loss = 0.7019 | Val Loss = 0.7471 | Accuracy = 0.5549\n",
      "Epoch 8: Train Loss = 0.7018 | Val Loss = 0.7469 | Accuracy = 0.5549\n",
      "Epoch 9: Train Loss = 0.7017 | Val Loss = 0.7466 | Accuracy = 0.5549\n",
      "Epoch 10: Train Loss = 0.7016 | Val Loss = 0.7464 | Accuracy = 0.5549\n",
      "Epoch 11: Train Loss = 0.7015 | Val Loss = 0.7462 | Accuracy = 0.5549\n",
      "Epoch 12: Train Loss = 0.7014 | Val Loss = 0.7459 | Accuracy = 0.5549\n",
      "Epoch 13: Train Loss = 0.7013 | Val Loss = 0.7457 | Accuracy = 0.5549\n",
      "Epoch 14: Train Loss = 0.7012 | Val Loss = 0.7454 | Accuracy = 0.5549\n",
      "Epoch 15: Train Loss = 0.7011 | Val Loss = 0.7451 | Accuracy = 0.5549\n",
      "Epoch 16: Train Loss = 0.7010 | Val Loss = 0.7448 | Accuracy = 0.5549\n",
      "Epoch 17: Train Loss = 0.7009 | Val Loss = 0.7445 | Accuracy = 0.5549\n",
      "Epoch 18: Train Loss = 0.7008 | Val Loss = 0.7442 | Accuracy = 0.5549\n",
      "Epoch 19: Train Loss = 0.7006 | Val Loss = 0.7439 | Accuracy = 0.5549\n",
      "Epoch 20: Train Loss = 0.7005 | Val Loss = 0.7436 | Accuracy = 0.5549\n",
      "Epoch 21: Train Loss = 0.7004 | Val Loss = 0.7432 | Accuracy = 0.5549\n",
      "Epoch 22: Train Loss = 0.7003 | Val Loss = 0.7429 | Accuracy = 0.5549\n",
      "Epoch 23: Train Loss = 0.7001 | Val Loss = 0.7426 | Accuracy = 0.5549\n",
      "Epoch 24: Train Loss = 0.7000 | Val Loss = 0.7422 | Accuracy = 0.5549\n",
      "Epoch 25: Train Loss = 0.6998 | Val Loss = 0.7419 | Accuracy = 0.5549\n",
      "Epoch 26: Train Loss = 0.6997 | Val Loss = 0.7415 | Accuracy = 0.5549\n",
      "Epoch 27: Train Loss = 0.6996 | Val Loss = 0.7411 | Accuracy = 0.5549\n",
      "Epoch 28: Train Loss = 0.6994 | Val Loss = 0.7407 | Accuracy = 0.5549\n",
      "Epoch 29: Train Loss = 0.6993 | Val Loss = 0.7404 | Accuracy = 0.5549\n",
      "Epoch 30: Train Loss = 0.6991 | Val Loss = 0.7400 | Accuracy = 0.5549\n",
      "Epoch 31: Train Loss = 0.6990 | Val Loss = 0.7396 | Accuracy = 0.5549\n",
      "Epoch 32: Train Loss = 0.6988 | Val Loss = 0.7392 | Accuracy = 0.5549\n",
      "Epoch 33: Train Loss = 0.6986 | Val Loss = 0.7387 | Accuracy = 0.5549\n",
      "Epoch 34: Train Loss = 0.6985 | Val Loss = 0.7383 | Accuracy = 0.5549\n",
      "Epoch 35: Train Loss = 0.6983 | Val Loss = 0.7379 | Accuracy = 0.5549\n",
      "Epoch 36: Train Loss = 0.6982 | Val Loss = 0.7375 | Accuracy = 0.5549\n",
      "Epoch 37: Train Loss = 0.6980 | Val Loss = 0.7370 | Accuracy = 0.5549\n",
      "Epoch 38: Train Loss = 0.6978 | Val Loss = 0.7366 | Accuracy = 0.5549\n",
      "Epoch 39: Train Loss = 0.6976 | Val Loss = 0.7361 | Accuracy = 0.5549\n",
      "Epoch 40: Train Loss = 0.6974 | Val Loss = 0.7357 | Accuracy = 0.5549\n",
      "Epoch 41: Train Loss = 0.6973 | Val Loss = 0.7352 | Accuracy = 0.5549\n",
      "Epoch 42: Train Loss = 0.6971 | Val Loss = 0.7348 | Accuracy = 0.5549\n",
      "Epoch 43: Train Loss = 0.6969 | Val Loss = 0.7344 | Accuracy = 0.5549\n",
      "Epoch 44: Train Loss = 0.6967 | Val Loss = 0.7339 | Accuracy = 0.5549\n",
      "Epoch 45: Train Loss = 0.6965 | Val Loss = 0.7335 | Accuracy = 0.5549\n",
      "Epoch 46: Train Loss = 0.6963 | Val Loss = 0.7330 | Accuracy = 0.5549\n",
      "Epoch 47: Train Loss = 0.6961 | Val Loss = 0.7326 | Accuracy = 0.5549\n",
      "Epoch 48: Train Loss = 0.6959 | Val Loss = 0.7321 | Accuracy = 0.5549\n",
      "Epoch 49: Train Loss = 0.6957 | Val Loss = 0.7316 | Accuracy = 0.5549\n",
      "Epoch 50: Train Loss = 0.6955 | Val Loss = 0.7311 | Accuracy = 0.5549\n",
      "Epoch 51: Train Loss = 0.6952 | Val Loss = 0.7306 | Accuracy = 0.5549\n",
      "Epoch 52: Train Loss = 0.6950 | Val Loss = 0.7301 | Accuracy = 0.5549\n",
      "Epoch 53: Train Loss = 0.6947 | Val Loss = 0.7296 | Accuracy = 0.5549\n",
      "Epoch 54: Train Loss = 0.6944 | Val Loss = 0.7291 | Accuracy = 0.5549\n",
      "Epoch 55: Train Loss = 0.6941 | Val Loss = 0.7286 | Accuracy = 0.5549\n",
      "Epoch 56: Train Loss = 0.6938 | Val Loss = 0.7281 | Accuracy = 0.5549\n",
      "Epoch 57: Train Loss = 0.6935 | Val Loss = 0.7276 | Accuracy = 0.5549\n",
      "Epoch 58: Train Loss = 0.6932 | Val Loss = 0.7270 | Accuracy = 0.5549\n",
      "Epoch 59: Train Loss = 0.6928 | Val Loss = 0.7265 | Accuracy = 0.5549\n",
      "Epoch 60: Train Loss = 0.6924 | Val Loss = 0.7259 | Accuracy = 0.5549\n",
      "Epoch 61: Train Loss = 0.6920 | Val Loss = 0.7253 | Accuracy = 0.5549\n",
      "Epoch 62: Train Loss = 0.6916 | Val Loss = 0.7247 | Accuracy = 0.5549\n",
      "Epoch 63: Train Loss = 0.6911 | Val Loss = 0.7241 | Accuracy = 0.5549\n",
      "Epoch 64: Train Loss = 0.6905 | Val Loss = 0.7234 | Accuracy = 0.5549\n"
     ]
    }
   ],
   "execution_count": 135
  },
  {
   "metadata": {
    "ExecuteTime": {
     "end_time": "2025-05-05T18:50:22.170298Z",
     "start_time": "2025-05-05T18:50:22.098061Z"
    }
   },
   "cell_type": "code",
   "source": [
    "epochs = [i for i in range(64)]\n",
    "plt.plot(epochs, train_losses, label='train loss')\n",
    "plt.plot(epochs, val_losses, label='test loss')\n",
    "plt.plot(epochs, accs, label='accuracy')\n",
    "plt.plot(epochs, f1s, label= 'f1')\n",
    "plt.xlabel(\"epoch\")\n",
    "plt.ylabel(\"loss\")\n",
    "plt.legend()\n",
    "plt.title(\"Train loss and val_loss\")\n",
    "plt.show()"
   ],
   "id": "d1c453562ec49727",
   "outputs": [
    {
     "data": {
      "text/plain": [
       "<Figure size 640x480 with 1 Axes>"
      ],
      "image/png": "[encoded data removed]"
     },
     "metadata": {},
     "output_type": "display_data"
    }
   ],
   "execution_count": 136
  },
  {
   "metadata": {
    "ExecuteTime": {
     "end_time": "2025-05-05T18:50:24.307141Z",
     "start_time": "2025-05-05T18:50:24.304101Z"
    }
   },
   "cell_type": "code",
   "source": "print(f1s[-1])",
   "id": "54e3071402c8a0d7",
   "outputs": [
    {
     "name": "stdout",
     "output_type": "stream",
     "text": [
      "0.3568788501026694\n"
     ]
    }
   ],
   "execution_count": 137
  },
  {
   "metadata": {
    "ExecuteTime": {
     "end_time": "2025-05-05T18:50:25.715716Z",
     "start_time": "2025-05-05T18:50:25.642138Z"
    }
   },
   "cell_type": "code",
   "source": [
    "_, _, _, cm, _ = validate(model, test_loader, criterion)\n",
    "import seaborn as sns\n",
    "\n",
    "# Optional: define class names\n",
    "class_names = [\"Class 0\", \"Class 1\"]\n",
    "\n",
    "plt.figure(figsize=(6, 5))\n",
    "sns.heatmap(cm, annot=True, fmt=\"d\", cmap=\"Blues\",\n",
    "            xticklabels=class_names, yticklabels=class_names)\n",
    "\n",
    "plt.xlabel(\"Predicted Label\")\n",
    "plt.ylabel(\"True Label\")\n",
    "plt.title(\"Confusion Matrix\")\n",
    "plt.tight_layout()\n",
    "plt.show()\n"
   ],
   "id": "191de7348796926e",
   "outputs": [
    {
     "data": {
      "text/plain": [
       "<Figure size 600x500 with 2 Axes>"
      ],
      "image/png": "[encoded data removed]"
     },
     "metadata": {},
     "output_type": "display_data"
    }
   ],
   "execution_count": 138
  },
  {
   "metadata": {},
   "cell_type": "markdown",
   "source": [
    "\n",
    "\n",
    "              precision    recall  f1-score   support\n",
    "\n",
    "           0       0.84      0.65      0.73      2222\n",
    "           1       0.45      0.69      0.55       910\n",
    "\n",
    "    accuracy                           0.66      3132\n",
    "   macro avg       0.64      0.67      0.64      3132\n",
    "weighted avg       0.73      0.66      0.68      3132"
   ],
   "id": "bdd3ccf0436a7613"
  },
  {
   "metadata": {},
   "cell_type": "markdown",
   "source": [
    "simple model with (temp, sun, rain, snow). Therefor snow did not use anything\n",
    "\n",
    "              precision    recall  f1-score   support\n",
    "\n",
    "           0       0.83      0.71      0.77      2222\n",
    "           1       0.48      0.65      0.55       910\n",
    "\n",
    "    accuracy                           0.69      3132\n",
    "   macro avg       0.66      0.68      0.66      3132\n",
    "weighted avg       0.73      0.69      0.70      3132\n"
   ],
   "id": "d35ba35822d2c5ed"
  },
  {
   "metadata": {},
   "cell_type": "code",
   "outputs": [],
   "execution_count": null,
   "source": "torch.save(model.state_dict(), \"../trained_models/small_nn_acc73_f1\")",
   "id": "89c69e0999452723"
  }
 ],
 "metadata": {
  "kernelspec": {
   "display_name": "Python 3",
   "language": "python",
   "name": "python3"
  },
  "language_info": {
   "codemirror_mode": {
    "name": "ipython",
    "version": 2
   },
   "file_extension": ".py",
   "mimetype": "text/x-python",
   "name": "python",
   "nbconvert_exporter": "python",
   "pygments_lexer": "ipython2",
   "version": "2.7.6"
  }
 },
 "nbformat": 4,
 "nbformat_minor": 5
}
