{
 "cells": [
  {
   "cell_type": "code",
   "id": "initial_id",
   "metadata": {
    "collapsed": true,
    "ExecuteTime": {
     "end_time": "2025-05-06T15:58:53.423411Z",
     "start_time": "2025-05-06T15:58:51.571735Z"
    }
   },
   "source": [
    "from torch.nn import CrossEntropyLoss\n",
    "\n",
    "from datasets.ClusteredStormDamageDataset import ClusteredStormDamageDataset\n",
    "import numpy as np\n",
    "from sklearn.ensemble import RandomForestClassifier\n",
    "from sklearn.metrics import classification_report\n",
    "import pandas as pd\n",
    "import matplotlib.pyplot as plt\n",
    "import torch.nn as nn\n",
    "import torch\n",
    "from datasets.NormalizedClusteredStormDamageDataset import NormalizedClusteredStormDamageDataset\n",
    "import torch.optim.lr_scheduler as lr_scheduler\n",
    "import matplotlib.pyplot as plt\n",
    "from sklearn.metrics import confusion_matrix\n",
    "from imblearn.over_sampling import SMOTE\n"
   ],
   "outputs": [],
   "execution_count": 1
  },
  {
   "metadata": {
    "ExecuteTime": {
     "end_time": "2025-05-06T16:00:30.833054Z",
     "start_time": "2025-05-06T15:58:56.577536Z"
    }
   },
   "cell_type": "code",
   "source": [
    "train_dataset = NormalizedClusteredStormDamageDataset('../../Ressources/main_data_1972_2023.csv',\n",
    "                                    '../../Ressources/weather_data4',\n",
    "                                    '../../Ressources/municipalities_coordinates_newest.csv',\n",
    "                                              n_clusters=6,\n",
    "                                              n_sequences=0, val_years=10, test_years=10,\n",
    "                                              grouping_calendar='weekly', split='train',\n",
    "                                              damage_weights={0: 0, 1: 0.06, 2: 0.8, 3: 11.3})\n",
    "mean, std = train_dataset.mean, train_dataset.std\n",
    "\n",
    "val_dataset = NormalizedClusteredStormDamageDataset('../../Ressources/main_data_1972_2023.csv',\n",
    "                                    '../../Ressources/weather_data4',\n",
    "                                    '../../Ressources/municipalities_coordinates_newest.csv',\n",
    "                                              n_clusters=6,\n",
    "                                              n_sequences=0,val_years=10, test_years=10,\n",
    "                                              grouping_calendar='weekly', split='val',\n",
    "                                              damage_weights={0: 0, 1: 0.06, 2: 0.8, 3: 11.3},\n",
    "                                                mean=mean, std=std)\n",
    "\n",
    "\n",
    "test_dataset = NormalizedClusteredStormDamageDataset('../../Ressources/main_data_1972_2023.csv',\n",
    "                                    '../../Ressources/weather_data4',\n",
    "                                    '../../Ressources/municipalities_coordinates_newest.csv',\n",
    "                                              n_clusters=6,\n",
    "                                              n_sequences=0,val_years=10, test_years=10,\n",
    "                                              grouping_calendar='weekly', split='test',\n",
    "                                              damage_weights={0: 0, 1: 0.06, 2: 0.8, 3: 11.3},\n",
    "                                                mean=mean, std=std)"
   ],
   "id": "23440db069c9dade",
   "outputs": [
    {
     "name": "stdout",
     "output_type": "stream",
     "text": [
      "low threshold: 4.000000000000002\n",
      "mid thresh: 15.702195524999984\n",
      "low threshold: 4.000000000000002\n",
      "mid thresh: 15.702195524999984\n",
      "low threshold: 4.000000000000002\n",
      "mid thresh: 15.702195524999984\n"
     ]
    }
   ],
   "execution_count": 2
  },
  {
   "metadata": {
    "ExecuteTime": {
     "end_time": "2025-05-06T16:39:05.404387Z",
     "start_time": "2025-05-06T16:39:05.399494Z"
    }
   },
   "cell_type": "code",
   "source": "mean, std",
   "id": "d3f3f54a7e3766bf",
   "outputs": [
    {
     "data": {
      "text/plain": [
       "(tensor([8.5851e+00, 2.8716e+04, 2.4840e+01, 3.7204e+00, 6.5315e+00, 2.1080e-01,\n",
       "         4.6814e+01, 8.0903e+00]),\n",
       " tensor([7.2234e+00, 1.0251e+04, 2.8608e+01, 8.2119e+00, 3.4477e+00, 4.0787e-01,\n",
       "         4.1763e-01, 9.1192e-01]))"
      ]
     },
     "execution_count": 8,
     "metadata": {},
     "output_type": "execute_result"
    }
   ],
   "execution_count": 8
  },
  {
   "metadata": {
    "ExecuteTime": {
     "end_time": "2025-05-06T16:39:08.348200Z",
     "start_time": "2025-05-06T16:39:08.344788Z"
    }
   },
   "cell_type": "code",
   "source": "train_dataset",
   "id": "c4ff2c82c6969f5e",
   "outputs": [
    {
     "data": {
      "text/plain": [
       "<datasets.NormalizedClusteredStormDamageDataset.NormalizedClusteredStormDamageDataset at 0x160577f50>"
      ]
     },
     "execution_count": 9,
     "metadata": {},
     "output_type": "execute_result"
    }
   ],
   "execution_count": 9
  },
  {
   "metadata": {
    "ExecuteTime": {
     "end_time": "2025-05-06T16:39:10.373527Z",
     "start_time": "2025-05-06T16:39:09.969584Z"
    }
   },
   "cell_type": "code",
   "source": [
    "all_X_train, all_y_train = [], []\n",
    "for feat, lbl in train_dataset:\n",
    "    cur = feat[0].numpy()\n",
    "    all_X_train.append(cur)\n",
    "    all_y_train.append(1 if lbl > 0 else 0)\n",
    "all_X_train = np.vstack(all_X_train)\n",
    "all_y_train = np.array(all_y_train)"
   ],
   "id": "6623de8fa4cf640f",
   "outputs": [
    {
     "name": "stderr",
     "output_type": "stream",
     "text": [
      "/Users/nilsgamperli/PycharmProjects/StormMind/ai_engineering/datasets/NormalizedClusteredStormDamageDataset.py:46: UserWarning: To copy construct from a tensor, it is recommended to use sourceTensor.clone().detach() or sourceTensor.clone().detach().requires_grad_(True), rather than torch.tensor(sourceTensor).\n",
      "  mean = torch.tensor(self.mean, device=features.device)\n",
      "/Users/nilsgamperli/PycharmProjects/StormMind/ai_engineering/datasets/NormalizedClusteredStormDamageDataset.py:47: UserWarning: To copy construct from a tensor, it is recommended to use sourceTensor.clone().detach() or sourceTensor.clone().detach().requires_grad_(True), rather than torch.tensor(sourceTensor).\n",
      "  std = torch.tensor(self.std,  device=features.device)\n"
     ]
    }
   ],
   "execution_count": 10
  },
  {
   "metadata": {
    "ExecuteTime": {
     "end_time": "2025-05-06T16:40:16.738207Z",
     "start_time": "2025-05-06T16:40:16.602059Z"
    }
   },
   "cell_type": "code",
   "source": [
    "all_X_val, all_y_val = [], []\n",
    "for feat, lbl in val_dataset:\n",
    "    cur = feat[0].numpy()\n",
    "    all_X_val.append(cur)\n",
    "    all_y_val.append(1 if lbl > 0 else 0)\n",
    "all_X_val = np.vstack(all_X_val)\n",
    "all_y_val = np.array(all_y_val)"
   ],
   "id": "35f9f367b5d5e706",
   "outputs": [
    {
     "name": "stderr",
     "output_type": "stream",
     "text": [
      "/Users/nilsgamperli/PycharmProjects/StormMind/ai_engineering/datasets/NormalizedClusteredStormDamageDataset.py:46: UserWarning: To copy construct from a tensor, it is recommended to use sourceTensor.clone().detach() or sourceTensor.clone().detach().requires_grad_(True), rather than torch.tensor(sourceTensor).\n",
      "  mean = torch.tensor(self.mean, device=features.device)\n",
      "/Users/nilsgamperli/PycharmProjects/StormMind/ai_engineering/datasets/NormalizedClusteredStormDamageDataset.py:47: UserWarning: To copy construct from a tensor, it is recommended to use sourceTensor.clone().detach() or sourceTensor.clone().detach().requires_grad_(True), rather than torch.tensor(sourceTensor).\n",
      "  std = torch.tensor(self.std,  device=features.device)\n"
     ]
    }
   ],
   "execution_count": 20
  },
  {
   "metadata": {
    "ExecuteTime": {
     "end_time": "2025-05-06T16:39:54.449304Z",
     "start_time": "2025-05-06T16:39:54.305979Z"
    }
   },
   "cell_type": "code",
   "source": [
    "all_X_test, all_y_test = [], []\n",
    "for feat, lbl in test_dataset:\n",
    "    cur = feat[0].numpy()\n",
    "    all_X_test.append(cur)\n",
    "    all_y_test.append(1 if lbl > 0 else 0)\n",
    "all_X_test = np.vstack(all_X_test)\n",
    "all_y_test = np.array(all_y_test)"
   ],
   "id": "ba1ec972efb8416c",
   "outputs": [],
   "execution_count": 17
  },
  {
   "metadata": {
    "ExecuteTime": {
     "end_time": "2025-05-06T16:40:21.339558Z",
     "start_time": "2025-05-06T16:40:21.335978Z"
    }
   },
   "cell_type": "code",
   "source": "all_X_train.shape, all_y_train.shape",
   "id": "fe87dffdbc4aa00e",
   "outputs": [
    {
     "data": {
      "text/plain": [
       "((10014, 8), (10014,))"
      ]
     },
     "execution_count": 21,
     "metadata": {},
     "output_type": "execute_result"
    }
   ],
   "execution_count": 21
  },
  {
   "metadata": {
    "ExecuteTime": {
     "end_time": "2025-05-06T16:40:22.917013Z",
     "start_time": "2025-05-06T16:40:22.913138Z"
    }
   },
   "cell_type": "code",
   "source": "all_X_val.shape, all_y_val.shape",
   "id": "f33e1897a093640",
   "outputs": [
    {
     "data": {
      "text/plain": [
       "((3132, 8), (3132,))"
      ]
     },
     "execution_count": 22,
     "metadata": {},
     "output_type": "execute_result"
    }
   ],
   "execution_count": 22
  },
  {
   "metadata": {
    "ExecuteTime": {
     "end_time": "2025-05-06T16:40:24.871122Z",
     "start_time": "2025-05-06T16:40:24.868093Z"
    }
   },
   "cell_type": "code",
   "source": "all_X_test.shape, all_y_test.shape",
   "id": "33806ce65037dd2",
   "outputs": [
    {
     "data": {
      "text/plain": [
       "((3132, 8), (3132,))"
      ]
     },
     "execution_count": 23,
     "metadata": {},
     "output_type": "execute_result"
    }
   ],
   "execution_count": 23
  },
  {
   "metadata": {
    "ExecuteTime": {
     "end_time": "2025-05-03T22:39:18.453658Z",
     "start_time": "2025-05-03T22:39:18.447743Z"
    }
   },
   "cell_type": "code",
   "source": "compute_class_weight(class_weight='balanced', classes=np.array([0, 1]), y=all_y_train)",
   "id": "69eda32a0b72325e",
   "outputs": [
    {
     "data": {
      "text/plain": [
       "array([0.63977029, 2.28864903])"
      ]
     },
     "execution_count": 12,
     "metadata": {},
     "output_type": "execute_result"
    }
   ],
   "execution_count": 12
  },
  {
   "metadata": {
    "ExecuteTime": {
     "end_time": "2025-05-06T16:40:28.984075Z",
     "start_time": "2025-05-06T16:40:28.979079Z"
    }
   },
   "cell_type": "code",
   "source": [
    "all_X_train[:, 4] = all_X_train[:, 4] * std[4].numpy() + mean[4].numpy()\n",
    "all_X_val[:, 4] = all_X_val[:, 4] * std[4].numpy() + mean[4].numpy()\n",
    "all_X_test[:, 4] = all_X_test[:, 4] * std[4].numpy() + mean[4].numpy()"
   ],
   "id": "ec823cc5734f1eca",
   "outputs": [],
   "execution_count": 24
  },
  {
   "metadata": {
    "ExecuteTime": {
     "end_time": "2025-05-06T16:40:31.106711Z",
     "start_time": "2025-05-06T16:40:31.097495Z"
    }
   },
   "cell_type": "code",
   "source": "np.unique(all_X_train[:,4])",
   "id": "fd6be39a147d3e2a",
   "outputs": [
    {
     "data": {
      "text/plain": [
       "array([ 1.,  2.,  3.,  4.,  5.,  6.,  7.,  8.,  9., 10., 11., 12.],\n",
       "      dtype=float32)"
      ]
     },
     "execution_count": 25,
     "metadata": {},
     "output_type": "execute_result"
    }
   ],
   "execution_count": 25
  },
  {
   "metadata": {
    "ExecuteTime": {
     "end_time": "2025-05-06T16:40:33.583113Z",
     "start_time": "2025-05-06T16:40:33.578586Z"
    }
   },
   "cell_type": "code",
   "source": [
    "# put months into seasons:\n",
    "def month_to_season(months):\n",
    "    # months is a NumPy array of shape (N,)\n",
    "    return np.select(\n",
    "        [np.isin(months, [12, 1, 2]),\n",
    "         np.isin(months, [3, 4, 5]),\n",
    "         np.isin(months, [6, 7, 8]),\n",
    "         np.isin(months, [9, 10, 11])],\n",
    "        [0, 1, 2, 3]\n",
    "    )\n",
    "\n",
    "def month_to_sine(months):\n",
    "    return np.sin((2*np.pi*months)/12)"
   ],
   "id": "60a06f6798e8d9cb",
   "outputs": [],
   "execution_count": 26
  },
  {
   "metadata": {
    "ExecuteTime": {
     "end_time": "2025-05-06T16:40:37.159150Z",
     "start_time": "2025-05-06T16:40:37.154114Z"
    }
   },
   "cell_type": "code",
   "source": [
    "all_X_train[:, 4] = month_to_sine(all_X_train[:, 4].astype(int))\n",
    "all_X_val[:, 4] = month_to_sine(all_X_val[:, 4].astype(int))\n",
    "all_X_test[:, 4] = month_to_sine(all_X_test[:, 4].astype(int))"
   ],
   "id": "327f23c4b36f96a1",
   "outputs": [],
   "execution_count": 27
  },
  {
   "metadata": {
    "ExecuteTime": {
     "end_time": "2025-05-06T16:40:39.209521Z",
     "start_time": "2025-05-06T16:40:39.203963Z"
    }
   },
   "cell_type": "code",
   "source": "np.unique(all_X_train[:,4]), np.unique(all_X_val[:,4]), np.unique(all_X_test[:,4])",
   "id": "5eadb0346d3a9d1e",
   "outputs": [
    {
     "data": {
      "text/plain": [
       "(array([-1.0000000e+00, -8.6602539e-01, -5.0000000e-01, -2.4492937e-16,\n",
       "         1.2246469e-16,  5.0000000e-01,  8.6602539e-01,  1.0000000e+00],\n",
       "       dtype=float32),\n",
       " array([-1.0000000e+00, -8.6602539e-01, -5.0000000e-01, -2.4492937e-16,\n",
       "         1.2246469e-16,  5.0000000e-01,  8.6602539e-01,  1.0000000e+00],\n",
       "       dtype=float32),\n",
       " array([-1.0000000e+00, -8.6602539e-01, -5.0000000e-01, -2.4492937e-16,\n",
       "         1.2246469e-16,  5.0000000e-01,  8.6602539e-01,  1.0000000e+00],\n",
       "       dtype=float32))"
      ]
     },
     "execution_count": 28,
     "metadata": {},
     "output_type": "execute_result"
    }
   ],
   "execution_count": 28
  },
  {
   "metadata": {},
   "cell_type": "markdown",
   "source": [
    "Row features:\n",
    "t2m, sun, rain, snow, date_tensor, label_old, lat_tensor, long_tensor"
   ],
   "id": "da7082f74fa51325"
  },
  {
   "metadata": {
    "ExecuteTime": {
     "end_time": "2025-05-06T16:41:26.061593Z",
     "start_time": "2025-05-06T16:41:26.059154Z"
    }
   },
   "cell_type": "code",
   "source": [
    "#X_train = np.concatenate((all_X_train[:, :3], all_X_train[:, 4:8]), axis=1)\n",
    "#X_test = np.concatenate((all_X_test[:, :3], all_X_test[:, 4:8]), axis=1)\n",
    "X_train = all_X_train[:,:3]\n",
    "X_val = all_X_val[:,:3]\n",
    "X_test = all_X_test[:,:3]"
   ],
   "id": "e96282fbf8f59c90",
   "outputs": [],
   "execution_count": 34
  },
  {
   "metadata": {
    "ExecuteTime": {
     "end_time": "2025-05-04T15:14:11.769885Z",
     "start_time": "2025-05-04T15:14:11.741901Z"
    }
   },
   "cell_type": "code",
   "source": [
    "smote = SMOTE(random_state=42)\n",
    "X_train, y_train = smote.fit_resample(X_train, all_y_train)"
   ],
   "id": "fd082e0d0973fc2d",
   "outputs": [],
   "execution_count": 66
  },
  {
   "metadata": {
    "ExecuteTime": {
     "end_time": "2025-05-06T16:41:29.982011Z",
     "start_time": "2025-05-06T16:41:29.978469Z"
    }
   },
   "cell_type": "code",
   "source": "X_train.shape, all_y_train.shape",
   "id": "b6951388d7d869de",
   "outputs": [
    {
     "data": {
      "text/plain": [
       "((10014, 3), (10014,))"
      ]
     },
     "execution_count": 35,
     "metadata": {},
     "output_type": "execute_result"
    }
   ],
   "execution_count": 35
  },
  {
   "metadata": {
    "ExecuteTime": {
     "end_time": "2025-05-06T16:40:47.240996Z",
     "start_time": "2025-05-06T16:40:47.235386Z"
    }
   },
   "cell_type": "code",
   "source": "np.unique(all_y_train, return_counts=True), np.unique(all_y_val, return_counts=True), np.unique(all_y_test, return_counts=True)",
   "id": "33eb9b2d7653c67c",
   "outputs": [
    {
     "data": {
      "text/plain": [
       "((array([0, 1]), array([7903, 2111])),\n",
       " (array([0, 1]), array([2371,  761])),\n",
       " (array([0, 1]), array([2222,  910])))"
      ]
     },
     "execution_count": 31,
     "metadata": {},
     "output_type": "execute_result"
    }
   ],
   "execution_count": 31
  },
  {
   "metadata": {
    "ExecuteTime": {
     "end_time": "2025-05-06T16:41:31.699723Z",
     "start_time": "2025-05-06T16:41:31.695212Z"
    }
   },
   "cell_type": "code",
   "source": [
    "class SimpleMLP(nn.Module):\n",
    "    def __init__(self):\n",
    "        super(SimpleMLP, self).__init__()\n",
    "        self.net = nn.Sequential(\n",
    "            nn.Linear(3,16),\n",
    "            nn.ReLU(),\n",
    "            nn.Linear(16, 32),\n",
    "            nn.ReLU(),\n",
    "            nn.Linear(32, 32),\n",
    "            nn.ReLU(),\n",
    "            nn.Linear(32, 64),\n",
    "            nn.ReLU(),\n",
    "            nn.Linear(64, 64),\n",
    "            nn.ReLU(),\n",
    "            nn.Linear(64, 64),\n",
    "            nn.ReLU(),\n",
    "            nn.Linear(64, 32),\n",
    "            nn.ReLU(),\n",
    "            nn.Linear(32, 16),\n",
    "            nn.ReLU(),\n",
    "            nn.Linear(16, 2),\n",
    "        )\n",
    "\n",
    "    def forward(self, x):\n",
    "        return self.net(x)"
   ],
   "id": "5beea0cc422da894",
   "outputs": [],
   "execution_count": 36
  },
  {
   "metadata": {
    "ExecuteTime": {
     "end_time": "2025-05-06T16:41:34.715713Z",
     "start_time": "2025-05-06T16:41:34.709640Z"
    }
   },
   "cell_type": "code",
   "source": [
    "from torch.utils.data import TensorDataset, DataLoader\n",
    "\n",
    "X_train_tensor = torch.tensor(X_train, dtype=torch.float32)\n",
    "y_train_tensor = torch.tensor(all_y_train, dtype=torch.long)\n",
    "\n",
    "X_val_tensor = torch.tensor(X_val, dtype=torch.float32)\n",
    "y_val_tensor = torch.tensor(all_y_val, dtype=torch.long)\n",
    "\n",
    "X_test_tensor = torch.tensor(X_test, dtype=torch.float32)\n",
    "y_test_tensor = torch.tensor(all_y_test, dtype=torch.long)\n",
    "\n",
    "# Dataset and DataLoader\n",
    "train_ds = TensorDataset(X_train_tensor, y_train_tensor)\n",
    "val_ds = TensorDataset(X_val_tensor, y_val_tensor)\n",
    "test_ds = TensorDataset(X_test_tensor, y_test_tensor)\n",
    "\n",
    "train_loader = DataLoader(train_ds, batch_size=32)\n",
    "val_loader = DataLoader(val_ds, batch_size=32)\n",
    "test_loader = DataLoader(test_ds, batch_size=32)\n"
   ],
   "id": "358a63953f1b9e34",
   "outputs": [],
   "execution_count": 37
  },
  {
   "metadata": {
    "ExecuteTime": {
     "end_time": "2025-05-06T16:41:36.583700Z",
     "start_time": "2025-05-06T16:41:36.578134Z"
    }
   },
   "cell_type": "code",
   "source": [
    "def validate(model, dataloader, criterion):\n",
    "    model.eval()\n",
    "    running_loss = 0.0\n",
    "    all_preds = []\n",
    "    all_labels = []\n",
    "\n",
    "    with torch.no_grad():\n",
    "       for input, labels in dataloader:\n",
    "            outputs= model(input)\n",
    "            loss = criterion(outputs, labels)\n",
    "\n",
    "            running_loss += loss.item()\n",
    "            predictions = torch.argmax(outputs, dim=1)\n",
    "            threshold = 0.5 # Example: more conservative, favors precision\n",
    "            predictions = (predictions >= threshold).long()\n",
    "\n",
    "            all_preds.append(predictions)\n",
    "            all_labels.append(labels)\n",
    "\n",
    "    all_labels = np.concatenate(all_labels)\n",
    "    all_pred = np.concatenate(all_preds)\n",
    "    report =  classification_report(all_labels, all_pred, zero_division=0.0, output_dict=True)\n",
    "    cm = confusion_matrix(all_labels, all_pred)\n",
    "    accuracy = report[\"accuracy\"]\n",
    "    f1 = report[\"macro avg\"][\"f1-score\"]\n",
    "    precision = report[\"macro avg\"][\"precision\"]\n",
    "    recall = report[\"macro avg\"][\"recall\"]\n",
    "    return running_loss / len(dataloader), report, accuracy, cm, f1, precision, recall"
   ],
   "id": "b54cce6201dc4e0d",
   "outputs": [],
   "execution_count": 38
  },
  {
   "metadata": {
    "ExecuteTime": {
     "end_time": "2025-05-06T16:41:55.926091Z",
     "start_time": "2025-05-06T16:41:38.576365Z"
    }
   },
   "cell_type": "code",
   "source": [
    "from sklearn.utils import compute_class_weight\n",
    "\n",
    "\n",
    "model = SimpleMLP()\n",
    "# Class weights\n",
    "\n",
    "weights = compute_class_weight(class_weight='balanced', classes=np.array([0, 1]), y=all_y_train)\n",
    "weights = torch.tensor(weights, dtype=torch.float32)\n",
    "criterion = nn.CrossEntropyLoss(weight=weights)\n",
    "optimizer = torch.optim.Adam(model.parameters(), lr=1e-4)\n",
    "scheduler = lr_scheduler.ReduceLROnPlateau(optimizer, mode='min', factor=0.5, patience=5, verbose=True)\n",
    "print(weights)\n",
    "\n",
    "# Training loop\n",
    "train_losses = []\n",
    "val_losses = []\n",
    "accs = []\n",
    "f1s = []\n",
    "precisions = []\n",
    "racalls = []\n",
    "\n",
    "for epoch in range(100):\n",
    "    model.train()\n",
    "    running_loss = 0.0\n",
    "    for xb, yb in train_loader:\n",
    "        logits = model(xb)\n",
    "        loss = criterion(logits, yb)\n",
    "        optimizer.zero_grad()\n",
    "        loss.backward()\n",
    "        optimizer.step()\n",
    "        running_loss += loss.item()\n",
    "\n",
    "    avg_train_loss = running_loss / len(train_loader)\n",
    "    train_losses.append(avg_train_loss)\n",
    "\n",
    "    val_loss, _, acc, _, f1, precision, recall = validate(model, val_loader, criterion)\n",
    "    val_losses.append(val_loss)\n",
    "    accs.append(acc)\n",
    "    f1s.append(f1)\n",
    "    precisions.append(precision)\n",
    "    racalls.append(recall)\n",
    "    scheduler.step(val_loss)\n",
    "\n",
    "    print(f\"Epoch {epoch+1}: Train Loss = {avg_train_loss:.4f} | Val Loss = {val_loss:.4f} | Accuracy = {acc:.4f} | F1 = {f1:.4f}\")\n"
   ],
   "id": "e9674b5607b934f1",
   "outputs": [
    {
     "name": "stderr",
     "output_type": "stream",
     "text": [
      "/opt/homebrew/anaconda3/envs/stormmind/lib/python3.12/site-packages/torch/optim/lr_scheduler.py:62: UserWarning: The verbose parameter is deprecated. Please use get_last_lr() to access the learning rate.\n",
      "  warnings.warn(\n"
     ]
    },
    {
     "name": "stdout",
     "output_type": "stream",
     "text": [
      "tensor([0.6336, 2.3719])\n",
      "Epoch 1: Train Loss = 0.7333 | Val Loss = 0.6995 | Accuracy = 0.2430 | F1 = 0.1955\n",
      "Epoch 2: Train Loss = 0.6708 | Val Loss = 0.6536 | Accuracy = 0.6804 | F1 = 0.6313\n",
      "Epoch 3: Train Loss = 0.6361 | Val Loss = 0.6306 | Accuracy = 0.6625 | F1 = 0.6270\n",
      "Epoch 4: Train Loss = 0.6198 | Val Loss = 0.6146 | Accuracy = 0.6600 | F1 = 0.6243\n",
      "Epoch 5: Train Loss = 0.6102 | Val Loss = 0.6077 | Accuracy = 0.6641 | F1 = 0.6280\n",
      "Epoch 6: Train Loss = 0.6079 | Val Loss = 0.6064 | Accuracy = 0.6708 | F1 = 0.6332\n",
      "Epoch 7: Train Loss = 0.6071 | Val Loss = 0.6060 | Accuracy = 0.6708 | F1 = 0.6329\n",
      "Epoch 8: Train Loss = 0.6066 | Val Loss = 0.6055 | Accuracy = 0.6731 | F1 = 0.6344\n",
      "Epoch 9: Train Loss = 0.6061 | Val Loss = 0.6050 | Accuracy = 0.6775 | F1 = 0.6381\n",
      "Epoch 10: Train Loss = 0.6056 | Val Loss = 0.6045 | Accuracy = 0.6788 | F1 = 0.6390\n",
      "Epoch 11: Train Loss = 0.6053 | Val Loss = 0.6042 | Accuracy = 0.6791 | F1 = 0.6391\n",
      "Epoch 12: Train Loss = 0.6050 | Val Loss = 0.6037 | Accuracy = 0.6785 | F1 = 0.6380\n",
      "Epoch 13: Train Loss = 0.6046 | Val Loss = 0.6034 | Accuracy = 0.6788 | F1 = 0.6383\n",
      "Epoch 14: Train Loss = 0.6044 | Val Loss = 0.6031 | Accuracy = 0.6801 | F1 = 0.6396\n",
      "Epoch 15: Train Loss = 0.6041 | Val Loss = 0.6029 | Accuracy = 0.6810 | F1 = 0.6404\n",
      "Epoch 16: Train Loss = 0.6039 | Val Loss = 0.6025 | Accuracy = 0.6823 | F1 = 0.6415\n",
      "Epoch 17: Train Loss = 0.6036 | Val Loss = 0.6022 | Accuracy = 0.6823 | F1 = 0.6413\n",
      "Epoch 18: Train Loss = 0.6033 | Val Loss = 0.6019 | Accuracy = 0.6833 | F1 = 0.6416\n",
      "Epoch 19: Train Loss = 0.6030 | Val Loss = 0.6017 | Accuracy = 0.6833 | F1 = 0.6414\n",
      "Epoch 20: Train Loss = 0.6028 | Val Loss = 0.6014 | Accuracy = 0.6839 | F1 = 0.6420\n",
      "Epoch 21: Train Loss = 0.6026 | Val Loss = 0.6012 | Accuracy = 0.6849 | F1 = 0.6430\n",
      "Epoch 22: Train Loss = 0.6023 | Val Loss = 0.6009 | Accuracy = 0.6865 | F1 = 0.6443\n",
      "Epoch 23: Train Loss = 0.6020 | Val Loss = 0.6006 | Accuracy = 0.6874 | F1 = 0.6451\n",
      "Epoch 24: Train Loss = 0.6018 | Val Loss = 0.6004 | Accuracy = 0.6877 | F1 = 0.6454\n",
      "Epoch 25: Train Loss = 0.6015 | Val Loss = 0.6002 | Accuracy = 0.6881 | F1 = 0.6457\n",
      "Epoch 26: Train Loss = 0.6013 | Val Loss = 0.6000 | Accuracy = 0.6877 | F1 = 0.6454\n",
      "Epoch 27: Train Loss = 0.6010 | Val Loss = 0.5998 | Accuracy = 0.6877 | F1 = 0.6454\n",
      "Epoch 28: Train Loss = 0.6008 | Val Loss = 0.5996 | Accuracy = 0.6871 | F1 = 0.6449\n",
      "Epoch 29: Train Loss = 0.6006 | Val Loss = 0.5995 | Accuracy = 0.6874 | F1 = 0.6450\n",
      "Epoch 30: Train Loss = 0.6003 | Val Loss = 0.5993 | Accuracy = 0.6874 | F1 = 0.6450\n",
      "Epoch 31: Train Loss = 0.6001 | Val Loss = 0.5992 | Accuracy = 0.6877 | F1 = 0.6452\n",
      "Epoch 32: Train Loss = 0.5999 | Val Loss = 0.5990 | Accuracy = 0.6871 | F1 = 0.6445\n",
      "Epoch 33: Train Loss = 0.5997 | Val Loss = 0.5989 | Accuracy = 0.6868 | F1 = 0.6442\n",
      "Epoch 34: Train Loss = 0.5995 | Val Loss = 0.5988 | Accuracy = 0.6871 | F1 = 0.6443\n",
      "Epoch 35: Train Loss = 0.5993 | Val Loss = 0.5987 | Accuracy = 0.6874 | F1 = 0.6446\n",
      "Epoch 36: Train Loss = 0.5991 | Val Loss = 0.5986 | Accuracy = 0.6874 | F1 = 0.6446\n",
      "Epoch 37: Train Loss = 0.5989 | Val Loss = 0.5985 | Accuracy = 0.6877 | F1 = 0.6451\n",
      "Epoch 38: Train Loss = 0.5987 | Val Loss = 0.5984 | Accuracy = 0.6877 | F1 = 0.6451\n",
      "Epoch 39: Train Loss = 0.5985 | Val Loss = 0.5984 | Accuracy = 0.6884 | F1 = 0.6460\n",
      "Epoch 40: Train Loss = 0.5984 | Val Loss = 0.5983 | Accuracy = 0.6887 | F1 = 0.6464\n",
      "Epoch 41: Train Loss = 0.5982 | Val Loss = 0.5982 | Accuracy = 0.6897 | F1 = 0.6472\n",
      "Epoch 42: Train Loss = 0.5980 | Val Loss = 0.5982 | Accuracy = 0.6897 | F1 = 0.6472\n",
      "Epoch 43: Train Loss = 0.5979 | Val Loss = 0.5982 | Accuracy = 0.6890 | F1 = 0.6467\n",
      "Epoch 44: Train Loss = 0.5978 | Val Loss = 0.5981 | Accuracy = 0.6881 | F1 = 0.6457\n",
      "Epoch 45: Train Loss = 0.5976 | Val Loss = 0.5981 | Accuracy = 0.6884 | F1 = 0.6460\n",
      "Epoch 46: Train Loss = 0.5975 | Val Loss = 0.5980 | Accuracy = 0.6884 | F1 = 0.6460\n",
      "Epoch 47: Train Loss = 0.5974 | Val Loss = 0.5980 | Accuracy = 0.6884 | F1 = 0.6460\n",
      "Epoch 48: Train Loss = 0.5972 | Val Loss = 0.5979 | Accuracy = 0.6881 | F1 = 0.6455\n",
      "Epoch 49: Train Loss = 0.5971 | Val Loss = 0.5979 | Accuracy = 0.6874 | F1 = 0.6448\n",
      "Epoch 50: Train Loss = 0.5970 | Val Loss = 0.5979 | Accuracy = 0.6871 | F1 = 0.6445\n",
      "Epoch 51: Train Loss = 0.5969 | Val Loss = 0.5978 | Accuracy = 0.6881 | F1 = 0.6453\n",
      "Epoch 52: Train Loss = 0.5968 | Val Loss = 0.5978 | Accuracy = 0.6871 | F1 = 0.6442\n",
      "Epoch 53: Train Loss = 0.5967 | Val Loss = 0.5977 | Accuracy = 0.6874 | F1 = 0.6444\n",
      "Epoch 54: Train Loss = 0.5966 | Val Loss = 0.5977 | Accuracy = 0.6877 | F1 = 0.6445\n",
      "Epoch 55: Train Loss = 0.5965 | Val Loss = 0.5977 | Accuracy = 0.6881 | F1 = 0.6448\n",
      "Epoch 56: Train Loss = 0.5964 | Val Loss = 0.5976 | Accuracy = 0.6890 | F1 = 0.6456\n",
      "Epoch 57: Train Loss = 0.5963 | Val Loss = 0.5976 | Accuracy = 0.6890 | F1 = 0.6456\n",
      "Epoch 58: Train Loss = 0.5962 | Val Loss = 0.5976 | Accuracy = 0.6897 | F1 = 0.6462\n",
      "Epoch 59: Train Loss = 0.5961 | Val Loss = 0.5975 | Accuracy = 0.6897 | F1 = 0.6460\n",
      "Epoch 60: Train Loss = 0.5960 | Val Loss = 0.5975 | Accuracy = 0.6893 | F1 = 0.6459\n",
      "Epoch 61: Train Loss = 0.5959 | Val Loss = 0.5975 | Accuracy = 0.6893 | F1 = 0.6459\n",
      "Epoch 62: Train Loss = 0.5958 | Val Loss = 0.5974 | Accuracy = 0.6890 | F1 = 0.6454\n",
      "Epoch 63: Train Loss = 0.5957 | Val Loss = 0.5974 | Accuracy = 0.6887 | F1 = 0.6452\n",
      "Epoch 64: Train Loss = 0.5956 | Val Loss = 0.5974 | Accuracy = 0.6890 | F1 = 0.6453\n",
      "Epoch 65: Train Loss = 0.5955 | Val Loss = 0.5973 | Accuracy = 0.6893 | F1 = 0.6455\n",
      "Epoch 66: Train Loss = 0.5954 | Val Loss = 0.5973 | Accuracy = 0.6887 | F1 = 0.6452\n",
      "Epoch 67: Train Loss = 0.5953 | Val Loss = 0.5973 | Accuracy = 0.6893 | F1 = 0.6459\n",
      "Epoch 68: Train Loss = 0.5952 | Val Loss = 0.5972 | Accuracy = 0.6893 | F1 = 0.6457\n",
      "Epoch 69: Train Loss = 0.5952 | Val Loss = 0.5972 | Accuracy = 0.6893 | F1 = 0.6457\n",
      "Epoch 70: Train Loss = 0.5951 | Val Loss = 0.5971 | Accuracy = 0.6893 | F1 = 0.6457\n",
      "Epoch 71: Train Loss = 0.5950 | Val Loss = 0.5971 | Accuracy = 0.6890 | F1 = 0.6456\n",
      "Epoch 72: Train Loss = 0.5949 | Val Loss = 0.5971 | Accuracy = 0.6890 | F1 = 0.6456\n",
      "Epoch 73: Train Loss = 0.5948 | Val Loss = 0.5971 | Accuracy = 0.6897 | F1 = 0.6463\n",
      "Epoch 74: Train Loss = 0.5948 | Val Loss = 0.5970 | Accuracy = 0.6897 | F1 = 0.6462\n",
      "Epoch 75: Train Loss = 0.5947 | Val Loss = 0.5970 | Accuracy = 0.6897 | F1 = 0.6458\n",
      "Epoch 76: Train Loss = 0.5946 | Val Loss = 0.5970 | Accuracy = 0.6897 | F1 = 0.6458\n",
      "Epoch 77: Train Loss = 0.5945 | Val Loss = 0.5970 | Accuracy = 0.6893 | F1 = 0.6454\n",
      "Epoch 78: Train Loss = 0.5945 | Val Loss = 0.5970 | Accuracy = 0.6893 | F1 = 0.6455\n",
      "Epoch 79: Train Loss = 0.5944 | Val Loss = 0.5970 | Accuracy = 0.6897 | F1 = 0.6462\n",
      "Epoch 80: Train Loss = 0.5943 | Val Loss = 0.5970 | Accuracy = 0.6906 | F1 = 0.6474\n",
      "Epoch 81: Train Loss = 0.5947 | Val Loss = 0.5968 | Accuracy = 0.7037 | F1 = 0.6537\n",
      "Epoch 82: Train Loss = 0.5936 | Val Loss = 0.5968 | Accuracy = 0.7037 | F1 = 0.6537\n",
      "Epoch 83: Train Loss = 0.5936 | Val Loss = 0.5968 | Accuracy = 0.7037 | F1 = 0.6537\n",
      "Epoch 84: Train Loss = 0.5936 | Val Loss = 0.5969 | Accuracy = 0.7037 | F1 = 0.6537\n",
      "Epoch 85: Train Loss = 0.5935 | Val Loss = 0.5969 | Accuracy = 0.7027 | F1 = 0.6525\n",
      "Epoch 86: Train Loss = 0.5935 | Val Loss = 0.5968 | Accuracy = 0.7024 | F1 = 0.6522\n",
      "Epoch 87: Train Loss = 0.5934 | Val Loss = 0.5968 | Accuracy = 0.7021 | F1 = 0.6519\n",
      "Epoch 88: Train Loss = 0.5937 | Val Loss = 0.5983 | Accuracy = 0.7072 | F1 = 0.6525\n",
      "Epoch 89: Train Loss = 0.5928 | Val Loss = 0.5985 | Accuracy = 0.7075 | F1 = 0.6525\n",
      "Epoch 90: Train Loss = 0.5927 | Val Loss = 0.5985 | Accuracy = 0.7075 | F1 = 0.6525\n",
      "Epoch 91: Train Loss = 0.5927 | Val Loss = 0.5985 | Accuracy = 0.7075 | F1 = 0.6525\n",
      "Epoch 92: Train Loss = 0.5926 | Val Loss = 0.5985 | Accuracy = 0.7075 | F1 = 0.6525\n",
      "Epoch 93: Train Loss = 0.5926 | Val Loss = 0.5985 | Accuracy = 0.7072 | F1 = 0.6521\n",
      "Epoch 94: Train Loss = 0.5925 | Val Loss = 0.5995 | Accuracy = 0.7130 | F1 = 0.6559\n",
      "Epoch 95: Train Loss = 0.5922 | Val Loss = 0.5999 | Accuracy = 0.7142 | F1 = 0.6570\n",
      "Epoch 96: Train Loss = 0.5922 | Val Loss = 0.5999 | Accuracy = 0.7146 | F1 = 0.6573\n",
      "Epoch 97: Train Loss = 0.5921 | Val Loss = 0.6000 | Accuracy = 0.7146 | F1 = 0.6573\n",
      "Epoch 98: Train Loss = 0.5921 | Val Loss = 0.6000 | Accuracy = 0.7149 | F1 = 0.6576\n",
      "Epoch 99: Train Loss = 0.5921 | Val Loss = 0.6000 | Accuracy = 0.7152 | F1 = 0.6579\n",
      "Epoch 100: Train Loss = 0.5919 | Val Loss = 0.6004 | Accuracy = 0.7165 | F1 = 0.6586\n"
     ]
    }
   ],
   "execution_count": 39
  },
  {
   "metadata": {
    "ExecuteTime": {
     "end_time": "2025-05-06T16:41:58.272749Z",
     "start_time": "2025-05-06T16:41:58.176220Z"
    }
   },
   "cell_type": "code",
   "source": [
    "epochs = [i for i in range(100)]\n",
    "plt.plot(epochs, train_losses, label='train loss')\n",
    "plt.plot(epochs, val_losses, label='test loss')\n",
    "plt.plot(epochs, accs, label='accuracy')\n",
    "plt.plot(epochs, f1s, label= 'f1')\n",
    "plt.plot(epochs, precisions, label='precision')\n",
    "plt.plot(epochs, racalls, label= 'recall')\n",
    "plt.xlabel(\"epoch\")\n",
    "plt.ylabel(\"loss\")\n",
    "plt.legend()\n",
    "plt.title(\"Train loss and val_loss\")\n",
    "plt.show()"
   ],
   "id": "d1c453562ec49727",
   "outputs": [
    {
     "data": {
      "text/plain": [
       "<Figure size 640x480 with 1 Axes>"
      ],
      "image/png": "[encoded data removed]"
     },
     "metadata": {},
     "output_type": "display_data"
    }
   ],
   "execution_count": 40
  },
  {
   "metadata": {
    "ExecuteTime": {
     "end_time": "2025-05-06T16:42:05.266584Z",
     "start_time": "2025-05-06T16:42:05.263480Z"
    }
   },
   "cell_type": "code",
   "source": "print(f1s[-1])",
   "id": "54e3071402c8a0d7",
   "outputs": [
    {
     "name": "stdout",
     "output_type": "stream",
     "text": [
      "0.6585505990921908\n"
     ]
    }
   ],
   "execution_count": 41
  },
  {
   "metadata": {
    "ExecuteTime": {
     "end_time": "2025-05-06T16:42:07.296094Z",
     "start_time": "2025-05-06T16:42:07.098797Z"
    }
   },
   "cell_type": "code",
   "source": [
    "_, _, _, cm, _, _,_ = validate(model, test_loader, criterion)\n",
    "import seaborn as sns\n",
    "\n",
    "# Optional: define class names\n",
    "class_names = [\"Class 0\", \"Class 1\"]\n",
    "\n",
    "plt.figure(figsize=(6, 5))\n",
    "sns.heatmap(cm, annot=True, fmt=\"d\", cmap=\"Blues\",\n",
    "            xticklabels=class_names, yticklabels=class_names)\n",
    "\n",
    "plt.xlabel(\"Predicted Label\")\n",
    "plt.ylabel(\"True Label\")\n",
    "plt.title(\"Confusion Matrix\")\n",
    "plt.tight_layout()\n",
    "plt.show()\n"
   ],
   "id": "191de7348796926e",
   "outputs": [
    {
     "data": {
      "text/plain": [
       "<Figure size 600x500 with 2 Axes>"
      ],
      "image/png": "[encoded data removed]"
     },
     "metadata": {},
     "output_type": "display_data"
    }
   ],
   "execution_count": 42
  },
  {
   "metadata": {},
   "cell_type": "markdown",
   "source": [
    "\n",
    "\n",
    "              precision    recall  f1-score   support\n",
    "\n",
    "           0       0.84      0.65      0.73      2222\n",
    "           1       0.45      0.69      0.55       910\n",
    "\n",
    "    accuracy                           0.66      3132\n",
    "   macro avg       0.64      0.67      0.64      3132\n",
    "weighted avg       0.73      0.66      0.68      3132"
   ],
   "id": "bdd3ccf0436a7613"
  },
  {
   "metadata": {},
   "cell_type": "markdown",
   "source": [
    "simple model with (temp, sun, rain, snow). Therefor snow did not use anything\n",
    "\n",
    "              precision    recall  f1-score   support\n",
    "\n",
    "           0       0.83      0.71      0.77      2222\n",
    "           1       0.48      0.65      0.55       910\n",
    "\n",
    "    accuracy                           0.69      3132\n",
    "   macro avg       0.66      0.68      0.66      3132\n",
    "weighted avg       0.73      0.69      0.70      3132\n"
   ],
   "id": "d35ba35822d2c5ed"
  },
  {
   "metadata": {},
   "cell_type": "code",
   "outputs": [],
   "execution_count": null,
   "source": "torch.save(model.state_dict(), \"../trained_models/small_nn_acc73_f1\")",
   "id": "89c69e0999452723"
  }
 ],
 "metadata": {
  "kernelspec": {
   "display_name": "Python 3",
   "language": "python",
   "name": "python3"
  },
  "language_info": {
   "codemirror_mode": {
    "name": "ipython",
    "version": 2
   },
   "file_extension": ".py",
   "mimetype": "text/x-python",
   "name": "python",
   "nbconvert_exporter": "python",
   "pygments_lexer": "ipython2",
   "version": "2.7.6"
  }
 },
 "nbformat": 4,
 "nbformat_minor": 5
}
