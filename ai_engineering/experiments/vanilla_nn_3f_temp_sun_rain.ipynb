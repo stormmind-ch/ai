{
 "cells": [
  {
   "cell_type": "code",
   "id": "initial_id",
   "metadata": {
    "collapsed": true,
    "ExecuteTime": {
     "end_time": "2025-05-05T18:19:20.983643Z",
     "start_time": "2025-05-05T18:19:20.971899Z"
    }
   },
   "source": [
    "from torch.nn import CrossEntropyLoss\n",
    "\n",
    "from datasets.ClusteredStormDamageDataset import ClusteredStormDamageDataset\n",
    "import numpy as np\n",
    "from sklearn.ensemble import RandomForestClassifier\n",
    "from sklearn.metrics import classification_report\n",
    "import pandas as pd\n",
    "import matplotlib.pyplot as plt\n",
    "import torch.nn as nn\n",
    "import torch\n",
    "from datasets.NormalizedClusteredStormDamageDataset import NormalizedClusteredStormDamageDataset\n",
    "import torch.optim.lr_scheduler as lr_scheduler\n",
    "import matplotlib.pyplot as plt\n",
    "from sklearn.metrics import confusion_matrix\n",
    "from imblearn.over_sampling import SMOTE\n"
   ],
   "outputs": [],
   "execution_count": 10
  },
  {
   "metadata": {
    "ExecuteTime": {
     "end_time": "2025-05-05T18:20:53.719907Z",
     "start_time": "2025-05-05T18:19:23.605216Z"
    }
   },
   "cell_type": "code",
   "source": [
    "train_dataset = NormalizedClusteredStormDamageDataset('../../Ressources/main_data_1972_2023.csv',\n",
    "                                    '../../Ressources/weather_data4',\n",
    "                                    '../../Ressources/municipalities_coordinates_newest.csv',\n",
    "                                              n_clusters=6,\n",
    "                                              n_sequences=0, test_years=10,\n",
    "                                              grouping_calendar='weekly', split='train',\n",
    "                                              damage_weights={0: 0, 1: 0.06, 2: 0.8, 3: 11.3})\n",
    "mean, std = train_dataset.mean, train_dataset.std\n",
    "\n",
    "test_dataset = NormalizedClusteredStormDamageDataset('../../Ressources/main_data_1972_2023.csv',\n",
    "                                    '../../Ressources/weather_data4',\n",
    "                                    '../../Ressources/municipalities_coordinates_newest.csv',\n",
    "                                              n_clusters=6,\n",
    "                                              n_sequences=0, test_years=10,\n",
    "                                              grouping_calendar='weekly', split='test',\n",
    "                                              damage_weights={0: 0, 1: 0.06, 2: 0.8, 3: 11.3},\n",
    "                                                mean=mean, std=std)"
   ],
   "id": "23440db069c9dade",
   "outputs": [
    {
     "name": "stdout",
     "output_type": "stream",
     "text": [
      "low threshold: 4.000000000000002\n",
      "mid thresh: 15.702195524999984\n",
      "low threshold: 4.000000000000002\n",
      "mid thresh: 15.702195524999984\n"
     ]
    }
   ],
   "execution_count": 11
  },
  {
   "metadata": {
    "ExecuteTime": {
     "end_time": "2025-05-05T18:21:00.725706Z",
     "start_time": "2025-05-05T18:21:00.720108Z"
    }
   },
   "cell_type": "code",
   "source": "mean, std",
   "id": "d3f3f54a7e3766bf",
   "outputs": [
    {
     "data": {
      "text/plain": [
       "(tensor([8.7132e+00, 2.8966e+04, 2.4517e+01, 3.6764e+00, 6.5267e+00, 2.1847e-01,\n",
       "         4.6815e+01, 8.0905e+00]),\n",
       " tensor([7.3103e+00, 1.0314e+04, 2.8042e+01, 8.0447e+00, 3.4481e+00, 4.1321e-01,\n",
       "         4.1761e-01, 9.1194e-01]))"
      ]
     },
     "execution_count": 12,
     "metadata": {},
     "output_type": "execute_result"
    }
   ],
   "execution_count": 12
  },
  {
   "metadata": {
    "ExecuteTime": {
     "end_time": "2025-05-05T18:21:03.556251Z",
     "start_time": "2025-05-05T18:21:02.485130Z"
    }
   },
   "cell_type": "code",
   "source": [
    "all_X_train, all_y_train = [], []\n",
    "for feat, lbl in train_dataset:\n",
    "    cur = feat[0].numpy()\n",
    "    all_X_train.append(cur)\n",
    "    all_y_train.append(1 if lbl > 0 else 0)\n",
    "all_X_train = np.vstack(all_X_train)\n",
    "all_y_train = np.array(all_y_train)"
   ],
   "id": "6623de8fa4cf640f",
   "outputs": [
    {
     "name": "stderr",
     "output_type": "stream",
     "text": [
      "/Users/nilsgamperli/PycharmProjects/StormMind/ai_engineering/datasets/NormalizedClusteredStormDamageDataset.py:46: UserWarning: To copy construct from a tensor, it is recommended to use sourceTensor.clone().detach() or sourceTensor.clone().detach().requires_grad_(True), rather than torch.tensor(sourceTensor).\n",
      "  mean = torch.tensor(self.mean, device=features.device)\n",
      "/Users/nilsgamperli/PycharmProjects/StormMind/ai_engineering/datasets/NormalizedClusteredStormDamageDataset.py:47: UserWarning: To copy construct from a tensor, it is recommended to use sourceTensor.clone().detach() or sourceTensor.clone().detach().requires_grad_(True), rather than torch.tensor(sourceTensor).\n",
      "  std = torch.tensor(self.std,  device=features.device)\n"
     ]
    }
   ],
   "execution_count": 13
  },
  {
   "metadata": {
    "ExecuteTime": {
     "end_time": "2025-05-05T18:21:04.574488Z",
     "start_time": "2025-05-05T18:21:04.332151Z"
    }
   },
   "cell_type": "code",
   "source": [
    "all_X_test, all_y_test = [], []\n",
    "for feat, lbl in test_dataset:\n",
    "    cur = feat[0].numpy()\n",
    "    all_X_test.append(cur)\n",
    "    all_y_test.append(1 if lbl > 0 else 0)\n",
    "all_X_test = np.vstack(all_X_test)\n",
    "all_y_test = np.array(all_y_test)"
   ],
   "id": "ba1ec972efb8416c",
   "outputs": [],
   "execution_count": 14
  },
  {
   "metadata": {
    "ExecuteTime": {
     "end_time": "2025-05-05T18:21:06.749772Z",
     "start_time": "2025-05-05T18:21:06.745381Z"
    }
   },
   "cell_type": "code",
   "source": "all_X_train.shape, all_y_train.shape, all_X_train.shape, all_y_test.shape",
   "id": "fe87dffdbc4aa00e",
   "outputs": [
    {
     "data": {
      "text/plain": [
       "((13146, 8), (13146,), (13146, 8), (3132,))"
      ]
     },
     "execution_count": 15,
     "metadata": {},
     "output_type": "execute_result"
    }
   ],
   "execution_count": 15
  },
  {
   "metadata": {
    "ExecuteTime": {
     "end_time": "2025-05-03T22:39:18.453658Z",
     "start_time": "2025-05-03T22:39:18.447743Z"
    }
   },
   "cell_type": "code",
   "source": "compute_class_weight(class_weight='balanced', classes=np.array([0, 1]), y=all_y_train)",
   "id": "69eda32a0b72325e",
   "outputs": [
    {
     "data": {
      "text/plain": [
       "array([0.63977029, 2.28864903])"
      ]
     },
     "execution_count": 12,
     "metadata": {},
     "output_type": "execute_result"
    }
   ],
   "execution_count": 12
  },
  {
   "metadata": {
    "ExecuteTime": {
     "end_time": "2025-05-05T18:21:09.927563Z",
     "start_time": "2025-05-05T18:21:09.922466Z"
    }
   },
   "cell_type": "code",
   "source": [
    "all_X_train[:, 4] = all_X_train[:, 4] * std[4].numpy() + mean[4].numpy()\n",
    "all_X_test[:, 4] = all_X_test[:, 4] * std[4].numpy() + mean[4].numpy()"
   ],
   "id": "ec823cc5734f1eca",
   "outputs": [],
   "execution_count": 16
  },
  {
   "metadata": {
    "ExecuteTime": {
     "end_time": "2025-05-05T18:21:11.729841Z",
     "start_time": "2025-05-05T18:21:11.724972Z"
    }
   },
   "cell_type": "code",
   "source": "np.unique(all_X_train[:,4])",
   "id": "fd6be39a147d3e2a",
   "outputs": [
    {
     "data": {
      "text/plain": [
       "array([ 1.,  2.,  3.,  4.,  5.,  6.,  7.,  8.,  9., 10., 11., 12.],\n",
       "      dtype=float32)"
      ]
     },
     "execution_count": 17,
     "metadata": {},
     "output_type": "execute_result"
    }
   ],
   "execution_count": 17
  },
  {
   "metadata": {
    "ExecuteTime": {
     "end_time": "2025-05-05T18:21:13.416265Z",
     "start_time": "2025-05-05T18:21:13.411125Z"
    }
   },
   "cell_type": "code",
   "source": [
    "# put months into seasons:\n",
    "def month_to_season(months):\n",
    "    # months is a NumPy array of shape (N,)\n",
    "    return np.select(\n",
    "        [np.isin(months, [12, 1, 2]),\n",
    "         np.isin(months, [3, 4, 5]),\n",
    "         np.isin(months, [6, 7, 8]),\n",
    "         np.isin(months, [9, 10, 11])],\n",
    "        [0, 1, 2, 3]\n",
    "    )\n",
    "\n",
    "def month_to_sine(months):\n",
    "    return np.sin((2*np.pi*months)/12)"
   ],
   "id": "60a06f6798e8d9cb",
   "outputs": [],
   "execution_count": 18
  },
  {
   "metadata": {
    "ExecuteTime": {
     "end_time": "2025-05-05T18:21:15.389791Z",
     "start_time": "2025-05-05T18:21:15.384535Z"
    }
   },
   "cell_type": "code",
   "source": [
    "all_X_train[:, 4] = month_to_sine(all_X_train[:, 4].astype(int))\n",
    "all_X_test[:, 4] = month_to_sine(all_X_test[:, 4].astype(int))"
   ],
   "id": "327f23c4b36f96a1",
   "outputs": [],
   "execution_count": 19
  },
  {
   "metadata": {
    "ExecuteTime": {
     "end_time": "2025-05-05T18:21:16.685308Z",
     "start_time": "2025-05-05T18:21:16.679610Z"
    }
   },
   "cell_type": "code",
   "source": "np.unique(all_X_train[:,4]), np.unique(all_X_test[:,4])",
   "id": "5eadb0346d3a9d1e",
   "outputs": [
    {
     "data": {
      "text/plain": [
       "(array([-1.0000000e+00, -8.6602539e-01, -5.0000000e-01, -2.4492937e-16,\n",
       "         1.2246469e-16,  5.0000000e-01,  8.6602539e-01,  1.0000000e+00],\n",
       "       dtype=float32),\n",
       " array([-1.0000000e+00, -8.6602539e-01, -5.0000000e-01, -2.4492937e-16,\n",
       "         1.2246469e-16,  5.0000000e-01,  8.6602539e-01,  1.0000000e+00],\n",
       "       dtype=float32))"
      ]
     },
     "execution_count": 20,
     "metadata": {},
     "output_type": "execute_result"
    }
   ],
   "execution_count": 20
  },
  {
   "metadata": {},
   "cell_type": "markdown",
   "source": [
    "Row features:\n",
    "t2m, sun, rain, snow, date_tensor, label_old, lat_tensor, long_tensor"
   ],
   "id": "da7082f74fa51325"
  },
  {
   "metadata": {
    "ExecuteTime": {
     "end_time": "2025-05-05T18:21:19.143123Z",
     "start_time": "2025-05-05T18:21:19.138099Z"
    }
   },
   "cell_type": "code",
   "source": [
    "#X_train = np.concatenate((all_X_train[:, :3], all_X_train[:, 4:8]), axis=1)\n",
    "#X_test = np.concatenate((all_X_test[:, :3], all_X_test[:, 4:8]), axis=1)\n",
    "X_train = all_X_train[:,:3]\n",
    "X_test = all_X_test[:,:3]"
   ],
   "id": "e96282fbf8f59c90",
   "outputs": [],
   "execution_count": 21
  },
  {
   "metadata": {
    "ExecuteTime": {
     "end_time": "2025-05-03T17:04:52.242051Z",
     "start_time": "2025-05-03T17:04:52.226360Z"
    }
   },
   "cell_type": "code",
   "source": "",
   "id": "d23da15b5ff40f0b",
   "outputs": [
    {
     "data": {
      "text/plain": [
       "array([[-1.5121783 ,  0.8958607 ],\n",
       "       [-0.8187152 , -0.4371171 ],\n",
       "       [-0.6945759 , -0.8197718 ],\n",
       "       [-0.45970234, -1.5437608 ],\n",
       "       [ 0.57930934,  1.4305598 ],\n",
       "       [ 0.5843975 ,  1.4228282 ],\n",
       "       [ 0.897354  , -0.681327  ],\n",
       "       [ 0.9043213 , -0.66375816],\n",
       "       [ 0.9136381 , -0.64026505],\n",
       "       [ 0.9334857 , -0.5902174 ],\n",
       "       [ 1.0105203 , -0.3959666 ],\n",
       "       [ 1.0247493 , -0.36008686],\n",
       "       [ 1.060204  , -0.27068424],\n",
       "       [ 1.1017642 , -0.16588612],\n",
       "       [ 1.1493247 , -0.04595742],\n",
       "       [ 1.2465516 ,  0.19921002],\n",
       "       [ 1.2908598 ,  0.31093773],\n",
       "       [ 1.3003677 ,  0.33491284]], dtype=float32)"
      ]
     },
     "execution_count": 316,
     "metadata": {},
     "output_type": "execute_result"
    }
   ],
   "execution_count": 316
  },
  {
   "metadata": {
    "ExecuteTime": {
     "end_time": "2025-05-04T15:14:11.769885Z",
     "start_time": "2025-05-04T15:14:11.741901Z"
    }
   },
   "cell_type": "code",
   "source": [
    "smote = SMOTE(random_state=42)\n",
    "X_train, y_train = smote.fit_resample(X_train, all_y_train)"
   ],
   "id": "fd082e0d0973fc2d",
   "outputs": [],
   "execution_count": 66
  },
  {
   "metadata": {
    "ExecuteTime": {
     "end_time": "2025-05-05T18:21:24.471112Z",
     "start_time": "2025-05-05T18:21:24.466597Z"
    }
   },
   "cell_type": "code",
   "source": "X_train.shape, all_y_train.shape",
   "id": "b6951388d7d869de",
   "outputs": [
    {
     "data": {
      "text/plain": [
       "((13146, 3), (13146,))"
      ]
     },
     "execution_count": 22,
     "metadata": {},
     "output_type": "execute_result"
    }
   ],
   "execution_count": 22
  },
  {
   "metadata": {
    "ExecuteTime": {
     "end_time": "2025-05-05T18:21:26.616379Z",
     "start_time": "2025-05-05T18:21:26.612331Z"
    }
   },
   "cell_type": "code",
   "source": "np.unique(all_y_train), np.unique(all_y_test)",
   "id": "33eb9b2d7653c67c",
   "outputs": [
    {
     "data": {
      "text/plain": [
       "(array([0, 1]), array([0, 1]))"
      ]
     },
     "execution_count": 23,
     "metadata": {},
     "output_type": "execute_result"
    }
   ],
   "execution_count": 23
  },
  {
   "metadata": {
    "ExecuteTime": {
     "end_time": "2025-05-05T18:21:28.804240Z",
     "start_time": "2025-05-05T18:21:28.797874Z"
    }
   },
   "cell_type": "code",
   "source": [
    "class SimpleMLP(nn.Module):\n",
    "    def __init__(self):\n",
    "        super(SimpleMLP, self).__init__()\n",
    "        self.net = nn.Sequential(\n",
    "            nn.Linear(3,16),\n",
    "            nn.ReLU(),\n",
    "            nn.Linear(16, 32),\n",
    "            nn.ReLU(),\n",
    "            nn.Linear(32, 32),\n",
    "            nn.ReLU(),\n",
    "            nn.Linear(32, 64),\n",
    "            nn.ReLU(),\n",
    "            nn.Linear(64, 64),\n",
    "            nn.ReLU(),\n",
    "            nn.Linear(64, 64),\n",
    "            nn.ReLU(),\n",
    "            nn.Linear(64, 32),\n",
    "            nn.ReLU(),\n",
    "            nn.Linear(32, 16),\n",
    "            nn.ReLU(),\n",
    "            nn.Linear(16, 2),\n",
    "        )\n",
    "\n",
    "    def forward(self, x):\n",
    "        return self.net(x)"
   ],
   "id": "5beea0cc422da894",
   "outputs": [],
   "execution_count": 24
  },
  {
   "metadata": {
    "ExecuteTime": {
     "end_time": "2025-05-04T15:15:18.588561Z",
     "start_time": "2025-05-04T15:15:18.576864Z"
    }
   },
   "cell_type": "code",
   "source": [
    "coords = X_train[:, 5:7]\n",
    "unique_coords, coord_indices = np.unique(coords, axis=0, return_inverse=True)\n",
    "unique_coords"
   ],
   "id": "f1c092f9c99895be",
   "outputs": [
    {
     "data": {
      "text/plain": [
       "array([[-1.5121783 ,  0.8958607 ],\n",
       "       [-0.8187152 , -0.4371171 ],\n",
       "       [-0.45970234, -1.5437608 ],\n",
       "       [ 0.57930934,  1.4305598 ],\n",
       "       [ 0.897354  , -0.681327  ],\n",
       "       [ 1.3003677 ,  0.33491284]], dtype=float32)"
      ]
     },
     "execution_count": 73,
     "metadata": {},
     "output_type": "execute_result"
    }
   ],
   "execution_count": 73
  },
  {
   "metadata": {
    "ExecuteTime": {
     "end_time": "2025-05-05T18:21:31.369154Z",
     "start_time": "2025-05-05T18:21:31.359648Z"
    }
   },
   "cell_type": "code",
   "source": [
    "from torch.utils.data import TensorDataset, DataLoader\n",
    "\n",
    "X_train_tensor = torch.tensor(X_train, dtype=torch.float32)\n",
    "y_train_tensor = torch.tensor(all_y_train, dtype=torch.long)\n",
    "X_test_tensor = torch.tensor(X_test, dtype=torch.float32)\n",
    "y_test_tensor = torch.tensor(all_y_test, dtype=torch.long)\n",
    "\n",
    "# Dataset and DataLoader\n",
    "train_ds = TensorDataset(X_train_tensor, y_train_tensor)\n",
    "test_ds = TensorDataset(X_test_tensor, y_test_tensor)\n",
    "\n",
    "train_loader = DataLoader(train_ds, batch_size=32, shuffle=False)\n",
    "test_loader = DataLoader(test_ds, batch_size=32)\n"
   ],
   "id": "358a63953f1b9e34",
   "outputs": [],
   "execution_count": 25
  },
  {
   "metadata": {
    "ExecuteTime": {
     "end_time": "2025-05-05T18:23:30.377288Z",
     "start_time": "2025-05-05T18:23:30.371494Z"
    }
   },
   "cell_type": "code",
   "source": [
    "def validate(model, dataloader, criterion):\n",
    "    model.eval()\n",
    "    running_loss = 0.0\n",
    "    all_preds = []\n",
    "    all_labels = []\n",
    "\n",
    "    with torch.no_grad():\n",
    "       for input, labels in dataloader:\n",
    "            outputs= model(input)\n",
    "            loss = criterion(outputs, labels)\n",
    "\n",
    "            running_loss += loss.item()\n",
    "            predictions = torch.argmax(outputs, dim=1)\n",
    "            threshold = 0.45 # Example: more conservative, favors precision\n",
    "            predictions = (predictions >= threshold).long()\n",
    "\n",
    "            all_preds.append(predictions)\n",
    "            all_labels.append(labels)\n",
    "\n",
    "    all_labels = np.concatenate(all_labels)\n",
    "    all_pred = np.concatenate(all_preds)\n",
    "    report =  classification_report(all_labels, all_pred, zero_division=0.0, output_dict=True)\n",
    "    cm = confusion_matrix(all_labels, all_pred)\n",
    "    accuracy = report[\"accuracy\"]\n",
    "    f1 = report[\"macro avg\"][\"f1-score\"]\n",
    "    return running_loss / len(dataloader), report, accuracy, cm, f1"
   ],
   "id": "b54cce6201dc4e0d",
   "outputs": [],
   "execution_count": 31
  },
  {
   "metadata": {
    "ExecuteTime": {
     "end_time": "2025-05-05T18:23:58.626176Z",
     "start_time": "2025-05-05T18:23:32.512107Z"
    }
   },
   "cell_type": "code",
   "source": [
    "from sklearn.utils import compute_class_weight\n",
    "\n",
    "\n",
    "model = SimpleMLP()\n",
    "# Class weights\n",
    "\n",
    "weights = compute_class_weight(class_weight='balanced', classes=np.array([0, 1]), y=all_y_train)\n",
    "weights = torch.tensor(weights, dtype=torch.float32)\n",
    "criterion = nn.CrossEntropyLoss(weight=weights)\n",
    "optimizer = torch.optim.Adam(model.parameters(), lr=1e-5)\n",
    "scheduler = lr_scheduler.LinearLR(optimizer, start_factor=0.1, end_factor=1, total_iters=100)\n",
    "print(weights)\n",
    "\n",
    "# Training loop\n",
    "train_losses = []\n",
    "val_losses = []\n",
    "accs = []\n",
    "f1s = []\n",
    "for epoch in range(60):\n",
    "    model.train()\n",
    "    running_loss = 0.0\n",
    "    for xb, yb in train_loader:\n",
    "        logits = model(xb)\n",
    "        loss = criterion(logits, yb)\n",
    "        optimizer.zero_grad()\n",
    "        loss.backward()\n",
    "        optimizer.step()\n",
    "        running_loss += loss.item()\n",
    "\n",
    "    avg_train_loss = running_loss / len(train_loader)\n",
    "    train_losses.append(avg_train_loss)\n",
    "\n",
    "    val_loss, _, acc, _, f1 = validate(model, test_loader, criterion)\n",
    "    val_losses.append(val_loss)\n",
    "    accs.append(acc)\n",
    "    f1s.append(f1)\n",
    "    scheduler.step()\n",
    "\n",
    "    print(f\"Epoch {epoch+1}: Train Loss = {avg_train_loss:.4f} | Val Loss = {val_loss:.4f} | Accuracy = {acc:.4f}\")\n"
   ],
   "id": "e9674b5607b934f1",
   "outputs": [
    {
     "name": "stdout",
     "output_type": "stream",
     "text": [
      "tensor([0.6398, 2.2886])\n",
      "Epoch 1: Train Loss = 0.6975 | Val Loss = 0.6916 | Accuracy = 0.2905\n",
      "Epoch 2: Train Loss = 0.6973 | Val Loss = 0.6916 | Accuracy = 0.2905\n",
      "Epoch 3: Train Loss = 0.6971 | Val Loss = 0.6917 | Accuracy = 0.2905\n",
      "Epoch 4: Train Loss = 0.6969 | Val Loss = 0.6917 | Accuracy = 0.2905\n",
      "Epoch 5: Train Loss = 0.6967 | Val Loss = 0.6918 | Accuracy = 0.2905\n",
      "Epoch 6: Train Loss = 0.6964 | Val Loss = 0.6918 | Accuracy = 0.2905\n",
      "Epoch 7: Train Loss = 0.6962 | Val Loss = 0.6919 | Accuracy = 0.2905\n",
      "Epoch 8: Train Loss = 0.6959 | Val Loss = 0.6920 | Accuracy = 0.2905\n",
      "Epoch 9: Train Loss = 0.6956 | Val Loss = 0.6920 | Accuracy = 0.2905\n",
      "Epoch 10: Train Loss = 0.6953 | Val Loss = 0.6921 | Accuracy = 0.2905\n",
      "Epoch 11: Train Loss = 0.6950 | Val Loss = 0.6922 | Accuracy = 0.2905\n",
      "Epoch 12: Train Loss = 0.6947 | Val Loss = 0.6923 | Accuracy = 0.2905\n",
      "Epoch 13: Train Loss = 0.6944 | Val Loss = 0.6924 | Accuracy = 0.2905\n",
      "Epoch 14: Train Loss = 0.6940 | Val Loss = 0.6925 | Accuracy = 0.2905\n",
      "Epoch 15: Train Loss = 0.6937 | Val Loss = 0.6926 | Accuracy = 0.2905\n",
      "Epoch 16: Train Loss = 0.6933 | Val Loss = 0.6928 | Accuracy = 0.2905\n",
      "Epoch 17: Train Loss = 0.6930 | Val Loss = 0.6929 | Accuracy = 0.6718\n",
      "Epoch 18: Train Loss = 0.6926 | Val Loss = 0.6930 | Accuracy = 0.7095\n",
      "Epoch 19: Train Loss = 0.6923 | Val Loss = 0.6932 | Accuracy = 0.7095\n",
      "Epoch 20: Train Loss = 0.6919 | Val Loss = 0.6933 | Accuracy = 0.7095\n",
      "Epoch 21: Train Loss = 0.6915 | Val Loss = 0.6935 | Accuracy = 0.7095\n",
      "Epoch 22: Train Loss = 0.6911 | Val Loss = 0.6937 | Accuracy = 0.7095\n",
      "Epoch 23: Train Loss = 0.6907 | Val Loss = 0.6939 | Accuracy = 0.7095\n",
      "Epoch 24: Train Loss = 0.6903 | Val Loss = 0.6940 | Accuracy = 0.7095\n",
      "Epoch 25: Train Loss = 0.6898 | Val Loss = 0.6942 | Accuracy = 0.7095\n",
      "Epoch 26: Train Loss = 0.6894 | Val Loss = 0.6944 | Accuracy = 0.7095\n",
      "Epoch 27: Train Loss = 0.6890 | Val Loss = 0.6946 | Accuracy = 0.7095\n",
      "Epoch 28: Train Loss = 0.6885 | Val Loss = 0.6948 | Accuracy = 0.7095\n",
      "Epoch 29: Train Loss = 0.6881 | Val Loss = 0.6950 | Accuracy = 0.7095\n",
      "Epoch 30: Train Loss = 0.6876 | Val Loss = 0.6952 | Accuracy = 0.7095\n",
      "Epoch 31: Train Loss = 0.6872 | Val Loss = 0.6953 | Accuracy = 0.7095\n",
      "Epoch 32: Train Loss = 0.6867 | Val Loss = 0.6955 | Accuracy = 0.7095\n",
      "Epoch 33: Train Loss = 0.6862 | Val Loss = 0.6957 | Accuracy = 0.7095\n",
      "Epoch 34: Train Loss = 0.6856 | Val Loss = 0.6958 | Accuracy = 0.7095\n",
      "Epoch 35: Train Loss = 0.6851 | Val Loss = 0.6958 | Accuracy = 0.7095\n",
      "Epoch 36: Train Loss = 0.6845 | Val Loss = 0.6959 | Accuracy = 0.7095\n",
      "Epoch 37: Train Loss = 0.6839 | Val Loss = 0.6959 | Accuracy = 0.7095\n",
      "Epoch 38: Train Loss = 0.6832 | Val Loss = 0.6959 | Accuracy = 0.7095\n",
      "Epoch 39: Train Loss = 0.6825 | Val Loss = 0.6958 | Accuracy = 0.7095\n",
      "Epoch 40: Train Loss = 0.6817 | Val Loss = 0.6957 | Accuracy = 0.7095\n",
      "Epoch 41: Train Loss = 0.6807 | Val Loss = 0.6953 | Accuracy = 0.7095\n",
      "Epoch 42: Train Loss = 0.6795 | Val Loss = 0.6948 | Accuracy = 0.7095\n",
      "Epoch 43: Train Loss = 0.6779 | Val Loss = 0.6942 | Accuracy = 0.7095\n",
      "Epoch 44: Train Loss = 0.6762 | Val Loss = 0.6936 | Accuracy = 0.7095\n",
      "Epoch 45: Train Loss = 0.6744 | Val Loss = 0.6928 | Accuracy = 0.7095\n",
      "Epoch 46: Train Loss = 0.6724 | Val Loss = 0.6918 | Accuracy = 0.7095\n",
      "Epoch 47: Train Loss = 0.6703 | Val Loss = 0.6907 | Accuracy = 0.7095\n",
      "Epoch 48: Train Loss = 0.6682 | Val Loss = 0.6894 | Accuracy = 0.7101\n",
      "Epoch 49: Train Loss = 0.6659 | Val Loss = 0.6879 | Accuracy = 0.7104\n",
      "Epoch 50: Train Loss = 0.6635 | Val Loss = 0.6863 | Accuracy = 0.7098\n",
      "Epoch 51: Train Loss = 0.6611 | Val Loss = 0.6845 | Accuracy = 0.7123\n",
      "Epoch 52: Train Loss = 0.6585 | Val Loss = 0.6827 | Accuracy = 0.7168\n",
      "Epoch 53: Train Loss = 0.6559 | Val Loss = 0.6808 | Accuracy = 0.7174\n",
      "Epoch 54: Train Loss = 0.6532 | Val Loss = 0.6788 | Accuracy = 0.7372\n",
      "Epoch 55: Train Loss = 0.6505 | Val Loss = 0.6768 | Accuracy = 0.7375\n",
      "Epoch 56: Train Loss = 0.6477 | Val Loss = 0.6748 | Accuracy = 0.7363\n",
      "Epoch 57: Train Loss = 0.6448 | Val Loss = 0.6727 | Accuracy = 0.7299\n",
      "Epoch 58: Train Loss = 0.6420 | Val Loss = 0.6705 | Accuracy = 0.7280\n",
      "Epoch 59: Train Loss = 0.6392 | Val Loss = 0.6682 | Accuracy = 0.7222\n",
      "Epoch 60: Train Loss = 0.6364 | Val Loss = 0.6660 | Accuracy = 0.7197\n"
     ]
    }
   ],
   "execution_count": 32
  },
  {
   "metadata": {
    "ExecuteTime": {
     "end_time": "2025-05-05T18:24:02.046525Z",
     "start_time": "2025-05-05T18:24:01.966396Z"
    }
   },
   "cell_type": "code",
   "source": [
    "epochs = [i for i in range(60)]\n",
    "plt.plot(epochs, train_losses, label='train loss')\n",
    "plt.plot(epochs, val_losses, label='test loss')\n",
    "plt.plot(epochs, accs, label='accuracy')\n",
    "plt.plot(epochs, f1s, label= 'f1')\n",
    "plt.xlabel(\"epoch\")\n",
    "plt.ylabel(\"loss\")\n",
    "plt.legend()\n",
    "plt.title(\"Train loss and val_loss\")\n",
    "plt.show()"
   ],
   "id": "d1c453562ec49727",
   "outputs": [
    {
     "data": {
      "text/plain": [
       "<Figure size 640x480 with 1 Axes>"
      ],
      "image/png": "[encoded data removed]"
     },
     "metadata": {},
     "output_type": "display_data"
    }
   ],
   "execution_count": 33
  },
  {
   "metadata": {
    "ExecuteTime": {
     "end_time": "2025-05-05T18:24:08.627205Z",
     "start_time": "2025-05-05T18:24:08.623706Z"
    }
   },
   "cell_type": "code",
   "source": "print(f1s[-1])",
   "id": "54e3071402c8a0d7",
   "outputs": [
    {
     "name": "stdout",
     "output_type": "stream",
     "text": [
      "0.6710575171104408\n"
     ]
    }
   ],
   "execution_count": 34
  },
  {
   "metadata": {
    "ExecuteTime": {
     "end_time": "2025-05-05T18:24:10.742050Z",
     "start_time": "2025-05-05T18:24:10.629768Z"
    }
   },
   "cell_type": "code",
   "source": [
    "_, _, _, cm, _ = validate(model, test_loader, criterion)\n",
    "import seaborn as sns\n",
    "\n",
    "# Optional: define class names\n",
    "class_names = [\"Class 0\", \"Class 1\"]\n",
    "\n",
    "plt.figure(figsize=(6, 5))\n",
    "sns.heatmap(cm, annot=True, fmt=\"d\", cmap=\"Blues\",\n",
    "            xticklabels=class_names, yticklabels=class_names)\n",
    "\n",
    "plt.xlabel(\"Predicted Label\")\n",
    "plt.ylabel(\"True Label\")\n",
    "plt.title(\"Confusion Matrix\")\n",
    "plt.tight_layout()\n",
    "plt.show()\n"
   ],
   "id": "191de7348796926e",
   "outputs": [
    {
     "data": {
      "text/plain": [
       "<Figure size 600x500 with 2 Axes>"
      ],
      "image/png": "[encoded data removed]"
     },
     "metadata": {},
     "output_type": "display_data"
    }
   ],
   "execution_count": 35
  },
  {
   "metadata": {},
   "cell_type": "markdown",
   "source": [
    "\n",
    "\n",
    "              precision    recall  f1-score   support\n",
    "\n",
    "           0       0.84      0.65      0.73      2222\n",
    "           1       0.45      0.69      0.55       910\n",
    "\n",
    "    accuracy                           0.66      3132\n",
    "   macro avg       0.64      0.67      0.64      3132\n",
    "weighted avg       0.73      0.66      0.68      3132"
   ],
   "id": "bdd3ccf0436a7613"
  },
  {
   "metadata": {},
   "cell_type": "markdown",
   "source": [
    "simple model with (temp, sun, rain, snow). Therefor snow did not use anything\n",
    "\n",
    "              precision    recall  f1-score   support\n",
    "\n",
    "           0       0.83      0.71      0.77      2222\n",
    "           1       0.48      0.65      0.55       910\n",
    "\n",
    "    accuracy                           0.69      3132\n",
    "   macro avg       0.66      0.68      0.66      3132\n",
    "weighted avg       0.73      0.69      0.70      3132\n"
   ],
   "id": "d35ba35822d2c5ed"
  },
  {
   "metadata": {},
   "cell_type": "code",
   "outputs": [],
   "execution_count": null,
   "source": "torch.save(model.state_dict(), \"../trained_models/small_nn_acc73_f1\")",
   "id": "89c69e0999452723"
  }
 ],
 "metadata": {
  "kernelspec": {
   "display_name": "Python 3",
   "language": "python",
   "name": "python3"
  },
  "language_info": {
   "codemirror_mode": {
    "name": "ipython",
    "version": 2
   },
   "file_extension": ".py",
   "mimetype": "text/x-python",
   "name": "python",
   "nbconvert_exporter": "python",
   "pygments_lexer": "ipython2",
   "version": "2.7.6"
  }
 },
 "nbformat": 4,
 "nbformat_minor": 5
}
