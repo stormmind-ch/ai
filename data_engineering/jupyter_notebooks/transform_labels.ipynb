{
 "cells": [
  {
   "cell_type": "code",
   "id": "initial_id",
   "metadata": {
    "collapsed": true,
    "ExecuteTime": {
     "end_time": "2025-04-10T15:15:37.415118Z",
     "start_time": "2025-04-10T15:15:37.047266Z"
    }
   },
   "source": [
    "import pandas as pd\n",
    "import polars as pl"
   ],
   "outputs": [],
   "execution_count": 1
  },
  {
   "metadata": {
    "ExecuteTime": {
     "end_time": "2025-04-08T07:57:31.373568Z",
     "start_time": "2025-04-08T07:57:23.154727Z"
    }
   },
   "cell_type": "code",
   "source": "df = pd.read_csv('/Users/nilsgamperli/Documents/StormMindData/main_data.csv')",
   "id": "be25824ec597b3e2",
   "outputs": [],
   "execution_count": 44
  },
  {
   "metadata": {
    "ExecuteTime": {
     "end_time": "2025-04-08T07:57:36.062513Z",
     "start_time": "2025-04-08T07:57:36.052302Z"
    }
   },
   "cell_type": "code",
   "source": "df",
   "id": "a133dd60cd740872",
   "outputs": [
    {
     "data": {
      "text/plain": [
       "             Municipality        Date  extent_of_damage  main_process\n",
       "0         Aeugst am Albis  1972-02-17               0.0           0.0\n",
       "1         Aeugst am Albis  1972-02-18               0.0           0.0\n",
       "2         Aeugst am Albis  1972-02-19               0.0           0.0\n",
       "3         Aeugst am Albis  1972-02-20               0.0           0.0\n",
       "4         Aeugst am Albis  1972-02-21               0.0           0.0\n",
       "...                   ...         ...               ...           ...\n",
       "52231982     Vendlincourt  2023-12-19               0.0           0.0\n",
       "52231983     Vendlincourt  2023-12-20               0.0           0.0\n",
       "52231984     Vendlincourt  2023-12-21               0.0           0.0\n",
       "52231985     Vendlincourt  2023-12-22               0.0           0.0\n",
       "52231986     Vendlincourt  2023-12-23               0.0           0.0\n",
       "\n",
       "[52231987 rows x 4 columns]"
      ],
      "text/html": [
       "<div>\n",
       "<style scoped>\n",
       "    .dataframe tbody tr th:only-of-type {\n",
       "        vertical-align: middle;\n",
       "    }\n",
       "\n",
       "    .dataframe tbody tr th {\n",
       "        vertical-align: top;\n",
       "    }\n",
       "\n",
       "    .dataframe thead th {\n",
       "        text-align: right;\n",
       "    }\n",
       "</style>\n",
       "<table border=\"1\" class=\"dataframe\">\n",
       "  <thead>\n",
       "    <tr style=\"text-align: right;\">\n",
       "      <th></th>\n",
       "      <th>Municipality</th>\n",
       "      <th>Date</th>\n",
       "      <th>extent_of_damage</th>\n",
       "      <th>main_process</th>\n",
       "    </tr>\n",
       "  </thead>\n",
       "  <tbody>\n",
       "    <tr>\n",
       "      <th>0</th>\n",
       "      <td>Aeugst am Albis</td>\n",
       "      <td>1972-02-17</td>\n",
       "      <td>0.0</td>\n",
       "      <td>0.0</td>\n",
       "    </tr>\n",
       "    <tr>\n",
       "      <th>1</th>\n",
       "      <td>Aeugst am Albis</td>\n",
       "      <td>1972-02-18</td>\n",
       "      <td>0.0</td>\n",
       "      <td>0.0</td>\n",
       "    </tr>\n",
       "    <tr>\n",
       "      <th>2</th>\n",
       "      <td>Aeugst am Albis</td>\n",
       "      <td>1972-02-19</td>\n",
       "      <td>0.0</td>\n",
       "      <td>0.0</td>\n",
       "    </tr>\n",
       "    <tr>\n",
       "      <th>3</th>\n",
       "      <td>Aeugst am Albis</td>\n",
       "      <td>1972-02-20</td>\n",
       "      <td>0.0</td>\n",
       "      <td>0.0</td>\n",
       "    </tr>\n",
       "    <tr>\n",
       "      <th>4</th>\n",
       "      <td>Aeugst am Albis</td>\n",
       "      <td>1972-02-21</td>\n",
       "      <td>0.0</td>\n",
       "      <td>0.0</td>\n",
       "    </tr>\n",
       "    <tr>\n",
       "      <th>...</th>\n",
       "      <td>...</td>\n",
       "      <td>...</td>\n",
       "      <td>...</td>\n",
       "      <td>...</td>\n",
       "    </tr>\n",
       "    <tr>\n",
       "      <th>52231982</th>\n",
       "      <td>Vendlincourt</td>\n",
       "      <td>2023-12-19</td>\n",
       "      <td>0.0</td>\n",
       "      <td>0.0</td>\n",
       "    </tr>\n",
       "    <tr>\n",
       "      <th>52231983</th>\n",
       "      <td>Vendlincourt</td>\n",
       "      <td>2023-12-20</td>\n",
       "      <td>0.0</td>\n",
       "      <td>0.0</td>\n",
       "    </tr>\n",
       "    <tr>\n",
       "      <th>52231984</th>\n",
       "      <td>Vendlincourt</td>\n",
       "      <td>2023-12-21</td>\n",
       "      <td>0.0</td>\n",
       "      <td>0.0</td>\n",
       "    </tr>\n",
       "    <tr>\n",
       "      <th>52231985</th>\n",
       "      <td>Vendlincourt</td>\n",
       "      <td>2023-12-22</td>\n",
       "      <td>0.0</td>\n",
       "      <td>0.0</td>\n",
       "    </tr>\n",
       "    <tr>\n",
       "      <th>52231986</th>\n",
       "      <td>Vendlincourt</td>\n",
       "      <td>2023-12-23</td>\n",
       "      <td>0.0</td>\n",
       "      <td>0.0</td>\n",
       "    </tr>\n",
       "  </tbody>\n",
       "</table>\n",
       "<p>52231987 rows × 4 columns</p>\n",
       "</div>"
      ]
     },
     "execution_count": 45,
     "metadata": {},
     "output_type": "execute_result"
    }
   ],
   "execution_count": 45
  },
  {
   "metadata": {
    "ExecuteTime": {
     "end_time": "2025-04-08T07:57:39.046514Z",
     "start_time": "2025-04-08T07:57:38.883917Z"
    }
   },
   "cell_type": "code",
   "source": "df['extent_of_damage'].unique()",
   "id": "d39c78ce4dab1769",
   "outputs": [
    {
     "data": {
      "text/plain": [
       "array([0., 1., 3., 2.])"
      ]
     },
     "execution_count": 46,
     "metadata": {},
     "output_type": "execute_result"
    }
   ],
   "execution_count": 46
  },
  {
   "metadata": {
    "ExecuteTime": {
     "end_time": "2025-04-08T07:57:41.515725Z",
     "start_time": "2025-04-08T07:57:41.337378Z"
    }
   },
   "cell_type": "code",
   "source": "df['main_process'].unique()",
   "id": "94e93e67eac078f3",
   "outputs": [
    {
     "data": {
      "text/plain": [
       "array([0., 3., 2., 1.])"
      ]
     },
     "execution_count": 47,
     "metadata": {},
     "output_type": "execute_result"
    }
   ],
   "execution_count": 47
  },
  {
   "metadata": {
    "ExecuteTime": {
     "end_time": "2025-04-08T07:57:43.960147Z",
     "start_time": "2025-04-08T07:57:43.956469Z"
    }
   },
   "cell_type": "code",
   "source": [
    "def damage_combination(main_process: int, extent:int):\n",
    "    if extent == 0.0 or main_process == 0.0:\n",
    "        return 0\n",
    "    return main_process + (extent -1 ) * 3"
   ],
   "id": "27138defa54a3c73",
   "outputs": [],
   "execution_count": 48
  },
  {
   "metadata": {
    "ExecuteTime": {
     "end_time": "2025-04-08T07:57:46.764137Z",
     "start_time": "2025-04-08T07:57:46.760731Z"
    }
   },
   "cell_type": "code",
   "source": [
    "x = [0,1,2,3]\n",
    "y = [0,1,2,3]\n",
    "for i in x:\n",
    "    for j in y:\n",
    "        combined = damage_combination(i,j)\n",
    "        print(f\"main_process {i}, extent: {j}, combined: {combined}\")"
   ],
   "id": "ee01657f2ad97136",
   "outputs": [
    {
     "name": "stdout",
     "output_type": "stream",
     "text": [
      "main_process 0, extent: 0, combined: 0\n",
      "main_process 0, extent: 1, combined: 0\n",
      "main_process 0, extent: 2, combined: 0\n",
      "main_process 0, extent: 3, combined: 0\n",
      "main_process 1, extent: 0, combined: 0\n",
      "main_process 1, extent: 1, combined: 1\n",
      "main_process 1, extent: 2, combined: 4\n",
      "main_process 1, extent: 3, combined: 7\n",
      "main_process 2, extent: 0, combined: 0\n",
      "main_process 2, extent: 1, combined: 2\n",
      "main_process 2, extent: 2, combined: 5\n",
      "main_process 2, extent: 3, combined: 8\n",
      "main_process 3, extent: 0, combined: 0\n",
      "main_process 3, extent: 1, combined: 3\n",
      "main_process 3, extent: 2, combined: 6\n",
      "main_process 3, extent: 3, combined: 9\n"
     ]
    }
   ],
   "execution_count": 49
  },
  {
   "metadata": {
    "ExecuteTime": {
     "end_time": "2025-04-08T08:02:00.861639Z",
     "start_time": "2025-04-08T07:59:53.228367Z"
    }
   },
   "cell_type": "code",
   "source": [
    "df['combination_damage_mainprocess'] = df.apply(\n",
    "    lambda row: damage_combination(row['main_process'], row['extent_of_damage']),\n",
    "    axis=1\n",
    ")"
   ],
   "id": "bc150c857a99c7c7",
   "outputs": [],
   "execution_count": 51
  },
  {
   "metadata": {
    "ExecuteTime": {
     "end_time": "2025-04-08T08:03:53.509506Z",
     "start_time": "2025-04-08T08:03:52.105639Z"
    }
   },
   "cell_type": "code",
   "source": "df = df.drop(columns=['extent_of_damage', 'main_process'])",
   "id": "8be5fe8c9e31846c",
   "outputs": [],
   "execution_count": 52
  },
  {
   "metadata": {
    "ExecuteTime": {
     "end_time": "2025-04-08T08:04:07.754778Z",
     "start_time": "2025-04-08T08:04:07.527533Z"
    }
   },
   "cell_type": "code",
   "source": "df['combination_damage_mainprocess'].unique()",
   "id": "5b3ea9de5c6eec00",
   "outputs": [
    {
     "data": {
      "text/plain": [
       "array([0., 3., 9., 6., 2., 5., 1., 8., 4., 7.])"
      ]
     },
     "execution_count": 54,
     "metadata": {},
     "output_type": "execute_result"
    }
   ],
   "execution_count": 54
  },
  {
   "metadata": {
    "ExecuteTime": {
     "end_time": "2025-04-08T08:06:04.991685Z",
     "start_time": "2025-04-08T08:06:04.707416Z"
    }
   },
   "cell_type": "code",
   "source": "df['combination_damage_mainprocess'].value_counts()",
   "id": "415d2f8ab8ff429c",
   "outputs": [
    {
     "data": {
      "text/plain": [
       "combination_damage_mainprocess\n",
       "0.0    52206832\n",
       "3.0       18066\n",
       "2.0        3445\n",
       "6.0        1424\n",
       "1.0        1161\n",
       "9.0         655\n",
       "5.0         237\n",
       "8.0          69\n",
       "7.0          56\n",
       "4.0          42\n",
       "Name: count, dtype: int64"
      ]
     },
     "execution_count": 55,
     "metadata": {},
     "output_type": "execute_result"
    }
   ],
   "execution_count": 55
  },
  {
   "metadata": {
    "ExecuteTime": {
     "end_time": "2025-04-08T08:08:26.484429Z",
     "start_time": "2025-04-08T08:08:26.463312Z"
    }
   },
   "cell_type": "code",
   "source": "df",
   "id": "a28f234ee8b7ba87",
   "outputs": [
    {
     "data": {
      "text/plain": [
       "             Municipality        Date  combination_damage_mainprocess\n",
       "0         Aeugst am Albis  1972-02-17                             0.0\n",
       "1         Aeugst am Albis  1972-02-18                             0.0\n",
       "2         Aeugst am Albis  1972-02-19                             0.0\n",
       "3         Aeugst am Albis  1972-02-20                             0.0\n",
       "4         Aeugst am Albis  1972-02-21                             0.0\n",
       "...                   ...         ...                             ...\n",
       "52231982     Vendlincourt  2023-12-19                             0.0\n",
       "52231983     Vendlincourt  2023-12-20                             0.0\n",
       "52231984     Vendlincourt  2023-12-21                             0.0\n",
       "52231985     Vendlincourt  2023-12-22                             0.0\n",
       "52231986     Vendlincourt  2023-12-23                             0.0\n",
       "\n",
       "[52231987 rows x 3 columns]"
      ],
      "text/html": [
       "<div>\n",
       "<style scoped>\n",
       "    .dataframe tbody tr th:only-of-type {\n",
       "        vertical-align: middle;\n",
       "    }\n",
       "\n",
       "    .dataframe tbody tr th {\n",
       "        vertical-align: top;\n",
       "    }\n",
       "\n",
       "    .dataframe thead th {\n",
       "        text-align: right;\n",
       "    }\n",
       "</style>\n",
       "<table border=\"1\" class=\"dataframe\">\n",
       "  <thead>\n",
       "    <tr style=\"text-align: right;\">\n",
       "      <th></th>\n",
       "      <th>Municipality</th>\n",
       "      <th>Date</th>\n",
       "      <th>combination_damage_mainprocess</th>\n",
       "    </tr>\n",
       "  </thead>\n",
       "  <tbody>\n",
       "    <tr>\n",
       "      <th>0</th>\n",
       "      <td>Aeugst am Albis</td>\n",
       "      <td>1972-02-17</td>\n",
       "      <td>0.0</td>\n",
       "    </tr>\n",
       "    <tr>\n",
       "      <th>1</th>\n",
       "      <td>Aeugst am Albis</td>\n",
       "      <td>1972-02-18</td>\n",
       "      <td>0.0</td>\n",
       "    </tr>\n",
       "    <tr>\n",
       "      <th>2</th>\n",
       "      <td>Aeugst am Albis</td>\n",
       "      <td>1972-02-19</td>\n",
       "      <td>0.0</td>\n",
       "    </tr>\n",
       "    <tr>\n",
       "      <th>3</th>\n",
       "      <td>Aeugst am Albis</td>\n",
       "      <td>1972-02-20</td>\n",
       "      <td>0.0</td>\n",
       "    </tr>\n",
       "    <tr>\n",
       "      <th>4</th>\n",
       "      <td>Aeugst am Albis</td>\n",
       "      <td>1972-02-21</td>\n",
       "      <td>0.0</td>\n",
       "    </tr>\n",
       "    <tr>\n",
       "      <th>...</th>\n",
       "      <td>...</td>\n",
       "      <td>...</td>\n",
       "      <td>...</td>\n",
       "    </tr>\n",
       "    <tr>\n",
       "      <th>52231982</th>\n",
       "      <td>Vendlincourt</td>\n",
       "      <td>2023-12-19</td>\n",
       "      <td>0.0</td>\n",
       "    </tr>\n",
       "    <tr>\n",
       "      <th>52231983</th>\n",
       "      <td>Vendlincourt</td>\n",
       "      <td>2023-12-20</td>\n",
       "      <td>0.0</td>\n",
       "    </tr>\n",
       "    <tr>\n",
       "      <th>52231984</th>\n",
       "      <td>Vendlincourt</td>\n",
       "      <td>2023-12-21</td>\n",
       "      <td>0.0</td>\n",
       "    </tr>\n",
       "    <tr>\n",
       "      <th>52231985</th>\n",
       "      <td>Vendlincourt</td>\n",
       "      <td>2023-12-22</td>\n",
       "      <td>0.0</td>\n",
       "    </tr>\n",
       "    <tr>\n",
       "      <th>52231986</th>\n",
       "      <td>Vendlincourt</td>\n",
       "      <td>2023-12-23</td>\n",
       "      <td>0.0</td>\n",
       "    </tr>\n",
       "  </tbody>\n",
       "</table>\n",
       "<p>52231987 rows × 3 columns</p>\n",
       "</div>"
      ]
     },
     "execution_count": 56,
     "metadata": {},
     "output_type": "execute_result"
    }
   ],
   "execution_count": 56
  },
  {
   "metadata": {
    "ExecuteTime": {
     "end_time": "2025-04-08T08:09:40.708626Z",
     "start_time": "2025-04-08T08:09:12.166783Z"
    }
   },
   "cell_type": "code",
   "source": "df.to_csv('/Users/nilsgamperli/Documents/StormMindData/main_data_combined.csv', index=False)",
   "id": "cbddb09a11bd8938",
   "outputs": [],
   "execution_count": 57
  },
  {
   "metadata": {
    "ExecuteTime": {
     "end_time": "2025-03-28T12:27:50.619195Z",
     "start_time": "2025-03-28T12:27:42.503038Z"
    }
   },
   "cell_type": "code",
   "source": "df_2 = pd.read_csv('/Users/nilsgamperli/Documents/StormMindData/main_data_combined.csv')",
   "id": "3817fdb250940a50",
   "outputs": [],
   "execution_count": 13
  },
  {
   "metadata": {
    "ExecuteTime": {
     "end_time": "2025-03-28T12:30:23.077187Z",
     "start_time": "2025-03-28T12:29:55.212593Z"
    }
   },
   "cell_type": "code",
   "source": [
    "df_2 = df_2.drop(columns=['Unnamed: 0'])\n",
    "df_2.to_csv('/Users/nilsgamperli/Documents/StormMindData/main_data_combined.csv', index=False)"
   ],
   "id": "4ff376f6c8caacd",
   "outputs": [],
   "execution_count": 16
  },
  {
   "metadata": {
    "ExecuteTime": {
     "end_time": "2025-04-10T15:16:41.626953Z",
     "start_time": "2025-04-10T15:16:40.667629Z"
    }
   },
   "cell_type": "code",
   "source": "df_polars = pl.read_csv('../../Ressources/main_data_combined.csv')",
   "id": "ee9b102cf4f6cc1b",
   "outputs": [],
   "execution_count": 4
  },
  {
   "metadata": {
    "ExecuteTime": {
     "end_time": "2025-04-10T15:16:56.020586Z",
     "start_time": "2025-04-10T15:16:56.014115Z"
    }
   },
   "cell_type": "code",
   "source": "df_polars",
   "id": "dca45e59a0e52a43",
   "outputs": [
    {
     "data": {
      "text/plain": [
       "shape: (52_231_987, 3)\n",
       "┌─────────────────┬────────────┬────────────────────────────────┐\n",
       "│ Municipality    ┆ Date       ┆ combination_damage_mainprocess │\n",
       "│ ---             ┆ ---        ┆ ---                            │\n",
       "│ str             ┆ str        ┆ f64                            │\n",
       "╞═════════════════╪════════════╪════════════════════════════════╡\n",
       "│ Aeugst am Albis ┆ 1972-02-17 ┆ 0.0                            │\n",
       "│ Aeugst am Albis ┆ 1972-02-18 ┆ 0.0                            │\n",
       "│ Aeugst am Albis ┆ 1972-02-19 ┆ 0.0                            │\n",
       "│ Aeugst am Albis ┆ 1972-02-20 ┆ 0.0                            │\n",
       "│ Aeugst am Albis ┆ 1972-02-21 ┆ 0.0                            │\n",
       "│ …               ┆ …          ┆ …                              │\n",
       "│ Vendlincourt    ┆ 2023-12-19 ┆ 0.0                            │\n",
       "│ Vendlincourt    ┆ 2023-12-20 ┆ 0.0                            │\n",
       "│ Vendlincourt    ┆ 2023-12-21 ┆ 0.0                            │\n",
       "│ Vendlincourt    ┆ 2023-12-22 ┆ 0.0                            │\n",
       "│ Vendlincourt    ┆ 2023-12-23 ┆ 0.0                            │\n",
       "└─────────────────┴────────────┴────────────────────────────────┘"
      ],
      "text/html": [
       "<div><style>\n",
       ".dataframe > thead > tr,\n",
       ".dataframe > tbody > tr {\n",
       "  text-align: right;\n",
       "  white-space: pre-wrap;\n",
       "}\n",
       "</style>\n",
       "<small>shape: (52_231_987, 3)</small><table border=\"1\" class=\"dataframe\"><thead><tr><th>Municipality</th><th>Date</th><th>combination_damage_mainprocess</th></tr><tr><td>str</td><td>str</td><td>f64</td></tr></thead><tbody><tr><td>&quot;Aeugst am Albis&quot;</td><td>&quot;1972-02-17&quot;</td><td>0.0</td></tr><tr><td>&quot;Aeugst am Albis&quot;</td><td>&quot;1972-02-18&quot;</td><td>0.0</td></tr><tr><td>&quot;Aeugst am Albis&quot;</td><td>&quot;1972-02-19&quot;</td><td>0.0</td></tr><tr><td>&quot;Aeugst am Albis&quot;</td><td>&quot;1972-02-20&quot;</td><td>0.0</td></tr><tr><td>&quot;Aeugst am Albis&quot;</td><td>&quot;1972-02-21&quot;</td><td>0.0</td></tr><tr><td>&hellip;</td><td>&hellip;</td><td>&hellip;</td></tr><tr><td>&quot;Vendlincourt&quot;</td><td>&quot;2023-12-19&quot;</td><td>0.0</td></tr><tr><td>&quot;Vendlincourt&quot;</td><td>&quot;2023-12-20&quot;</td><td>0.0</td></tr><tr><td>&quot;Vendlincourt&quot;</td><td>&quot;2023-12-21&quot;</td><td>0.0</td></tr><tr><td>&quot;Vendlincourt&quot;</td><td>&quot;2023-12-22&quot;</td><td>0.0</td></tr><tr><td>&quot;Vendlincourt&quot;</td><td>&quot;2023-12-23&quot;</td><td>0.0</td></tr></tbody></table></div>"
      ]
     },
     "execution_count": 5,
     "metadata": {},
     "output_type": "execute_result"
    }
   ],
   "execution_count": 5
  },
  {
   "metadata": {
    "ExecuteTime": {
     "end_time": "2025-04-10T15:17:07.223054Z",
     "start_time": "2025-04-10T15:17:04.284640Z"
    }
   },
   "cell_type": "code",
   "source": "df_polars.sort(\"Date\")",
   "id": "d39dd7c2a3cf6feb",
   "outputs": [
    {
     "data": {
      "text/plain": [
       "shape: (52_231_987, 3)\n",
       "┌────────────────────┬────────────┬────────────────────────────────┐\n",
       "│ Municipality       ┆ Date       ┆ combination_damage_mainprocess │\n",
       "│ ---                ┆ ---        ┆ ---                            │\n",
       "│ str                ┆ str        ┆ f64                            │\n",
       "╞════════════════════╪════════════╪════════════════════════════════╡\n",
       "│ Aeugst am Albis    ┆ 1972-02-17 ┆ 0.0                            │\n",
       "│ Affoltern am Albis ┆ 1972-02-17 ┆ 0.0                            │\n",
       "│ Bonstetten         ┆ 1972-02-17 ┆ 0.0                            │\n",
       "│ Hausen am Albis    ┆ 1972-02-17 ┆ 0.0                            │\n",
       "│ Hedingen           ┆ 1972-02-17 ┆ 0.0                            │\n",
       "│ …                  ┆ …          ┆ …                              │\n",
       "│ Roche-d'Or         ┆ 2023-12-23 ┆ 0.0                            │\n",
       "│ Rocourt            ┆ 2023-12-23 ┆ 0.0                            │\n",
       "│ Saint-Ursanne      ┆ 2023-12-23 ┆ 0.0                            │\n",
       "│ Seleute            ┆ 2023-12-23 ┆ 0.0                            │\n",
       "│ Vendlincourt       ┆ 2023-12-23 ┆ 0.0                            │\n",
       "└────────────────────┴────────────┴────────────────────────────────┘"
      ],
      "text/html": [
       "<div><style>\n",
       ".dataframe > thead > tr,\n",
       ".dataframe > tbody > tr {\n",
       "  text-align: right;\n",
       "  white-space: pre-wrap;\n",
       "}\n",
       "</style>\n",
       "<small>shape: (52_231_987, 3)</small><table border=\"1\" class=\"dataframe\"><thead><tr><th>Municipality</th><th>Date</th><th>combination_damage_mainprocess</th></tr><tr><td>str</td><td>str</td><td>f64</td></tr></thead><tbody><tr><td>&quot;Aeugst am Albis&quot;</td><td>&quot;1972-02-17&quot;</td><td>0.0</td></tr><tr><td>&quot;Affoltern am Albis&quot;</td><td>&quot;1972-02-17&quot;</td><td>0.0</td></tr><tr><td>&quot;Bonstetten&quot;</td><td>&quot;1972-02-17&quot;</td><td>0.0</td></tr><tr><td>&quot;Hausen am Albis&quot;</td><td>&quot;1972-02-17&quot;</td><td>0.0</td></tr><tr><td>&quot;Hedingen&quot;</td><td>&quot;1972-02-17&quot;</td><td>0.0</td></tr><tr><td>&hellip;</td><td>&hellip;</td><td>&hellip;</td></tr><tr><td>&quot;Roche-d&#x27;Or&quot;</td><td>&quot;2023-12-23&quot;</td><td>0.0</td></tr><tr><td>&quot;Rocourt&quot;</td><td>&quot;2023-12-23&quot;</td><td>0.0</td></tr><tr><td>&quot;Saint-Ursanne&quot;</td><td>&quot;2023-12-23&quot;</td><td>0.0</td></tr><tr><td>&quot;Seleute&quot;</td><td>&quot;2023-12-23&quot;</td><td>0.0</td></tr><tr><td>&quot;Vendlincourt&quot;</td><td>&quot;2023-12-23&quot;</td><td>0.0</td></tr></tbody></table></div>"
      ]
     },
     "execution_count": 6,
     "metadata": {},
     "output_type": "execute_result"
    }
   ],
   "execution_count": 6
  },
  {
   "metadata": {
    "ExecuteTime": {
     "end_time": "2025-04-10T15:18:15.581346Z",
     "start_time": "2025-04-10T15:18:13.916636Z"
    }
   },
   "cell_type": "code",
   "source": "df_polars.write_csv('../../Ressources/main_data_combined.csv')",
   "id": "5c4be1b74c151267",
   "outputs": [],
   "execution_count": 7
  }
 ],
 "metadata": {
  "kernelspec": {
   "display_name": "Python 3",
   "language": "python",
   "name": "python3"
  },
  "language_info": {
   "codemirror_mode": {
    "name": "ipython",
    "version": 2
   },
   "file_extension": ".py",
   "mimetype": "text/x-python",
   "name": "python",
   "nbconvert_exporter": "python",
   "pygments_lexer": "ipython2",
   "version": "2.7.6"
  }
 },
 "nbformat": 4,
 "nbformat_minor": 5
}
