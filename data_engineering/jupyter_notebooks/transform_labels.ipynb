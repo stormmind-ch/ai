{
 "cells": [
  {
   "cell_type": "code",
   "id": "initial_id",
   "metadata": {
    "collapsed": true,
    "ExecuteTime": {
     "end_time": "2025-03-28T12:23:28.815259Z",
     "start_time": "2025-03-28T12:23:28.813102Z"
    }
   },
   "source": "import pandas as pd",
   "outputs": [],
   "execution_count": 2
  },
  {
   "metadata": {
    "ExecuteTime": {
     "end_time": "2025-03-28T12:45:23.470895Z",
     "start_time": "2025-03-28T12:45:15.033808Z"
    }
   },
   "cell_type": "code",
   "source": "df = pd.read_csv('/Users/nilsgamperli/Documents/StormMindData/main_data.csv')",
   "id": "be25824ec597b3e2",
   "outputs": [],
   "execution_count": 18
  },
  {
   "metadata": {
    "ExecuteTime": {
     "end_time": "2025-03-28T12:45:25.942987Z",
     "start_time": "2025-03-28T12:45:25.935825Z"
    }
   },
   "cell_type": "code",
   "source": "df",
   "id": "a133dd60cd740872",
   "outputs": [
    {
     "data": {
      "text/plain": [
       "             Municipality        Date  extent_of_damage  main_process\n",
       "0         Aeugst am Albis  1972-02-17               0.0           0.0\n",
       "1         Aeugst am Albis  1972-02-18               0.0           0.0\n",
       "2         Aeugst am Albis  1972-02-19               0.0           0.0\n",
       "3         Aeugst am Albis  1972-02-20               0.0           0.0\n",
       "4         Aeugst am Albis  1972-02-21               0.0           0.0\n",
       "...                   ...         ...               ...           ...\n",
       "52231982     Vendlincourt  2023-12-19               0.0           0.0\n",
       "52231983     Vendlincourt  2023-12-20               0.0           0.0\n",
       "52231984     Vendlincourt  2023-12-21               0.0           0.0\n",
       "52231985     Vendlincourt  2023-12-22               0.0           0.0\n",
       "52231986     Vendlincourt  2023-12-23               0.0           0.0\n",
       "\n",
       "[52231987 rows x 4 columns]"
      ],
      "text/html": [
       "<div>\n",
       "<style scoped>\n",
       "    .dataframe tbody tr th:only-of-type {\n",
       "        vertical-align: middle;\n",
       "    }\n",
       "\n",
       "    .dataframe tbody tr th {\n",
       "        vertical-align: top;\n",
       "    }\n",
       "\n",
       "    .dataframe thead th {\n",
       "        text-align: right;\n",
       "    }\n",
       "</style>\n",
       "<table border=\"1\" class=\"dataframe\">\n",
       "  <thead>\n",
       "    <tr style=\"text-align: right;\">\n",
       "      <th></th>\n",
       "      <th>Municipality</th>\n",
       "      <th>Date</th>\n",
       "      <th>extent_of_damage</th>\n",
       "      <th>main_process</th>\n",
       "    </tr>\n",
       "  </thead>\n",
       "  <tbody>\n",
       "    <tr>\n",
       "      <th>0</th>\n",
       "      <td>Aeugst am Albis</td>\n",
       "      <td>1972-02-17</td>\n",
       "      <td>0.0</td>\n",
       "      <td>0.0</td>\n",
       "    </tr>\n",
       "    <tr>\n",
       "      <th>1</th>\n",
       "      <td>Aeugst am Albis</td>\n",
       "      <td>1972-02-18</td>\n",
       "      <td>0.0</td>\n",
       "      <td>0.0</td>\n",
       "    </tr>\n",
       "    <tr>\n",
       "      <th>2</th>\n",
       "      <td>Aeugst am Albis</td>\n",
       "      <td>1972-02-19</td>\n",
       "      <td>0.0</td>\n",
       "      <td>0.0</td>\n",
       "    </tr>\n",
       "    <tr>\n",
       "      <th>3</th>\n",
       "      <td>Aeugst am Albis</td>\n",
       "      <td>1972-02-20</td>\n",
       "      <td>0.0</td>\n",
       "      <td>0.0</td>\n",
       "    </tr>\n",
       "    <tr>\n",
       "      <th>4</th>\n",
       "      <td>Aeugst am Albis</td>\n",
       "      <td>1972-02-21</td>\n",
       "      <td>0.0</td>\n",
       "      <td>0.0</td>\n",
       "    </tr>\n",
       "    <tr>\n",
       "      <th>...</th>\n",
       "      <td>...</td>\n",
       "      <td>...</td>\n",
       "      <td>...</td>\n",
       "      <td>...</td>\n",
       "    </tr>\n",
       "    <tr>\n",
       "      <th>52231982</th>\n",
       "      <td>Vendlincourt</td>\n",
       "      <td>2023-12-19</td>\n",
       "      <td>0.0</td>\n",
       "      <td>0.0</td>\n",
       "    </tr>\n",
       "    <tr>\n",
       "      <th>52231983</th>\n",
       "      <td>Vendlincourt</td>\n",
       "      <td>2023-12-20</td>\n",
       "      <td>0.0</td>\n",
       "      <td>0.0</td>\n",
       "    </tr>\n",
       "    <tr>\n",
       "      <th>52231984</th>\n",
       "      <td>Vendlincourt</td>\n",
       "      <td>2023-12-21</td>\n",
       "      <td>0.0</td>\n",
       "      <td>0.0</td>\n",
       "    </tr>\n",
       "    <tr>\n",
       "      <th>52231985</th>\n",
       "      <td>Vendlincourt</td>\n",
       "      <td>2023-12-22</td>\n",
       "      <td>0.0</td>\n",
       "      <td>0.0</td>\n",
       "    </tr>\n",
       "    <tr>\n",
       "      <th>52231986</th>\n",
       "      <td>Vendlincourt</td>\n",
       "      <td>2023-12-23</td>\n",
       "      <td>0.0</td>\n",
       "      <td>0.0</td>\n",
       "    </tr>\n",
       "  </tbody>\n",
       "</table>\n",
       "<p>52231987 rows × 4 columns</p>\n",
       "</div>"
      ]
     },
     "execution_count": 19,
     "metadata": {},
     "output_type": "execute_result"
    }
   ],
   "execution_count": 19
  },
  {
   "metadata": {
    "ExecuteTime": {
     "end_time": "2025-03-28T12:23:56.018842Z",
     "start_time": "2025-03-28T12:23:55.867893Z"
    }
   },
   "cell_type": "code",
   "source": "df['extent_of_damage'].unique()",
   "id": "d39c78ce4dab1769",
   "outputs": [
    {
     "data": {
      "text/plain": [
       "array([0., 1., 3., 2.])"
      ]
     },
     "execution_count": 4,
     "metadata": {},
     "output_type": "execute_result"
    }
   ],
   "execution_count": 4
  },
  {
   "metadata": {
    "ExecuteTime": {
     "end_time": "2025-03-28T12:24:37.738161Z",
     "start_time": "2025-03-28T12:24:37.620956Z"
    }
   },
   "cell_type": "code",
   "source": "df['main_process'].unique()",
   "id": "94e93e67eac078f3",
   "outputs": [
    {
     "data": {
      "text/plain": [
       "array([0., 3., 2., 1.])"
      ]
     },
     "execution_count": 5,
     "metadata": {},
     "output_type": "execute_result"
    }
   ],
   "execution_count": 5
  },
  {
   "metadata": {
    "ExecuteTime": {
     "end_time": "2025-03-28T12:26:00.547358Z",
     "start_time": "2025-03-28T12:26:00.540575Z"
    }
   },
   "cell_type": "code",
   "source": [
    "x = [0,1,2,3]\n",
    "y = [0,1,2,3]\n",
    "for i in x:\n",
    "    for j in y:\n",
    "        combined = 4 * i + j\n",
    "        x_c = combined  // 4\n",
    "        y_c = combined % 4\n",
    "        print(f\"x: {i}, y: {j}, combined: {combined}, calc x: {x_c}, calc y: {y_c}\")"
   ],
   "id": "ee01657f2ad97136",
   "outputs": [
    {
     "name": "stdout",
     "output_type": "stream",
     "text": [
      "x: 0, y: 0, combined: 0, calc x: 0, calc y: 0\n",
      "x: 0, y: 1, combined: 1, calc x: 0, calc y: 1\n",
      "x: 0, y: 2, combined: 2, calc x: 0, calc y: 2\n",
      "x: 0, y: 3, combined: 3, calc x: 0, calc y: 3\n",
      "x: 1, y: 0, combined: 4, calc x: 1, calc y: 0\n",
      "x: 1, y: 1, combined: 5, calc x: 1, calc y: 1\n",
      "x: 1, y: 2, combined: 6, calc x: 1, calc y: 2\n",
      "x: 1, y: 3, combined: 7, calc x: 1, calc y: 3\n",
      "x: 2, y: 0, combined: 8, calc x: 2, calc y: 0\n",
      "x: 2, y: 1, combined: 9, calc x: 2, calc y: 1\n",
      "x: 2, y: 2, combined: 10, calc x: 2, calc y: 2\n",
      "x: 2, y: 3, combined: 11, calc x: 2, calc y: 3\n",
      "x: 3, y: 0, combined: 12, calc x: 3, calc y: 0\n",
      "x: 3, y: 1, combined: 13, calc x: 3, calc y: 1\n",
      "x: 3, y: 2, combined: 14, calc x: 3, calc y: 2\n",
      "x: 3, y: 3, combined: 15, calc x: 3, calc y: 3\n"
     ]
    }
   ],
   "execution_count": 8
  },
  {
   "metadata": {
    "ExecuteTime": {
     "end_time": "2025-03-28T12:26:39.510589Z",
     "start_time": "2025-03-28T12:26:39.286719Z"
    }
   },
   "cell_type": "code",
   "source": "df['combination_damage_mainprocess'] = 4 * df['extent_of_damage'] + df['main_process']",
   "id": "bc150c857a99c7c7",
   "outputs": [],
   "execution_count": 9
  },
  {
   "metadata": {
    "ExecuteTime": {
     "end_time": "2025-03-28T12:26:42.441127Z",
     "start_time": "2025-03-28T12:26:41.432294Z"
    }
   },
   "cell_type": "code",
   "source": "df = df.drop(columns=['extent_of_damage', 'main_process'])",
   "id": "8be5fe8c9e31846c",
   "outputs": [],
   "execution_count": 10
  },
  {
   "metadata": {
    "ExecuteTime": {
     "end_time": "2025-03-28T12:26:44.718486Z",
     "start_time": "2025-03-28T12:26:44.709201Z"
    }
   },
   "cell_type": "code",
   "source": "df",
   "id": "5b3ea9de5c6eec00",
   "outputs": [
    {
     "data": {
      "text/plain": [
       "             Municipality        Date  combination_damage_mainprocess\n",
       "0         Aeugst am Albis  1972-02-17                             0.0\n",
       "1         Aeugst am Albis  1972-02-18                             0.0\n",
       "2         Aeugst am Albis  1972-02-19                             0.0\n",
       "3         Aeugst am Albis  1972-02-20                             0.0\n",
       "4         Aeugst am Albis  1972-02-21                             0.0\n",
       "...                   ...         ...                             ...\n",
       "52231982     Vendlincourt  2023-12-19                             0.0\n",
       "52231983     Vendlincourt  2023-12-20                             0.0\n",
       "52231984     Vendlincourt  2023-12-21                             0.0\n",
       "52231985     Vendlincourt  2023-12-22                             0.0\n",
       "52231986     Vendlincourt  2023-12-23                             0.0\n",
       "\n",
       "[52231987 rows x 3 columns]"
      ],
      "text/html": [
       "<div>\n",
       "<style scoped>\n",
       "    .dataframe tbody tr th:only-of-type {\n",
       "        vertical-align: middle;\n",
       "    }\n",
       "\n",
       "    .dataframe tbody tr th {\n",
       "        vertical-align: top;\n",
       "    }\n",
       "\n",
       "    .dataframe thead th {\n",
       "        text-align: right;\n",
       "    }\n",
       "</style>\n",
       "<table border=\"1\" class=\"dataframe\">\n",
       "  <thead>\n",
       "    <tr style=\"text-align: right;\">\n",
       "      <th></th>\n",
       "      <th>Municipality</th>\n",
       "      <th>Date</th>\n",
       "      <th>combination_damage_mainprocess</th>\n",
       "    </tr>\n",
       "  </thead>\n",
       "  <tbody>\n",
       "    <tr>\n",
       "      <th>0</th>\n",
       "      <td>Aeugst am Albis</td>\n",
       "      <td>1972-02-17</td>\n",
       "      <td>0.0</td>\n",
       "    </tr>\n",
       "    <tr>\n",
       "      <th>1</th>\n",
       "      <td>Aeugst am Albis</td>\n",
       "      <td>1972-02-18</td>\n",
       "      <td>0.0</td>\n",
       "    </tr>\n",
       "    <tr>\n",
       "      <th>2</th>\n",
       "      <td>Aeugst am Albis</td>\n",
       "      <td>1972-02-19</td>\n",
       "      <td>0.0</td>\n",
       "    </tr>\n",
       "    <tr>\n",
       "      <th>3</th>\n",
       "      <td>Aeugst am Albis</td>\n",
       "      <td>1972-02-20</td>\n",
       "      <td>0.0</td>\n",
       "    </tr>\n",
       "    <tr>\n",
       "      <th>4</th>\n",
       "      <td>Aeugst am Albis</td>\n",
       "      <td>1972-02-21</td>\n",
       "      <td>0.0</td>\n",
       "    </tr>\n",
       "    <tr>\n",
       "      <th>...</th>\n",
       "      <td>...</td>\n",
       "      <td>...</td>\n",
       "      <td>...</td>\n",
       "    </tr>\n",
       "    <tr>\n",
       "      <th>52231982</th>\n",
       "      <td>Vendlincourt</td>\n",
       "      <td>2023-12-19</td>\n",
       "      <td>0.0</td>\n",
       "    </tr>\n",
       "    <tr>\n",
       "      <th>52231983</th>\n",
       "      <td>Vendlincourt</td>\n",
       "      <td>2023-12-20</td>\n",
       "      <td>0.0</td>\n",
       "    </tr>\n",
       "    <tr>\n",
       "      <th>52231984</th>\n",
       "      <td>Vendlincourt</td>\n",
       "      <td>2023-12-21</td>\n",
       "      <td>0.0</td>\n",
       "    </tr>\n",
       "    <tr>\n",
       "      <th>52231985</th>\n",
       "      <td>Vendlincourt</td>\n",
       "      <td>2023-12-22</td>\n",
       "      <td>0.0</td>\n",
       "    </tr>\n",
       "    <tr>\n",
       "      <th>52231986</th>\n",
       "      <td>Vendlincourt</td>\n",
       "      <td>2023-12-23</td>\n",
       "      <td>0.0</td>\n",
       "    </tr>\n",
       "  </tbody>\n",
       "</table>\n",
       "<p>52231987 rows × 3 columns</p>\n",
       "</div>"
      ]
     },
     "execution_count": 11,
     "metadata": {},
     "output_type": "execute_result"
    }
   ],
   "execution_count": 11
  },
  {
   "metadata": {
    "ExecuteTime": {
     "end_time": "2025-03-28T12:27:25.436739Z",
     "start_time": "2025-03-28T12:26:51.830262Z"
    }
   },
   "cell_type": "code",
   "source": "df.to_csv('/Users/nilsgamperli/Documents/StormMindData/main_data_combined.csv')",
   "id": "cbddb09a11bd8938",
   "outputs": [],
   "execution_count": 12
  },
  {
   "metadata": {
    "ExecuteTime": {
     "end_time": "2025-03-27T14:39:27.908778Z",
     "start_time": "2025-03-27T14:39:19.879579Z"
    }
   },
   "cell_type": "code",
   "source": "",
   "id": "183f06889e948902",
   "outputs": [],
   "execution_count": 12
  },
  {
   "metadata": {
    "ExecuteTime": {
     "end_time": "2025-03-28T12:27:50.619195Z",
     "start_time": "2025-03-28T12:27:42.503038Z"
    }
   },
   "cell_type": "code",
   "source": "df_2 = pd.read_csv('/Users/nilsgamperli/Documents/StormMindData/main_data_combined.csv')",
   "id": "3817fdb250940a50",
   "outputs": [],
   "execution_count": 13
  },
  {
   "metadata": {
    "ExecuteTime": {
     "end_time": "2025-03-28T12:30:23.077187Z",
     "start_time": "2025-03-28T12:29:55.212593Z"
    }
   },
   "cell_type": "code",
   "source": [
    "df_2 = df_2.drop(columns=['Unnamed: 0'])\n",
    "df_2.to_csv('/Users/nilsgamperli/Documents/StormMindData/main_data_combined.csv', index=False)"
   ],
   "id": "4ff376f6c8caacd",
   "outputs": [],
   "execution_count": 16
  }
 ],
 "metadata": {
  "kernelspec": {
   "display_name": "Python 3",
   "language": "python",
   "name": "python3"
  },
  "language_info": {
   "codemirror_mode": {
    "name": "ipython",
    "version": 2
   },
   "file_extension": ".py",
   "mimetype": "text/x-python",
   "name": "python",
   "nbconvert_exporter": "python",
   "pygments_lexer": "ipython2",
   "version": "2.7.6"
  }
 },
 "nbformat": 4,
 "nbformat_minor": 5
}
