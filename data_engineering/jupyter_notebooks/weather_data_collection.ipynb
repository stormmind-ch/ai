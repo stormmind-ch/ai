{
 "cells": [
  {
   "cell_type": "code",
   "id": "initial_id",
   "metadata": {
    "collapsed": true
   },
   "source": [
    "from data_engineering.snippets.requesting_weather_data import call\n",
    "from data_engineering.snippets.safe import safe_weather_data\n",
    "import pandas as pd\n",
    "import os\n",
    "import time"
   ],
   "outputs": [],
   "execution_count": null
  },
  {
   "metadata": {},
   "cell_type": "code",
   "source": [
    "df_municipalities_coordinates = pd.read_csv('../Data/municipalities/municipality_coordinates.csv.csv')\n",
    "df_municipalities_coordinates"
   ],
   "id": "4d748a872926e1fb",
   "outputs": [],
   "execution_count": null
  },
  {
   "metadata": {},
   "cell_type": "code",
   "source": [
    "municipality = df_municipalities_coordinates['Municipality'][0]\n",
    "latitude = df_municipalities_coordinates['Latitude'][0]\n",
    "longitude = df_municipalities_coordinates['Longitude'][0]"
   ],
   "id": "4171199a6c59ea9",
   "outputs": [],
   "execution_count": null
  },
  {
   "metadata": {},
   "cell_type": "code",
   "source": "data = call(latitude, longitude)",
   "id": "f7c703a43772ed2",
   "outputs": [],
   "execution_count": null
  },
  {
   "metadata": {},
   "cell_type": "code",
   "source": "data",
   "id": "37df0adcca0ed5e8",
   "outputs": [],
   "execution_count": null
  },
  {
   "metadata": {},
   "cell_type": "code",
   "source": [
    "def get_all_weather_data(dataframe):\n",
    "    dataframe = dataframe.reset_index()\n",
    "\n",
    "    for index, row in dataframe.iterrows():\n",
    "        municipality = row['Municipality'].strip()\n",
    "        latitude = row['Latitude']\n",
    "        longitude = row['Longitude']\n",
    "        root = '/Users/nilsgamperli/PycharmProjects/StormMind/data_engineering/Data/weather_data/'\n",
    "        path = root + municipality + \".csv\"\n",
    "        if os.path.isfile(path):\n",
    "            print(f'{municipality} weather data is already downloaded.')\n",
    "            continue\n",
    "\n",
    "        data = call(latitude, longitude)\n",
    "        safe_weather_data(data, municipality, root)\n",
    "        time.sleep(30)\n",
    "\n"
   ],
   "id": "b2fdab4a063fe13e",
   "outputs": [],
   "execution_count": null
  },
  {
   "metadata": {},
   "cell_type": "code",
   "source": "get_all_weather_data(df_municipalities_coordinates)",
   "id": "d1ed3f9c6966b0ae",
   "outputs": [],
   "execution_count": null
  },
  {
   "metadata": {},
   "cell_type": "code",
   "source": "",
   "id": "a85a8f2bef0bc8b5",
   "outputs": [],
   "execution_count": null
  }
 ],
 "metadata": {
  "kernelspec": {
   "display_name": "Python 3",
   "language": "python",
   "name": "python3"
  },
  "language_info": {
   "codemirror_mode": {
    "name": "ipython",
    "version": 2
   },
   "file_extension": ".py",
   "mimetype": "text/x-python",
   "name": "python",
   "nbconvert_exporter": "python",
   "pygments_lexer": "ipython2",
   "version": "2.7.6"
  }
 },
 "nbformat": 4,
 "nbformat_minor": 5
}
