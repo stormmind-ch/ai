{
 "cells": [
  {
   "metadata": {},
   "cell_type": "code",
   "outputs": [],
   "execution_count": null,
   "source": [
    "import pandas as pd\n",
    "import os.path"
   ],
   "id": "440f84007e48abe8"
  },
  {
   "metadata": {},
   "cell_type": "code",
   "outputs": [],
   "execution_count": null,
   "source": [
    "weather_data_path = '/Users/nilsgamperli/Downloads/weather_data'\n",
    "municipalities = pd.read_excel('../Data/municipalities/be-b-00.04-agv-20050313.xlsx', sheet_name='Gemeindeliste-Liste d. communes')"
   ],
   "id": "62ea53b84990d98a"
  },
  {
   "metadata": {},
   "cell_type": "code",
   "outputs": [],
   "execution_count": null,
   "source": [
    "# extract GDNAME\n",
    "municipalities = municipalities['GDENAME']"
   ],
   "id": "6984048760279de0"
  },
  {
   "metadata": {},
   "cell_type": "code",
   "outputs": [],
   "execution_count": null,
   "source": "municipalities",
   "id": "dad622a59a86d48b"
  },
  {
   "metadata": {},
   "cell_type": "code",
   "outputs": [],
   "execution_count": null,
   "source": [
    "def checkMunicipalityWeatherData(data: pd.Series, path: str)->list:\n",
    "    municipalitiesWithoutWeatherData = []\n",
    "    for municipality in data:\n",
    "        mun_path = path + '/' + municipality + '.json'\n",
    "        if not os.path.isfile(mun_path):\n",
    "            municipalitiesWithoutWeatherData.append(municipality)\n",
    "    return municipalitiesWithoutWeatherData"
   ],
   "id": "3133aa434c249e4c"
  },
  {
   "metadata": {},
   "cell_type": "code",
   "outputs": [],
   "execution_count": null,
   "source": [
    "municipalitiesWithoutWeatherData = pd.Series(checkMunicipalityWeatherData(municipalities, weather_data_path))\n",
    "municipalitiesWithoutWeatherData.to_csv('../Data/municipalities/municipalities_without_weather_data.csv')"
   ],
   "id": "426d120eac4090e5"
  },
  {
   "metadata": {},
   "cell_type": "markdown",
   "source": "### Now we need to check if the coordinates of those municipalities exist",
   "id": "5d647bd3c2a17a52"
  },
  {
   "metadata": {},
   "cell_type": "code",
   "outputs": [],
   "execution_count": null,
   "source": [
    "municipalities_coordinate = pd.read_csv('../Data/municipalities/municipality_coordinates.csv')\n",
    "municipalities_coordinate = municipalities_coordinate"
   ],
   "id": "cd812db81ff04f4f"
  },
  {
   "metadata": {},
   "cell_type": "code",
   "outputs": [],
   "execution_count": null,
   "source": "municipalities_coordinate",
   "id": "c0eb38d5900a0016"
  },
  {
   "metadata": {},
   "cell_type": "code",
   "outputs": [],
   "execution_count": null,
   "source": [
    "municipalitiesWithoutCoordinates = []\n",
    "for municipality in municipalitiesWithoutWeatherData.tolist():\n",
    "    if municipality not in municipalities_coordinate['Municipality'].tolist():\n",
    "        municipalitiesWithoutCoordinates.append(municipality)\n",
    "\n",
    "pd.Series(municipalitiesWithoutCoordinates).to_csv('../Data/municipalities/municipalities_without_coordinates.csv')\n",
    "municipalitiesWithoutCoordinates"
   ],
   "id": "f9f863649869bee9"
  },
  {
   "metadata": {},
   "cell_type": "markdown",
   "source": "#### All Coordinates are present, get remaining weather data",
   "id": "c0ad80e8d0fb339d"
  },
  {
   "metadata": {},
   "cell_type": "code",
   "outputs": [],
   "execution_count": null,
   "source": [
    "filtered_municipalities_coordinates = municipalities_coordinate[municipalities_coordinate['Municipality'].isin(municipalitiesWithoutWeatherData)]\n",
    "filtered_municipalities_coordinates"
   ],
   "id": "6acedc37b7656403"
  },
  {
   "metadata": {},
   "cell_type": "code",
   "outputs": [],
   "execution_count": null,
   "source": "filtered_municipalities_coordinates.to_csv('/Users/nilsgamperli/PycharmProjects/StormMind/data_engineering/Data/municipalities/municipalities_to_rename.csv')",
   "id": "142f08be5d424325"
  },
  {
   "metadata": {},
   "cell_type": "code",
   "outputs": [],
   "execution_count": null,
   "source": [
    "import importlib\n",
    "import data_engineering.snippets.requesting_weather_data as requests\n",
    "importlib.reload(requests)\n",
    "for i, row in filtered_municipalities_coordinates.iterrows():\n",
    "    requests.fetch_and_save_json(row['Latitude'], row['Longitude'], row['Municipality'], '/Users/nilsgamperli/Downloads/weather_data')"
   ],
   "id": "88e68a4495311013"
  },
  {
   "metadata": {},
   "cell_type": "markdown",
   "source": " convert the names including a '/' in our main_data.csv",
   "id": "19827f5612a855cf"
  },
  {
   "metadata": {},
   "cell_type": "code",
   "outputs": [],
   "execution_count": null,
   "source": "import polars as pl",
   "id": "2d4cf4e9eb8dddbf"
  },
  {
   "metadata": {},
   "cell_type": "code",
   "outputs": [],
   "execution_count": null,
   "source": [
    "dictionary = {\n",
    "    'Biel/Bienne' : 'Biel',\n",
    "    'Vaz/Obervaz' : 'Vaz',\n",
    "    'Brienz/Brinzauls': 'Brienz',\n",
    "    'Lantsch/Lenz': 'Lantsch',\n",
    "    'Bergün/Bravuogn' : 'Bergün',\n",
    "    'Waltensburg/Vuorz': 'Waltensburg',\n",
    "    'Feldis/Veulden' : 'Feldis',\n",
    "    'Tumegl/Tomils' : 'Tumegl',\n",
    "    'Domat/Ems' : 'Domat',\n",
    "    'Celerina/Schlarigna' : 'Celerina',\n",
    "    'Sils im Engadin/Segl' : 'Sils im Engadin',\n",
    "    'Breil/Brigels' : 'Breil',\n",
    "    'Disentis/Mustér' : 'Disentis',\n",
    "    'Bosco/Gurin' : 'Bosco'\n",
    "}"
   ],
   "id": "41b100aa67e89161"
  },
  {
   "metadata": {},
   "cell_type": "code",
   "outputs": [],
   "execution_count": null,
   "source": "main_data = pl.read_csv('../Data/main_data.csv')",
   "id": "5f9d71cc9ef5d95"
  },
  {
   "metadata": {},
   "cell_type": "code",
   "outputs": [],
   "execution_count": null,
   "source": "main_data = main_data.with_columns([pl.all().cast(pl.Utf8).replace(dictionary)])",
   "id": "e8d0bc2f9a778641"
  },
  {
   "metadata": {},
   "cell_type": "code",
   "outputs": [],
   "execution_count": null,
   "source": "main_data.filter(pl.col('Municipality') == 'Biel')",
   "id": "b18dcf79322fcafd"
  },
  {
   "metadata": {},
   "cell_type": "code",
   "outputs": [],
   "execution_count": null,
   "source": "main_data.write_csv('../Data/main_data.csv')",
   "id": "f6d43f38cb0c7503"
  },
  {
   "metadata": {},
   "cell_type": "code",
   "outputs": [],
   "execution_count": null,
   "source": [
    "## download the remaining weather data\n",
    "rem_mun_coords = pd.read_csv('../Data/municipalities/municipalities_to_rename.csv')"
   ],
   "id": "4feda16ca0ce7093"
  },
  {
   "metadata": {},
   "cell_type": "code",
   "outputs": [],
   "execution_count": null,
   "source": [
    "for i, row in rem_mun_coords.iterrows():\n",
    "    requests.fetch_and_save_json(row['Latitude'], row['Longitude'], row['Municipality'], '/Users/nilsgamperli/Downloads/weather_data')"
   ],
   "id": "44a204f800b990ad"
  }
 ],
 "metadata": {},
 "nbformat": 5,
 "nbformat_minor": 9
}
