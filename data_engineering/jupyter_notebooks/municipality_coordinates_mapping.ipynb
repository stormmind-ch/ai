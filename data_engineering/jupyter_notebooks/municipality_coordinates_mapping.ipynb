{
 "cells": [
  {
   "cell_type": "code",
   "id": "initial_id",
   "metadata": {
    "collapsed": true,
    "ExecuteTime": {
     "end_time": "2025-03-08T16:05:55.156440Z",
     "start_time": "2025-03-08T16:05:55.149626Z"
    }
   },
   "source": [
    "import pandas as pd\n",
    "import requests as rq"
   ],
   "outputs": [],
   "execution_count": 11
  },
  {
   "metadata": {
    "ExecuteTime": {
     "end_time": "2025-03-08T16:32:54.121389Z",
     "start_time": "2025-03-08T16:32:53.045678Z"
    }
   },
   "cell_type": "code",
   "source": [
    "# Sample Request\n",
    "municipality = 'Kappel am Albis'\n",
    "api_url = f'https://api.api-ninjas.com/v1/geocoding?city={municipality}&country=Switzerland'\n",
    "response = rq.get(api_url + municipality, headers={'X-Api-Key': '8AmHgsXCnbvi7hlJ0Mh/hQ==rt399afLziw2LIfI'})\n",
    "if response.status_code == rq.codes.ok:\n",
    "    print(response)\n",
    "else:\n",
    "    print(\"Error:\", response.status_code, response.text)\n"
   ],
   "id": "fc863a0c0be88565",
   "outputs": [
    {
     "name": "stdout",
     "output_type": "stream",
     "text": [
      "<bound method Response.json of <Response [200]>>\n"
     ]
    }
   ],
   "execution_count": 36
  },
  {
   "metadata": {
    "ExecuteTime": {
     "end_time": "2025-03-08T16:37:29.542348Z",
     "start_time": "2025-03-08T16:37:29.539771Z"
    }
   },
   "cell_type": "code",
   "source": "response.json()[0]",
   "id": "f2ca3d9449cb95a5",
   "outputs": [
    {
     "data": {
      "text/plain": [
       "{'name': 'Kappel am Albis',\n",
       " 'latitude': 47.2288482,\n",
       " 'longitude': 8.5251335,\n",
       " 'country': 'CH',\n",
       " 'state': 'Zurich'}"
      ]
     },
     "execution_count": 40,
     "metadata": {},
     "output_type": "execute_result"
    }
   ],
   "execution_count": 40
  },
  {
   "metadata": {
    "ExecuteTime": {
     "end_time": "2025-03-08T22:27:03.030198Z",
     "start_time": "2025-03-08T22:27:02.925543Z"
    }
   },
   "cell_type": "code",
   "source": [
    "df_municipalities_done = pd.read_csv('Data/municipality_coordinates_in_progress.csv')\n",
    "df_municipalities_done2 = pd.read_csv('Data/next_batch_municipality_coordinates_in_progress.csv')\n",
    "done_mun1 = df_municipalities_done[\"Municipality\"].tolist()\n",
    "done_mun2 = df_municipalities_done2[\"Municipality\"].tolist()\n",
    "done_mun = done_mun1 + done_mun2\n",
    "df_all_mun = pd.read_excel('Data/be-b-00.04-agv-20050313.xlsx', sheet_name='Gemeindeliste-Liste d. communes')\n",
    "all_mun = df_all_mun[\"GDENAME\"].tolist()\n",
    "mun_todo = list(set(all_mun) - set(done_mun))\n",
    "len(mun_todo)"
   ],
   "id": "82d8289b18566ce7",
   "outputs": [
    {
     "data": {
      "text/plain": [
       "1228"
      ]
     },
     "execution_count": 66,
     "metadata": {},
     "output_type": "execute_result"
    }
   ],
   "execution_count": 66
  },
  {
   "metadata": {
    "ExecuteTime": {
     "end_time": "2025-03-08T22:46:22.565514Z",
     "start_time": "2025-03-08T22:27:58.378064Z"
    }
   },
   "cell_type": "code",
   "source": [
    "new_mun_coordinates = []\n",
    "problems = []\n",
    "len_todo = len(mun_todo)\n",
    "for i, municipality in enumerate(mun_todo):\n",
    "    api_url = f'https://api.api-ninjas.com/v1/geocoding?city={municipality}&country=Switzerland'\n",
    "    response = rq.get(api_url + municipality, headers={'X-Api-Key': '8AmHgsXCnbvi7hlJ0Mh/hQ==rt399afLziw2LIfI'})\n",
    "    if response.status_code == rq.codes.ok:\n",
    "        if len(response.json())== 0:\n",
    "            problems.append(municipality)\n",
    "            print(\"Error with \", municipality)\n",
    "            continue\n",
    "        name = response.json()[0].get(\"name\")\n",
    "        latitude = response.json()[0].get(\"latitude\")\n",
    "        longitude = response.json()[0].get(\"longitude\")\n",
    "        new_mun_coordinates.append([name, latitude, longitude])\n",
    "    else:\n",
    "        print(\"Error:\", response.status_code, response.text)\n",
    "        problems.append(municipality)\n",
    "    if i %50== 0:\n",
    "        print(i, \" of \", len_todo, \" done\")\n",
    "\n",
    "columns = ['Municipality', 'Latitude', 'Longitude']\n",
    "df_new_mun_coordinates = pd.DataFrame.from_records(new_mun_coordinates, columns=columns)\n",
    "df_new_mun_coordinates.to_csv(\"Data/batch3_municipality_coordinates_in_progress\")"
   ],
   "id": "2fa95286add77ba",
   "outputs": [
    {
     "name": "stdout",
     "output_type": "stream",
     "text": [
      "0  of  1228  done\n",
      "Error with  Oberhofen (AG)\n",
      "100  of  1228  done\n",
      "Error with  Willisau Land\n",
      "Error with  Rüti (GL)\n",
      "Error with  Riom-Parsonz\n",
      "150  of  1228  done\n",
      "Error with  Reckingen-Gluringen\n",
      "200  of  1228  done\n",
      "Error with  Villaz-Saint-Pierre\n",
      "Error with  Gettnau\n",
      "250  of  1228  done\n",
      "Error with  Niedererlinsbach\n",
      "300  of  1228  done\n",
      "Error with  Niederried bei Kallnach\n",
      "Error with  Obererlinsbach\n",
      "Error with  Isorno\n",
      "350  of  1228  done\n",
      "400  of  1228  done\n",
      "Error with  Casti-Wergenstein\n",
      "450  of  1228  done\n",
      "Error with  Tinizong-Rona\n",
      "Error with  Unterbözberg\n",
      "500  of  1228  done\n",
      "Error with  Willisau Stadt\n",
      "Error with  Wiesen (GR)\n",
      "Error with  Schwanden (GL)\n",
      "Error with  Münster-Geschinen\n",
      "550  of  1228  done\n",
      "Error with  St. Antönien Ascharina\n",
      "600  of  1228  done\n",
      "Error with  Heinrichswil-Winistorf\n",
      "650  of  1228  done\n",
      "700  of  1228  done\n",
      "Error with  Tüscherz-Alfermée\n",
      "750  of  1228  done\n",
      "800  of  1228  done\n",
      "850  of  1228  done\n",
      "Error with  Klosters-Serneus\n",
      "Error with  Thielle-Wavre\n",
      "900  of  1228  done\n",
      "Error with  Bibern (SO)\n",
      "950  of  1228  done\n",
      "1000  of  1228  done\n",
      "1050  of  1228  done\n",
      "Error with  Nesslau-Krummenau\n",
      "1100  of  1228  done\n",
      "1150  of  1228  done\n",
      "Error with  Suraua\n",
      "Error with  Rapperswil (SG)\n",
      "Error with  Rohr (AG)\n"
     ]
    }
   ],
   "execution_count": 67
  },
  {
   "metadata": {
    "ExecuteTime": {
     "end_time": "2025-03-08T22:50:21.750198Z",
     "start_time": "2025-03-08T22:50:21.732166Z"
    }
   },
   "cell_type": "code",
   "source": [
    "# combine all files\n",
    "df_batch_1 = pd.read_csv('Data/municipality_coordinates_in_progress.csv')\n",
    "df_batch_2 = pd.read_csv('Data/next_batch_municipality_coordinates_in_progress.csv')\n",
    "df_batch_3 = pd.read_csv('../Data/batch3_municipality_coordinates_in_progress.csv')"
   ],
   "id": "283587c075ac05f8",
   "outputs": [],
   "execution_count": 68
  },
  {
   "metadata": {
    "ExecuteTime": {
     "end_time": "2025-03-08T22:53:57.313180Z",
     "start_time": "2025-03-08T22:53:57.291994Z"
    }
   },
   "cell_type": "code",
   "source": "df_combined = pd.concat([df_batch_1, df_batch_2, df_batch_3], ignore_index=True)",
   "id": "c1f3a6237c795438",
   "outputs": [],
   "execution_count": 69
  },
  {
   "metadata": {
    "ExecuteTime": {
     "end_time": "2025-03-08T23:05:24.375549Z",
     "start_time": "2025-03-08T23:05:24.370989Z"
    }
   },
   "cell_type": "code",
   "source": "df_combined  = df_combined[['Municipality', 'Latitude', 'Longitude']]\n",
   "id": "327caa864e816a17",
   "outputs": [],
   "execution_count": 89
  },
  {
   "metadata": {
    "ExecuteTime": {
     "end_time": "2025-03-08T23:02:51.781259Z",
     "start_time": "2025-03-08T23:02:51.776280Z"
    }
   },
   "cell_type": "code",
   "source": "len(all_mun)",
   "id": "bf7fbdd48c82fa82",
   "outputs": [
    {
     "data": {
      "text/plain": [
       "2758"
      ]
     },
     "execution_count": 83,
     "metadata": {},
     "output_type": "execute_result"
    }
   ],
   "execution_count": 83
  },
  {
   "metadata": {
    "ExecuteTime": {
     "end_time": "2025-03-08T23:07:18.936312Z",
     "start_time": "2025-03-08T23:07:18.926195Z"
    }
   },
   "cell_type": "code",
   "source": "municipality_coordinates = pd.read_csv('../Data/municipality_to_latitude_longitude.csv')",
   "id": "8cfdfe7b8e2892f8",
   "outputs": [],
   "execution_count": 91
  },
  {
   "metadata": {
    "ExecuteTime": {
     "end_time": "2025-03-08T23:07:37.177440Z",
     "start_time": "2025-03-08T23:07:37.171299Z"
    }
   },
   "cell_type": "code",
   "source": "municipality_coordinates.drop_duplicates(inplace=True)",
   "id": "1e6829a9d8a1f008",
   "outputs": [],
   "execution_count": 92
  },
  {
   "metadata": {
    "ExecuteTime": {
     "end_time": "2025-03-08T23:07:51.652535Z",
     "start_time": "2025-03-08T23:07:51.647386Z"
    }
   },
   "cell_type": "code",
   "source": "municipality_coordinates[municipality_coordinates.duplicated()]",
   "id": "37e16eb5d99a64a9",
   "outputs": [
    {
     "data": {
      "text/plain": [
       "Empty DataFrame\n",
       "Columns: [Municipality, Latitude, Longitude]\n",
       "Index: []"
      ],
      "text/html": [
       "<div>\n",
       "<style scoped>\n",
       "    .dataframe tbody tr th:only-of-type {\n",
       "        vertical-align: middle;\n",
       "    }\n",
       "\n",
       "    .dataframe tbody tr th {\n",
       "        vertical-align: top;\n",
       "    }\n",
       "\n",
       "    .dataframe thead th {\n",
       "        text-align: right;\n",
       "    }\n",
       "</style>\n",
       "<table border=\"1\" class=\"dataframe\">\n",
       "  <thead>\n",
       "    <tr style=\"text-align: right;\">\n",
       "      <th></th>\n",
       "      <th>Municipality</th>\n",
       "      <th>Latitude</th>\n",
       "      <th>Longitude</th>\n",
       "    </tr>\n",
       "  </thead>\n",
       "  <tbody>\n",
       "  </tbody>\n",
       "</table>\n",
       "</div>"
      ]
     },
     "execution_count": 93,
     "metadata": {},
     "output_type": "execute_result"
    }
   ],
   "execution_count": 93
  },
  {
   "metadata": {
    "ExecuteTime": {
     "end_time": "2025-03-08T23:08:46.913549Z",
     "start_time": "2025-03-08T23:08:46.900455Z"
    }
   },
   "cell_type": "code",
   "source": "municipality_coordinates.to_csv('Data/municipality_to_latitude_longitude_noDuplicates.csv')",
   "id": "ddecb0a2f11f51af",
   "outputs": [],
   "execution_count": 95
  },
  {
   "metadata": {
    "ExecuteTime": {
     "end_time": "2025-03-08T23:10:34.924529Z",
     "start_time": "2025-03-08T23:10:34.921060Z"
    }
   },
   "cell_type": "code",
   "source": [
    "municipality_coordinates_no_dups = municipality_coordinates.drop_duplicates()\n",
    "len(municipality_coordinates_no_dups)"
   ],
   "id": "9a80c16ead6c5a2b",
   "outputs": [
    {
     "data": {
      "text/plain": [
       "2728"
      ]
     },
     "execution_count": 98,
     "metadata": {},
     "output_type": "execute_result"
    }
   ],
   "execution_count": 98
  }
 ],
 "metadata": {
  "kernelspec": {
   "display_name": "Python 3",
   "language": "python",
   "name": "python3"
  },
  "language_info": {
   "codemirror_mode": {
    "name": "ipython",
    "version": 2
   },
   "file_extension": ".py",
   "mimetype": "text/x-python",
   "name": "python",
   "nbconvert_exporter": "python",
   "pygments_lexer": "ipython2",
   "version": "2.7.6"
  }
 },
 "nbformat": 4,
 "nbformat_minor": 5
}
