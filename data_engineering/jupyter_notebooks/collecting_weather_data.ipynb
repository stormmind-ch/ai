{
 "cells": [
  {
   "cell_type": "code",
   "id": "initial_id",
   "metadata": {
    "collapsed": true,
    "ExecuteTime": {
     "end_time": "2025-03-07T11:14:58.226974Z",
     "start_time": "2025-03-07T11:14:58.223770Z"
    }
   },
   "source": [
    "from snippets.requesting_weather_data import call\n",
    "from snippets.safe import safe_weather_data\n",
    "import numpy as np\n",
    "import pandas as pd\n",
    "import os\n",
    "import time"
   ],
   "outputs": [],
   "execution_count": 85
  },
  {
   "metadata": {
    "ExecuteTime": {
     "end_time": "2025-03-07T10:53:34.065627Z",
     "start_time": "2025-03-07T10:53:34.054847Z"
    }
   },
   "cell_type": "code",
   "source": [
    "df_municipalities_coordinates = pd.read_csv('../Data/municipality_coordinates.csv')\n",
    "df_municipalities_coordinates"
   ],
   "id": "4d748a872926e1fb",
   "outputs": [
    {
     "data": {
      "text/plain": [
       "               Municipality   Latitude  Longitude\n",
       "0           Aeugst am Albis  47.267030   8.485390\n",
       "1     Affoltern im Emmental  47.064960   7.733950\n",
       "2                Bonstetten  47.315050   8.468360\n",
       "3                    Hausen  51.383330  10.366670\n",
       "4                  Hedingen  47.297940   8.448330\n",
       "...                     ...        ...        ...\n",
       "2753               Valcolla  46.092300   9.054000\n",
       "2754              Lavizzara  46.440000   8.660000\n",
       "2755         Guttet-Feschel  46.327000   7.665000\n",
       "2756                  Avusy  46.150017   5.991646\n",
       "2757            Vandoeuvres  46.216685   6.199982\n",
       "\n",
       "[2758 rows x 3 columns]"
      ],
      "text/html": [
       "<div>\n",
       "<style scoped>\n",
       "    .dataframe tbody tr th:only-of-type {\n",
       "        vertical-align: middle;\n",
       "    }\n",
       "\n",
       "    .dataframe tbody tr th {\n",
       "        vertical-align: top;\n",
       "    }\n",
       "\n",
       "    .dataframe thead th {\n",
       "        text-align: right;\n",
       "    }\n",
       "</style>\n",
       "<table border=\"1\" class=\"dataframe\">\n",
       "  <thead>\n",
       "    <tr style=\"text-align: right;\">\n",
       "      <th></th>\n",
       "      <th>Municipality</th>\n",
       "      <th>Latitude</th>\n",
       "      <th>Longitude</th>\n",
       "    </tr>\n",
       "  </thead>\n",
       "  <tbody>\n",
       "    <tr>\n",
       "      <th>0</th>\n",
       "      <td>Aeugst am Albis</td>\n",
       "      <td>47.267030</td>\n",
       "      <td>8.485390</td>\n",
       "    </tr>\n",
       "    <tr>\n",
       "      <th>1</th>\n",
       "      <td>Affoltern im Emmental</td>\n",
       "      <td>47.064960</td>\n",
       "      <td>7.733950</td>\n",
       "    </tr>\n",
       "    <tr>\n",
       "      <th>2</th>\n",
       "      <td>Bonstetten</td>\n",
       "      <td>47.315050</td>\n",
       "      <td>8.468360</td>\n",
       "    </tr>\n",
       "    <tr>\n",
       "      <th>3</th>\n",
       "      <td>Hausen</td>\n",
       "      <td>51.383330</td>\n",
       "      <td>10.366670</td>\n",
       "    </tr>\n",
       "    <tr>\n",
       "      <th>4</th>\n",
       "      <td>Hedingen</td>\n",
       "      <td>47.297940</td>\n",
       "      <td>8.448330</td>\n",
       "    </tr>\n",
       "    <tr>\n",
       "      <th>...</th>\n",
       "      <td>...</td>\n",
       "      <td>...</td>\n",
       "      <td>...</td>\n",
       "    </tr>\n",
       "    <tr>\n",
       "      <th>2753</th>\n",
       "      <td>Valcolla</td>\n",
       "      <td>46.092300</td>\n",
       "      <td>9.054000</td>\n",
       "    </tr>\n",
       "    <tr>\n",
       "      <th>2754</th>\n",
       "      <td>Lavizzara</td>\n",
       "      <td>46.440000</td>\n",
       "      <td>8.660000</td>\n",
       "    </tr>\n",
       "    <tr>\n",
       "      <th>2755</th>\n",
       "      <td>Guttet-Feschel</td>\n",
       "      <td>46.327000</td>\n",
       "      <td>7.665000</td>\n",
       "    </tr>\n",
       "    <tr>\n",
       "      <th>2756</th>\n",
       "      <td>Avusy</td>\n",
       "      <td>46.150017</td>\n",
       "      <td>5.991646</td>\n",
       "    </tr>\n",
       "    <tr>\n",
       "      <th>2757</th>\n",
       "      <td>Vandoeuvres</td>\n",
       "      <td>46.216685</td>\n",
       "      <td>6.199982</td>\n",
       "    </tr>\n",
       "  </tbody>\n",
       "</table>\n",
       "<p>2758 rows × 3 columns</p>\n",
       "</div>"
      ]
     },
     "execution_count": 18,
     "metadata": {},
     "output_type": "execute_result"
    }
   ],
   "execution_count": 18
  },
  {
   "metadata": {
    "ExecuteTime": {
     "end_time": "2025-03-07T10:39:20.358357Z",
     "start_time": "2025-03-07T10:39:20.355080Z"
    }
   },
   "cell_type": "code",
   "source": [
    "municipality = df_municipalities_coordinates['Municipality'][0]\n",
    "latitude = df_municipalities_coordinates['Latitude'][0]\n",
    "longitude = df_municipalities_coordinates['Longitude'][0]"
   ],
   "id": "4171199a6c59ea9",
   "outputs": [],
   "execution_count": 10
  },
  {
   "metadata": {
    "ExecuteTime": {
     "end_time": "2025-03-07T10:39:59.610795Z",
     "start_time": "2025-03-07T10:39:47.543632Z"
    }
   },
   "cell_type": "code",
   "source": "data = call(latitude, longitude)",
   "id": "f7c703a43772ed2",
   "outputs": [],
   "execution_count": 11
  },
  {
   "metadata": {
    "ExecuteTime": {
     "end_time": "2025-03-07T10:40:12.181796Z",
     "start_time": "2025-03-07T10:40:12.170467Z"
    }
   },
   "cell_type": "code",
   "source": "data",
   "id": "37df0adcca0ed5e8",
   "outputs": [
    {
     "data": {
      "text/plain": [
       "                           date  temperature_2m_mean  sunshine_duration  \\\n",
       "0     1971-12-31 23:00:00+00:00             1.681167       16883.611328   \n",
       "1     1972-01-01 23:00:00+00:00             0.091583       16649.259766   \n",
       "2     1972-01-02 23:00:00+00:00             0.508250        8720.085938   \n",
       "3     1972-01-03 23:00:00+00:00             0.247833       24957.951172   \n",
       "4     1972-01-04 23:00:00+00:00            -1.277167       25725.703125   \n",
       "...                         ...                  ...                ...   \n",
       "18988 2023-12-26 23:00:00+00:00             2.906750       25259.867188   \n",
       "18989 2023-12-27 23:00:00+00:00             2.219250        8748.266602   \n",
       "18990 2023-12-28 23:00:00+00:00             5.575500       20959.667969   \n",
       "18991 2023-12-29 23:00:00+00:00             4.592167       25599.136719   \n",
       "18992 2023-12-30 23:00:00+00:00             1.898417       14010.648438   \n",
       "\n",
       "       rain_sum  snowfall_sum  \n",
       "0           0.0      0.000000  \n",
       "1           0.0      0.000000  \n",
       "2           1.4      3.079999  \n",
       "3           0.2      1.610000  \n",
       "4           0.0      0.350000  \n",
       "...         ...           ...  \n",
       "18988       0.0      0.000000  \n",
       "18989       0.0      0.000000  \n",
       "18990       3.6      0.000000  \n",
       "18991       0.2      0.000000  \n",
       "18992       4.9      0.140000  \n",
       "\n",
       "[18993 rows x 5 columns]"
      ],
      "text/html": [
       "<div>\n",
       "<style scoped>\n",
       "    .dataframe tbody tr th:only-of-type {\n",
       "        vertical-align: middle;\n",
       "    }\n",
       "\n",
       "    .dataframe tbody tr th {\n",
       "        vertical-align: top;\n",
       "    }\n",
       "\n",
       "    .dataframe thead th {\n",
       "        text-align: right;\n",
       "    }\n",
       "</style>\n",
       "<table border=\"1\" class=\"dataframe\">\n",
       "  <thead>\n",
       "    <tr style=\"text-align: right;\">\n",
       "      <th></th>\n",
       "      <th>date</th>\n",
       "      <th>temperature_2m_mean</th>\n",
       "      <th>sunshine_duration</th>\n",
       "      <th>rain_sum</th>\n",
       "      <th>snowfall_sum</th>\n",
       "    </tr>\n",
       "  </thead>\n",
       "  <tbody>\n",
       "    <tr>\n",
       "      <th>0</th>\n",
       "      <td>1971-12-31 23:00:00+00:00</td>\n",
       "      <td>1.681167</td>\n",
       "      <td>16883.611328</td>\n",
       "      <td>0.0</td>\n",
       "      <td>0.000000</td>\n",
       "    </tr>\n",
       "    <tr>\n",
       "      <th>1</th>\n",
       "      <td>1972-01-01 23:00:00+00:00</td>\n",
       "      <td>0.091583</td>\n",
       "      <td>16649.259766</td>\n",
       "      <td>0.0</td>\n",
       "      <td>0.000000</td>\n",
       "    </tr>\n",
       "    <tr>\n",
       "      <th>2</th>\n",
       "      <td>1972-01-02 23:00:00+00:00</td>\n",
       "      <td>0.508250</td>\n",
       "      <td>8720.085938</td>\n",
       "      <td>1.4</td>\n",
       "      <td>3.079999</td>\n",
       "    </tr>\n",
       "    <tr>\n",
       "      <th>3</th>\n",
       "      <td>1972-01-03 23:00:00+00:00</td>\n",
       "      <td>0.247833</td>\n",
       "      <td>24957.951172</td>\n",
       "      <td>0.2</td>\n",
       "      <td>1.610000</td>\n",
       "    </tr>\n",
       "    <tr>\n",
       "      <th>4</th>\n",
       "      <td>1972-01-04 23:00:00+00:00</td>\n",
       "      <td>-1.277167</td>\n",
       "      <td>25725.703125</td>\n",
       "      <td>0.0</td>\n",
       "      <td>0.350000</td>\n",
       "    </tr>\n",
       "    <tr>\n",
       "      <th>...</th>\n",
       "      <td>...</td>\n",
       "      <td>...</td>\n",
       "      <td>...</td>\n",
       "      <td>...</td>\n",
       "      <td>...</td>\n",
       "    </tr>\n",
       "    <tr>\n",
       "      <th>18988</th>\n",
       "      <td>2023-12-26 23:00:00+00:00</td>\n",
       "      <td>2.906750</td>\n",
       "      <td>25259.867188</td>\n",
       "      <td>0.0</td>\n",
       "      <td>0.000000</td>\n",
       "    </tr>\n",
       "    <tr>\n",
       "      <th>18989</th>\n",
       "      <td>2023-12-27 23:00:00+00:00</td>\n",
       "      <td>2.219250</td>\n",
       "      <td>8748.266602</td>\n",
       "      <td>0.0</td>\n",
       "      <td>0.000000</td>\n",
       "    </tr>\n",
       "    <tr>\n",
       "      <th>18990</th>\n",
       "      <td>2023-12-28 23:00:00+00:00</td>\n",
       "      <td>5.575500</td>\n",
       "      <td>20959.667969</td>\n",
       "      <td>3.6</td>\n",
       "      <td>0.000000</td>\n",
       "    </tr>\n",
       "    <tr>\n",
       "      <th>18991</th>\n",
       "      <td>2023-12-29 23:00:00+00:00</td>\n",
       "      <td>4.592167</td>\n",
       "      <td>25599.136719</td>\n",
       "      <td>0.2</td>\n",
       "      <td>0.000000</td>\n",
       "    </tr>\n",
       "    <tr>\n",
       "      <th>18992</th>\n",
       "      <td>2023-12-30 23:00:00+00:00</td>\n",
       "      <td>1.898417</td>\n",
       "      <td>14010.648438</td>\n",
       "      <td>4.9</td>\n",
       "      <td>0.140000</td>\n",
       "    </tr>\n",
       "  </tbody>\n",
       "</table>\n",
       "<p>18993 rows × 5 columns</p>\n",
       "</div>"
      ]
     },
     "execution_count": 12,
     "metadata": {},
     "output_type": "execute_result"
    }
   ],
   "execution_count": 12
  },
  {
   "metadata": {
    "ExecuteTime": {
     "end_time": "2025-03-07T11:28:56.908386Z",
     "start_time": "2025-03-07T11:28:56.900930Z"
    }
   },
   "cell_type": "code",
   "source": [
    "def get_all_weather_data(dataframe):\n",
    "    dataframe = dataframe.reset_index()\n",
    "\n",
    "    for index, row in dataframe.iterrows():\n",
    "        municipality = row['Municipality'].strip()\n",
    "        latitude = row['Latitude']\n",
    "        longitude = row['Longitude']\n",
    "        root = '/Users/nilsgamperli/PycharmProjects/StormMind/data_engineering/Data/weather_data/'\n",
    "        path = root + municipality + \".csv\"\n",
    "        if os.path.isfile(path):\n",
    "            print(f'{municipality} weather data is already downloaded.')\n",
    "            continue\n",
    "\n",
    "        data = call(latitude, longitude)\n",
    "        safe_weather_data(data, municipality, root)\n",
    "        time.sleep(30)\n",
    "\n"
   ],
   "id": "b2fdab4a063fe13e",
   "outputs": [],
   "execution_count": 92
  },
  {
   "metadata": {
    "ExecuteTime": {
     "end_time": "2025-03-07T12:11:39.621728Z",
     "start_time": "2025-03-07T12:07:24.448327Z"
    }
   },
   "cell_type": "code",
   "source": "get_all_weather_data(df_municipalities_coordinates)",
   "id": "d1ed3f9c6966b0ae",
   "outputs": [
    {
     "name": "stdout",
     "output_type": "stream",
     "text": [
      "Aeugst am Albis weather data is already downloaded.\n",
      "Affoltern im Emmental weather data is already downloaded.\n",
      "Bonstetten weather data is already downloaded.\n",
      "Hausen weather data is already downloaded.\n",
      "Hedingen weather data is already downloaded.\n",
      "Kappel weather data is already downloaded.\n",
      "Knonau weather data is already downloaded.\n",
      "Maschwanden weather data is already downloaded.\n",
      "Mettmenstetten weather data is already downloaded.\n",
      "Obfelden weather data is already downloaded.\n",
      "Ottenbach weather data is already downloaded.\n"
     ]
    },
    {
     "ename": "OpenMeteoRequestsError",
     "evalue": "{'reason': 'Daily API request limit exceeded. Please try again tomorrow.', 'error': True}",
     "output_type": "error",
     "traceback": [
      "\u001B[0;31m---------------------------------------------------------------------------\u001B[0m",
      "\u001B[0;31mOpenMeteoRequestsError\u001B[0m                    Traceback (most recent call last)",
      "Cell \u001B[0;32mIn[94], line 1\u001B[0m\n\u001B[0;32m----> 1\u001B[0m \u001B[43mget_all_weather_data\u001B[49m\u001B[43m(\u001B[49m\u001B[43mdf_municipalities_coordinates\u001B[49m\u001B[43m)\u001B[49m\n",
      "Cell \u001B[0;32mIn[92], line 14\u001B[0m, in \u001B[0;36mget_all_weather_data\u001B[0;34m(dataframe)\u001B[0m\n\u001B[1;32m     11\u001B[0m     \u001B[38;5;28mprint\u001B[39m(\u001B[38;5;124mf\u001B[39m\u001B[38;5;124m'\u001B[39m\u001B[38;5;132;01m{\u001B[39;00mmunicipality\u001B[38;5;132;01m}\u001B[39;00m\u001B[38;5;124m weather data is already downloaded.\u001B[39m\u001B[38;5;124m'\u001B[39m)\n\u001B[1;32m     12\u001B[0m     \u001B[38;5;28;01mcontinue\u001B[39;00m\n\u001B[0;32m---> 14\u001B[0m data \u001B[38;5;241m=\u001B[39m \u001B[43mcall\u001B[49m\u001B[43m(\u001B[49m\u001B[43mlatitude\u001B[49m\u001B[43m,\u001B[49m\u001B[43m \u001B[49m\u001B[43mlongitude\u001B[49m\u001B[43m)\u001B[49m\n\u001B[1;32m     15\u001B[0m safe_weather_data(data, municipality, root)\n\u001B[1;32m     16\u001B[0m time\u001B[38;5;241m.\u001B[39msleep(\u001B[38;5;241m30\u001B[39m)\n",
      "File \u001B[0;32m~/PycharmProjects/StormMind/AI-dev/snippets/requesting_weather_data.py:33\u001B[0m, in \u001B[0;36mcall\u001B[0;34m(latitude, longitude, daily_parameters)\u001B[0m\n\u001B[1;32m     31\u001B[0m url \u001B[38;5;241m=\u001B[39m \u001B[38;5;124m\"\u001B[39m\u001B[38;5;124mhttps://archive-api.open-meteo.com/v1/archive\u001B[39m\u001B[38;5;124m\"\u001B[39m\n\u001B[1;32m     32\u001B[0m params \u001B[38;5;241m=\u001B[39m get_params(latitude, longitude, daily_parameters\u001B[38;5;241m=\u001B[39mdaily_parameters)\n\u001B[0;32m---> 33\u001B[0m response \u001B[38;5;241m=\u001B[39m \u001B[43mopenmeteo\u001B[49m\u001B[38;5;241;43m.\u001B[39;49m\u001B[43mweather_api\u001B[49m\u001B[43m(\u001B[49m\u001B[43murl\u001B[49m\u001B[43m,\u001B[49m\u001B[43m \u001B[49m\u001B[43mparams\u001B[49m\u001B[38;5;241;43m=\u001B[39;49m\u001B[43mparams\u001B[49m\u001B[43m)\u001B[49m[\u001B[38;5;241m0\u001B[39m]\n\u001B[1;32m     34\u001B[0m daily \u001B[38;5;241m=\u001B[39m response\u001B[38;5;241m.\u001B[39mDaily()\n\u001B[1;32m     36\u001B[0m data \u001B[38;5;241m=\u001B[39m {\u001B[38;5;124m\"\u001B[39m\u001B[38;5;124mdate\u001B[39m\u001B[38;5;124m\"\u001B[39m: pd\u001B[38;5;241m.\u001B[39mdate_range(\n\u001B[1;32m     37\u001B[0m     start\u001B[38;5;241m=\u001B[39mpd\u001B[38;5;241m.\u001B[39mto_datetime(daily\u001B[38;5;241m.\u001B[39mTime(), unit\u001B[38;5;241m=\u001B[39m\u001B[38;5;124m\"\u001B[39m\u001B[38;5;124ms\u001B[39m\u001B[38;5;124m\"\u001B[39m, utc\u001B[38;5;241m=\u001B[39m\u001B[38;5;28;01mTrue\u001B[39;00m),\n\u001B[1;32m     38\u001B[0m     end\u001B[38;5;241m=\u001B[39mpd\u001B[38;5;241m.\u001B[39mto_datetime(daily\u001B[38;5;241m.\u001B[39mTimeEnd(), unit\u001B[38;5;241m=\u001B[39m\u001B[38;5;124m\"\u001B[39m\u001B[38;5;124ms\u001B[39m\u001B[38;5;124m\"\u001B[39m, utc\u001B[38;5;241m=\u001B[39m\u001B[38;5;28;01mTrue\u001B[39;00m),\n\u001B[1;32m     39\u001B[0m     freq\u001B[38;5;241m=\u001B[39mpd\u001B[38;5;241m.\u001B[39mTimedelta(seconds\u001B[38;5;241m=\u001B[39mdaily\u001B[38;5;241m.\u001B[39mInterval()),\n\u001B[1;32m     40\u001B[0m     inclusive\u001B[38;5;241m=\u001B[39m\u001B[38;5;124m\"\u001B[39m\u001B[38;5;124mleft\u001B[39m\u001B[38;5;124m\"\u001B[39m\n\u001B[1;32m     41\u001B[0m )}\n",
      "File \u001B[0;32m/opt/homebrew/anaconda3/envs/stormmind/lib/python3.12/site-packages/openmeteo_requests/Client.py:54\u001B[0m, in \u001B[0;36mClient.weather_api\u001B[0;34m(self, url, params, method, verify)\u001B[0m\n\u001B[1;32m     50\u001B[0m \u001B[38;5;28;01mdef\u001B[39;00m\u001B[38;5;250m \u001B[39m\u001B[38;5;21mweather_api\u001B[39m(\n\u001B[1;32m     51\u001B[0m     \u001B[38;5;28mself\u001B[39m, url: \u001B[38;5;28mstr\u001B[39m, params: \u001B[38;5;28many\u001B[39m, method: \u001B[38;5;28mstr\u001B[39m \u001B[38;5;241m=\u001B[39m \u001B[38;5;124m\"\u001B[39m\u001B[38;5;124mGET\u001B[39m\u001B[38;5;124m\"\u001B[39m, verify: \u001B[38;5;28mbool\u001B[39m \u001B[38;5;241m|\u001B[39m \u001B[38;5;28mstr\u001B[39m \u001B[38;5;241m|\u001B[39m \u001B[38;5;28;01mNone\u001B[39;00m \u001B[38;5;241m=\u001B[39m \u001B[38;5;28;01mNone\u001B[39;00m\n\u001B[1;32m     52\u001B[0m ) \u001B[38;5;241m-\u001B[39m\u001B[38;5;241m>\u001B[39m \u001B[38;5;28mlist\u001B[39m[WeatherApiResponse]:\n\u001B[1;32m     53\u001B[0m \u001B[38;5;250m    \u001B[39m\u001B[38;5;124;03m\"\"\"Get and decode as weather api\"\"\"\u001B[39;00m\n\u001B[0;32m---> 54\u001B[0m     \u001B[38;5;28;01mreturn\u001B[39;00m \u001B[38;5;28;43mself\u001B[39;49m\u001B[38;5;241;43m.\u001B[39;49m\u001B[43m_get\u001B[49m\u001B[43m(\u001B[49m\u001B[43mWeatherApiResponse\u001B[49m\u001B[43m,\u001B[49m\u001B[43m \u001B[49m\u001B[43murl\u001B[49m\u001B[43m,\u001B[49m\u001B[43m \u001B[49m\u001B[43mparams\u001B[49m\u001B[43m,\u001B[49m\u001B[43m \u001B[49m\u001B[43mmethod\u001B[49m\u001B[43m,\u001B[49m\u001B[43m \u001B[49m\u001B[43mverify\u001B[49m\u001B[43m)\u001B[49m\n",
      "File \u001B[0;32m/opt/homebrew/anaconda3/envs/stormmind/lib/python3.12/site-packages/openmeteo_requests/Client.py:35\u001B[0m, in \u001B[0;36mClient._get\u001B[0;34m(self, cls, url, params, method, verify)\u001B[0m\n\u001B[1;32m     33\u001B[0m \u001B[38;5;28;01mif\u001B[39;00m response\u001B[38;5;241m.\u001B[39mstatus_code \u001B[38;5;129;01min\u001B[39;00m [\u001B[38;5;241m400\u001B[39m, \u001B[38;5;241m429\u001B[39m]:\n\u001B[1;32m     34\u001B[0m     response_body \u001B[38;5;241m=\u001B[39m response\u001B[38;5;241m.\u001B[39mjson()\n\u001B[0;32m---> 35\u001B[0m     \u001B[38;5;28;01mraise\u001B[39;00m OpenMeteoRequestsError(response_body)\n\u001B[1;32m     37\u001B[0m response\u001B[38;5;241m.\u001B[39mraise_for_status()\n\u001B[1;32m     39\u001B[0m data \u001B[38;5;241m=\u001B[39m response\u001B[38;5;241m.\u001B[39mcontent\n",
      "\u001B[0;31mOpenMeteoRequestsError\u001B[0m: {'reason': 'Daily API request limit exceeded. Please try again tomorrow.', 'error': True}"
     ]
    }
   ],
   "execution_count": 94
  },
  {
   "metadata": {
    "ExecuteTime": {
     "end_time": "2025-03-07T11:25:33.960256Z",
     "start_time": "2025-03-07T11:25:33.956512Z"
    }
   },
   "cell_type": "code",
   "source": "",
   "id": "a85a8f2bef0bc8b5",
   "outputs": [
    {
     "data": {
      "text/plain": [
       "True"
      ]
     },
     "execution_count": 89,
     "metadata": {},
     "output_type": "execute_result"
    }
   ],
   "execution_count": 89
  }
 ],
 "metadata": {
  "kernelspec": {
   "display_name": "Python 3",
   "language": "python",
   "name": "python3"
  },
  "language_info": {
   "codemirror_mode": {
    "name": "ipython",
    "version": 2
   },
   "file_extension": ".py",
   "mimetype": "text/x-python",
   "name": "python",
   "nbconvert_exporter": "python",
   "pygments_lexer": "ipython2",
   "version": "2.7.6"
  }
 },
 "nbformat": 4,
 "nbformat_minor": 5
}
