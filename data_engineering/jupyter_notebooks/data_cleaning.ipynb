{
 "cells": [
  {
   "metadata": {},
   "cell_type": "markdown",
   "source": [
    "# Data Cleaning\n",
    "This notebook has the purpose to clean some data entries which are not accurate enough for our usage.\n",
    "After talking to the data owener (WSL institution) we got the information, that some damages are mapped to the canton, when there are no accurate data.\n",
    "As these are only 11 data entries, we decided to not consider them."
   ],
   "id": "a781157a552087a6"
  },
  {
   "metadata": {
    "collapsed": true
   },
   "cell_type": "code",
   "source": "import pandas as pd",
   "id": "initial_id",
   "outputs": [],
   "execution_count": null
  },
  {
   "metadata": {},
   "cell_type": "code",
   "source": [
    "df = pd.read_excel('Data/USDB_1972_2023_ohneSchadenszahlen_ohneBeschriebe_original.xlsx')\n",
    "df"
   ],
   "id": "e6c4f4e7ab38b7f5",
   "outputs": [],
   "execution_count": null
  },
  {
   "metadata": {},
   "cell_type": "code",
   "source": [
    "# the \"Gemenide\" column begins with \"Kt.\" if we want to delete it.\n",
    "rows_to_delete = df[df['Gemeinde'].str.startswith('Kt.')].index\n",
    "deleted_wrong_rows = df.drop(rows_to_delete)\n",
    "deleted_wrong_rows"
   ],
   "id": "ba4ea07d10876d6",
   "outputs": [],
   "execution_count": null
  },
  {
   "metadata": {},
   "cell_type": "code",
   "source": [
    "# safe to excel\n",
    "deleted_wrong_rows.to_excel('Data/USDB_1972_2023_ohneSchadenszahlen_ohneBeschriebe.xlsx')"
   ],
   "id": "1179015b92914557",
   "outputs": [],
   "execution_count": null
  }
 ],
 "metadata": {
  "kernelspec": {
   "display_name": "Python 3",
   "language": "python",
   "name": "python3"
  },
  "language_info": {
   "codemirror_mode": {
    "name": "ipython",
    "version": 2
   },
   "file_extension": ".py",
   "mimetype": "text/x-python",
   "name": "python",
   "nbconvert_exporter": "python",
   "pygments_lexer": "ipython2",
   "version": "2.7.6"
  }
 },
 "nbformat": 4,
 "nbformat_minor": 5
}
