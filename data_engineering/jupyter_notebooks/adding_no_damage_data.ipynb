{
 "cells": [
  {
   "metadata": {},
   "cell_type": "markdown",
   "source": "## creating crossproduct of all possible dates and municipalities",
   "id": "2adf4d970197d5f7"
  },
  {
   "metadata": {
    "collapsed": true
   },
   "cell_type": "code",
   "source": [
    "import pandas as pd\n",
    "import itertools"
   ],
   "id": "initial_id",
   "outputs": [],
   "execution_count": null
  },
  {
   "metadata": {},
   "cell_type": "code",
   "source": [
    "df_damages = pd.read_excel('../Data/USDB_1972_2023_ohneSchadenszahlen_ohneBeschriebe.xlsx')\n",
    "df_damages.sort_values(by='Datum', inplace=True)\n",
    "oldest_date = df_damages['Datum'].min()\n",
    "newest_date = df_damages['Datum'].max()\n",
    "oldest_date, newest_date"
   ],
   "id": "2c4e4891c1c0790e",
   "outputs": [],
   "execution_count": null
  },
  {
   "metadata": {},
   "cell_type": "code",
   "source": [
    "init_len_damages = len(df_damages)\n",
    "df_damages"
   ],
   "id": "682e0299d6518cb9",
   "outputs": [],
   "execution_count": null
  },
  {
   "metadata": {},
   "cell_type": "code",
   "source": [
    "df_damages_municipality_date_hasDamage = df_damages[['Gemeinde', 'Datum', 'Schadensausmass, gering [0.01-0.4], mittel [0.4-2], gross/katastrophal[>2] oder Todesfall [Mio. CHF]', 'Hauptprozess']]\n",
    "df_damages_municipality_date_hasDamage['damage'] = '1'\n",
    "df_damages_municipality_date_hasDamage.drop_duplicates(inplace=True)\n",
    "df_damages_municipality_date_hasDamage"
   ],
   "id": "7c4bc053191d4d17",
   "outputs": [],
   "execution_count": null
  },
  {
   "metadata": {},
   "cell_type": "code",
   "source": [
    "df_dates = pd.date_range(oldest_date, newest_date)\n",
    "df_dates = pd.DataFrame({'Date': df_dates})\n",
    "df_dates"
   ],
   "id": "28cd7098e71af3fd",
   "outputs": [],
   "execution_count": null
  },
  {
   "metadata": {},
   "cell_type": "code",
   "source": "df_munuicipalities = pd.read_csv('../Data/municipalities/municipality_coordinates.csv')",
   "id": "f646c6e6a4b0a61a",
   "outputs": [],
   "execution_count": null
  },
  {
   "metadata": {},
   "cell_type": "code",
   "source": "all_combinations = df_munuicipalities.merge(df_dates, how='cross')",
   "id": "8091fa1cac5e3fc9",
   "outputs": [],
   "execution_count": null
  },
  {
   "metadata": {},
   "cell_type": "code",
   "source": [
    "all_combinations_len = len(all_combinations)\n",
    "all_combinations_len"
   ],
   "id": "1fe943986b54850d",
   "outputs": [],
   "execution_count": null
  },
  {
   "metadata": {},
   "cell_type": "code",
   "source": "all_combinations",
   "id": "991993b4efc19adb",
   "outputs": [],
   "execution_count": null
  },
  {
   "metadata": {},
   "cell_type": "code",
   "source": "df_damages_municipality_date_hasDamage.rename(columns={'Gemeinde': 'Municipality', 'Datum': 'Date'}, inplace=True)",
   "id": "a039994cb3482cee",
   "outputs": [],
   "execution_count": null
  },
  {
   "metadata": {},
   "cell_type": "code",
   "source": "df_damages_municipality_date_hasDamage.rename(columns={'Schadensausmass, gering [0.01-0.4], mittel [0.4-2], gross/katastrophal[>2] oder Todesfall [Mio. CHF]': 'extent_of_damage', 'Hauptprozess': 'main_process'}, inplace=True)",
   "id": "eaa6ed7f6a0379c3",
   "outputs": [],
   "execution_count": null
  },
  {
   "metadata": {},
   "cell_type": "code",
   "source": "df_damages_municipality_date_hasDamage",
   "id": "89f9dd289795cd16",
   "outputs": [],
   "execution_count": null
  },
  {
   "metadata": {},
   "cell_type": "code",
   "source": [
    "#remap the extend of damage column:\n",
    "damage_mapping = {\n",
    "    'gering': 1,\n",
    "    'mittel': 2,\n",
    "    'gross/katastrophal': 3\n",
    "}\n",
    "\n",
    "df_damages_municipality_date_hasDamage['extent_of_damage'] = df_damages_municipality_date_hasDamage['extent_of_damage'].map(damage_mapping)\n",
    "df_damages_municipality_date_hasDamage"
   ],
   "id": "6ee084e90e50a640",
   "outputs": [],
   "execution_count": null
  },
  {
   "metadata": {},
   "cell_type": "code",
   "source": "df_damages_municipality_date_hasDamage['main_process'].unique()",
   "id": "88aa79aaabb4e7d4",
   "outputs": [],
   "execution_count": null
  },
  {
   "metadata": {},
   "cell_type": "code",
   "source": [
    "#remap the main process\n",
    "main_process_mapping = {\n",
    "    'Sturz': 1,\n",
    "    'Rutschung': 2,\n",
    "    'Wasser/Murgang': 3\n",
    "}\n",
    "\n",
    "df_damages_municipality_date_hasDamage['main_process'] = df_damages_municipality_date_hasDamage['main_process'].map(main_process_mapping)\n",
    "df_damages_municipality_date_hasDamage"
   ],
   "id": "45e7f8ff8e1db0b3",
   "outputs": [],
   "execution_count": null
  },
  {
   "metadata": {},
   "cell_type": "code",
   "source": [
    "df_damages_with_municipality_date_comb = all_combinations.merge(\n",
    "    df_damages_municipality_date_hasDamage,\n",
    "    on=['Municipality', \"Date\"],\n",
    "    how=\"left\"\n",
    ")\n",
    "df_damages_with_municipality_date_comb"
   ],
   "id": "6e9abb30bbb1a609",
   "outputs": [],
   "execution_count": null
  },
  {
   "metadata": {},
   "cell_type": "code",
   "source": [
    "df_damages_with_municipality_date_comb['damage'] = df_damages_with_municipality_date_comb['damage'].fillna(0)\n",
    "df_damages_with_municipality_date_comb['extent_of_damage'] = df_damages_with_municipality_date_comb['extent_of_damage'].fillna(0)\n",
    "df_damages_with_municipality_date_comb['main_process'] = df_damages_with_municipality_date_comb['main_process'].fillna(0)"
   ],
   "id": "3a3fb8ff3b765996",
   "outputs": [],
   "execution_count": null
  },
  {
   "metadata": {},
   "cell_type": "code",
   "source": "df_damages_with_municipality_date_comb\n",
   "id": "7b1e264eaae3b2d7",
   "outputs": [],
   "execution_count": null
  },
  {
   "metadata": {},
   "cell_type": "code",
   "source": "df_damages_with_municipality_date_comb.to_csv('../Data/all_data.csv')",
   "id": "83f1e7c046605939",
   "outputs": [],
   "execution_count": null
  }
 ],
 "metadata": {
  "kernelspec": {
   "display_name": "Python 3",
   "language": "python",
   "name": "python3"
  },
  "language_info": {
   "codemirror_mode": {
    "name": "ipython",
    "version": 2
   },
   "file_extension": ".py",
   "mimetype": "text/x-python",
   "name": "python",
   "nbconvert_exporter": "python",
   "pygments_lexer": "ipython2",
   "version": "2.7.6"
  }
 },
 "nbformat": 4,
 "nbformat_minor": 5
}
