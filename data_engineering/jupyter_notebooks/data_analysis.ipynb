{
 "cells": [
  {
   "cell_type": "code",
   "id": "initial_id",
   "metadata": {
    "collapsed": true
   },
   "source": [
    "import pandas as pd\n",
    "import matplotlib.pyplot as plt"
   ],
   "outputs": [],
   "execution_count": null
  },
  {
   "metadata": {},
   "cell_type": "code",
   "source": [
    "df = pd.read_excel('Data/USDB_1972_2023_ohneSchadenszahlen_ohneBeschriebe_original.xlsx')\n",
    "df['month'] = df['Datum'].dt.to_period('M')\n",
    "df['damage'] = df['Schadensausmass, gering [0.01-0.4], mittel [0.4-2], gross/katastrophal[>2] oder Todesfall [Mio. CHF]']\n",
    "df['Canton'] = df['Kanton'].str[:2]\n",
    "df.drop(columns='Kanton')\n",
    "df.drop(columns='Schadensausmass, gering [0.01-0.4], mittel [0.4-2], gross/katastrophal[>2] oder Todesfall [Mio. CHF]')"
   ],
   "id": "7de8505541c7515a",
   "outputs": [],
   "execution_count": null
  },
  {
   "metadata": {},
   "cell_type": "code",
   "source": "df['Hauptprozess Wasser/Murgang Unterteilung'].unique()",
   "id": "ff6184cf3c5b6687",
   "outputs": [],
   "execution_count": null
  },
  {
   "metadata": {},
   "cell_type": "code",
   "source": "df['month-only'] = df['month'].dt.month",
   "id": "ca68772f824da33f",
   "outputs": [],
   "execution_count": null
  },
  {
   "metadata": {},
   "cell_type": "code",
   "source": [
    "counts_month_year = df.groupby('month').size()\n",
    "counts_only_month = df.groupby('month-only').size()\n",
    "counts_only_month_from_2010 = df.where(df['Datum'] >'2020-01-01').groupby('month').size()\n",
    "counts_year_damage = df.groupby(['month-only', 'damage']).size().unstack(fill_value=0)\n",
    "counts_canton = df.groupby('Kanton').size()"
   ],
   "id": "ce3cac36d4389772",
   "outputs": [],
   "execution_count": null
  },
  {
   "metadata": {},
   "cell_type": "code",
   "source": [
    "ZH =1728.94\n",
    "BE"
   ],
   "id": "95c7bc9b97c84476",
   "outputs": [],
   "execution_count": null
  },
  {
   "metadata": {},
   "cell_type": "code",
   "source": [
    "plt.figure(figsize=(10, 5))\n",
    "counts_month_year.plot(kind='bar', color='skyblue', edgecolor='black')\n",
    "plt.xlabel('Month')\n",
    "plt.ylabel('Number of Entries')\n",
    "plt.title('Number of Entries per Month')\n",
    "plt.xticks(rotation=45)\n",
    "plt.grid(axis='y', linestyle='--', alpha=0.7)\n",
    "plt.show()"
   ],
   "id": "246a87a572ea2bd2",
   "outputs": [],
   "execution_count": null
  },
  {
   "metadata": {},
   "cell_type": "code",
   "source": [
    "plt.figure(figsize=(10, 5))\n",
    "counts_only_month.plot(kind='bar', color='skyblue', edgecolor='black')\n",
    "plt.xlabel('Month')\n",
    "plt.ylabel('Number of Entries')\n",
    "plt.title('Number of Entries per Month')\n",
    "plt.xticks(rotation=45)\n",
    "plt.grid(axis='y', linestyle='--', alpha=0.7)\n",
    "plt.show()"
   ],
   "id": "bd56f79ebc15759d",
   "outputs": [],
   "execution_count": null
  },
  {
   "metadata": {},
   "cell_type": "code",
   "source": [
    "plt.figure(figsize=(10, 5))\n",
    "counts_only_month_from_2010.plot(kind='bar', color='skyblue', edgecolor='black')\n",
    "plt.xlabel('Month')\n",
    "plt.ylabel('Number of Entries')\n",
    "plt.title('Number of Entries per Month')\n",
    "plt.xticks(rotation=45)\n",
    "plt.grid(axis='y', linestyle='--', alpha=0.7)\n",
    "plt.show()"
   ],
   "id": "6b8ebe9bf5334a70",
   "outputs": [],
   "execution_count": null
  },
  {
   "metadata": {},
   "cell_type": "code",
   "source": [
    "plt.figure(figsize=(10, 5))\n",
    "counts_year_damage.plot()\n",
    "plt.xlabel('Month')\n",
    "plt.ylabel('Number of Entries')\n",
    "plt.title('Number of Entries per Month')\n",
    "plt.show()"
   ],
   "id": "9c57816944710ae6",
   "outputs": [],
   "execution_count": null
  },
  {
   "metadata": {},
   "cell_type": "code",
   "source": [
    "plt.figure(figsize=(12, 6))\n",
    "\n",
    "# Plot the data\n",
    "counts_canton.plot(kind='bar')\n",
    "\n",
    "# Labeling the x-axis and y-axis\n",
    "plt.xlabel('Canton')\n",
    "plt.ylabel('Number of Entries')\n",
    "\n",
    "# Set the x-ticks to show all canton names explicitly\n",
    "plt.xticks(ticks=range(len(counts_canton)), labels=counts_canton.index, rotation=90, ha='center')\n",
    "\n",
    "# Adjust layout for better fit\n",
    "plt.tight_layout()\n",
    "\n",
    "# Show the plot\n",
    "plt.show()"
   ],
   "id": "bce1c49bb238069e",
   "outputs": [],
   "execution_count": null
  },
  {
   "metadata": {},
   "cell_type": "code",
   "source": "df_size = pd.read_csv('../Data/data_analysis/canton_size.csv')",
   "id": "346ca6ec342cc14b",
   "outputs": [],
   "execution_count": null
  },
  {
   "metadata": {},
   "cell_type": "code",
   "source": "df = pd.merge(df, df_size, on='Canton', how='inner')",
   "id": "af6b0431735a4246",
   "outputs": [],
   "execution_count": null
  },
  {
   "metadata": {},
   "cell_type": "code",
   "source": "df",
   "id": "e92b72cbe972e8b1",
   "outputs": [],
   "execution_count": null
  },
  {
   "metadata": {},
   "cell_type": "code",
   "source": [
    "counts_canton = df.groupby('Canton').size().reset_index(name='Count')\n",
    "counts_canton"
   ],
   "id": "fe3f39a760ca4bbb",
   "outputs": [],
   "execution_count": null
  },
  {
   "metadata": {},
   "cell_type": "code",
   "source": [
    "cnts_canton_per_size = pd.merge(counts_canton, df_size, on='Canton')\n",
    "cnts_canton_per_size"
   ],
   "id": "f9992fd8fd3a6fbc",
   "outputs": [],
   "execution_count": null
  },
  {
   "metadata": {},
   "cell_type": "code",
   "source": "cnts_canton_per_size['CountPerSize'] = cnts_canton_per_size['Count'] / cnts_canton_per_size['Size_Canton']",
   "id": "87aa03d3747cc4fb",
   "outputs": [],
   "execution_count": null
  },
  {
   "metadata": {},
   "cell_type": "code",
   "source": "cnts_canton_per_size = cnts_canton_per_size[['Canton', 'CountPerSize']]",
   "id": "930f924e68bcdbc",
   "outputs": [],
   "execution_count": null
  },
  {
   "metadata": {},
   "cell_type": "code",
   "source": [
    "\n",
    "plt.bar(cnts_canton_per_size['Canton'], cnts_canton_per_size['CountPerSize'])\n",
    "plt.xlabel('Canton')\n",
    "plt.ylabel('Number of Entries/Size')\n",
    "plt.tight_layout()\n",
    "\n",
    "# Show the plot\n",
    "plt.show()"
   ],
   "id": "7baef0f37bd132fe",
   "outputs": [],
   "execution_count": null
  },
  {
   "metadata": {},
   "cell_type": "code",
   "source": "df['Schadenszentrum, Gemeindegebiet falls nicht bekannt'].unique()",
   "id": "3ab39aa3b732595f",
   "outputs": [],
   "execution_count": null
  }
 ],
 "metadata": {
  "kernelspec": {
   "display_name": "Python 3",
   "language": "python",
   "name": "python3"
  },
  "language_info": {
   "codemirror_mode": {
    "name": "ipython",
    "version": 2
   },
   "file_extension": ".py",
   "mimetype": "text/x-python",
   "name": "python",
   "nbconvert_exporter": "python",
   "pygments_lexer": "ipython2",
   "version": "2.7.6"
  }
 },
 "nbformat": 4,
 "nbformat_minor": 5
}
