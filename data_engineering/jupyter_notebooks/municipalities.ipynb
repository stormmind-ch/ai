{
 "cells": [
  {
   "metadata": {},
   "cell_type": "markdown",
   "source": [
    "# Municipalities\n",
    "This notebook has the purpose to map all municipalities to their coordinates, as the weather will be queried by the coordinates."
   ],
   "id": "14f83090dbf3d63e"
  },
  {
   "metadata": {
    "collapsed": true
   },
   "cell_type": "code",
   "source": [
    "import json\n",
    "import requests as rq\n",
    "import pandas as pd"
   ],
   "id": "initial_id",
   "outputs": [],
   "execution_count": null
  },
  {
   "metadata": {},
   "cell_type": "code",
   "source": [
    "credentials = {}\n",
    "try:\n",
    "    with open(\"../Ressources/credentials.json\") as file:\n",
    "        credentials = json.load(file)\n",
    "except FileNotFoundError:\n",
    "    print(\"Credentials file not found\")"
   ],
   "id": "15ed8109c11a7ac0",
   "outputs": [],
   "execution_count": null
  },
  {
   "metadata": {},
   "cell_type": "code",
   "source": [
    "# Sample Request with API Ninjas geocoding\n",
    "municipality = 'Kappel am Albis'\n",
    "api_url = f'https://api.api-ninjas.com/v1/geocoding?city={municipality}&country=Switzerland'\n",
    "response = rq.get(api_url + municipality, headers={'X-Api-Key': credentials['ApiNinjasKey']})\n",
    "if response.status_code == rq.codes.ok:\n",
    "    print(response)\n",
    "else:\n",
    "    print(\"Error:\", response.status_code, response.text)\n"
   ],
   "id": "fc863a0c0be88565",
   "outputs": [],
   "execution_count": null
  },
  {
   "metadata": {},
   "cell_type": "code",
   "source": "response.json()[0]",
   "id": "f2ca3d9449cb95a5",
   "outputs": [],
   "execution_count": null
  },
  {
   "metadata": {},
   "cell_type": "code",
   "source": [
    "## Load municipalities\n",
    "municipalities = pd.read_excel('../data_engineering/Data/municipalities/be-b-00.04-agv-20050313.xlsx', sheet_name='Gemeindeliste-Liste d. communes')"
   ],
   "id": "82d8289b18566ce7",
   "outputs": [],
   "execution_count": null
  },
  {
   "metadata": {},
   "cell_type": "code",
   "source": [
    "new_mun_coordinates = municipalities['GDENAME'].tolist()\n",
    "problems = []\n",
    "len_todo = len(new_mun_coordinates)\n",
    "for i, municipality in enumerate(new_mun_coordinates):\n",
    "    api_url = f'https://api.api-ninjas.com/v1/geocoding?city={municipality}&country=Switzerland'\n",
    "    response = rq.get(api_url + municipality, headers={'X-Api-Key': credentials['ApiNinjasKey']})\n",
    "    if response.status_code == rq.codes.ok:\n",
    "        if len(response.json())== 0:\n",
    "            problems.append(municipality)\n",
    "            print(\"Error with \", municipality)\n",
    "            continue\n",
    "        name = response.json()[0].get(\"name\")\n",
    "        latitude = response.json()[0].get(\"latitude\")\n",
    "        longitude = response.json()[0].get(\"longitude\")\n",
    "        new_mun_coordinates.append([name, latitude, longitude])\n",
    "    else:\n",
    "        print(\"Error:\", response.status_code, response.text)\n",
    "        problems.append(municipality)\n",
    "    if i %50== 0:\n",
    "        print(i, \" of \", len_todo, \" done\")\n",
    "\n",
    "columns = ['Municipality', 'Latitude', 'Longitude']\n",
    "df_mun_coordinates = pd.DataFrame.from_records(new_mun_coordinates, columns=columns)\n",
    "df_mun_coordinates.to_csv('../data_engineering/Data/municipality_to_latitude_longitude.csv', index=False)\n",
    "pd.DataFrame(problems).to_csv('../data_engineering/Data/municipalities_coordinates_problems.csv', index=False)"
   ],
   "id": "2fa95286add77ba",
   "outputs": [],
   "execution_count": null
  },
  {
   "metadata": {},
   "cell_type": "markdown",
   "source": [
    "## Validation\n",
    "- added the \"problematic\" municipalities manually\n",
    "- NO municipality twice in the list, otherwise delete\n",
    "- join with [municipalities](data_engineering/Data/municipalities/be-b-00.04-agv-20050313.xlsx) as this is the main file given by the swiss government."
   ],
   "id": "b3c10247cbc2203a"
  },
  {
   "metadata": {},
   "cell_type": "code",
   "source": [
    "df_final_mun = pd.read_csv('../data_engineering/Data/municipalities/municipality_to_latitude_longitude.csv')\n",
    "df_main_mun = pd.read_excel('../data_engineering/Data/municipalities/be-b-00.04-agv-20050313.xlsx', sheet_name='Gemeindeliste-Liste d. communes')"
   ],
   "id": "5359f67aa38789c2",
   "outputs": [],
   "execution_count": null
  },
  {
   "metadata": {},
   "cell_type": "code",
   "source": "df_final_mun[df_final_mun.duplicated(['Municipality'])]",
   "id": "8bfa61099a911b81",
   "outputs": [],
   "execution_count": null
  },
  {
   "metadata": {},
   "cell_type": "code",
   "source": "df_main_mun = df_main_mun['GDENAME']",
   "id": "d3cc32aea84ab47d",
   "outputs": [],
   "execution_count": null
  },
  {
   "metadata": {},
   "cell_type": "code",
   "source": "df_main_mun = df_main_mun.to_frame()",
   "id": "480cb22cc63e260d",
   "outputs": [],
   "execution_count": null
  },
  {
   "metadata": {},
   "cell_type": "code",
   "source": "df_merged = df_main_mun.merge(df_final_mun, left_on='GDENAME', right_on='Municipality', how='left')",
   "id": "1c62d133bd932cd",
   "outputs": [],
   "execution_count": null
  },
  {
   "metadata": {},
   "cell_type": "code",
   "source": [
    "df_merged = df_merged[['Municipality', 'Latitude', 'Longitude']]\n",
    "df_merged.to_csv('../data_engineering/Data/municipalities/municipality_coordinates.csv')"
   ],
   "id": "df516a178e8e8f0",
   "outputs": [],
   "execution_count": null
  },
  {
   "metadata": {},
   "cell_type": "code",
   "source": [
    "nan_rows = df_merged[df_merged['Latitude'].isna() | df_merged['Longitude'].isna()]\n",
    "nan_rows"
   ],
   "id": "5f33a00407bf29d",
   "outputs": [],
   "execution_count": null
  },
  {
   "metadata": {},
   "cell_type": "markdown",
   "source": "Suraua was updated directly in the data_engineering/Data/municipalities/municipality_coordinates.csv file!",
   "id": "1949d73c2589994f"
  }
 ],
 "metadata": {
  "kernelspec": {
   "display_name": "Python 3",
   "language": "python",
   "name": "python3"
  },
  "language_info": {
   "codemirror_mode": {
    "name": "ipython",
    "version": 2
   },
   "file_extension": ".py",
   "mimetype": "text/x-python",
   "name": "python",
   "nbconvert_exporter": "python",
   "pygments_lexer": "ipython2",
   "version": "2.7.6"
  }
 },
 "nbformat": 4,
 "nbformat_minor": 5
}
