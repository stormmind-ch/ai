{
 "cells": [
  {
   "metadata": {},
   "cell_type": "markdown",
   "source": [
    "# Municipalities\n",
    "This notebook has the purpose to map all municipalities to their coordinates, as the weather will be queried by the coordinates."
   ],
   "id": "14f83090dbf3d63e"
  },
  {
   "metadata": {
    "collapsed": true,
    "ExecuteTime": {
     "end_time": "2025-03-08T16:05:55.156440Z",
     "start_time": "2025-03-08T16:05:55.149626Z"
    }
   },
   "cell_type": "code",
   "outputs": [],
   "execution_count": 11,
   "source": [
    "import json\n",
    "import requests as rq\n",
    "import pandas as pd"
   ],
   "id": "initial_id"
  },
  {
   "metadata": {
    "ExecuteTime": {
     "end_time": "2025-03-09T21:23:06.616725Z",
     "start_time": "2025-03-09T21:23:06.612041Z"
    }
   },
   "cell_type": "code",
   "source": [
    "credentials = {}\n",
    "try:\n",
    "    with open(\"../Ressources/credentials.json\") as file:\n",
    "        credentials = json.load(file)\n",
    "except FileNotFoundError:\n",
    "    print(\"Credentials file not found\")"
   ],
   "id": "15ed8109c11a7ac0",
   "outputs": [],
   "execution_count": 101
  },
  {
   "metadata": {
    "ExecuteTime": {
     "end_time": "2025-03-09T21:23:50.454951Z",
     "start_time": "2025-03-09T21:23:49.319974Z"
    }
   },
   "cell_type": "code",
   "source": [
    "# Sample Request with API Ninjas geocoding\n",
    "municipality = 'Kappel am Albis'\n",
    "api_url = f'https://api.api-ninjas.com/v1/geocoding?city={municipality}&country=Switzerland'\n",
    "response = rq.get(api_url + municipality, headers={'X-Api-Key': credentials['ApiNinjasKey']})\n",
    "if response.status_code == rq.codes.ok:\n",
    "    print(response)\n",
    "else:\n",
    "    print(\"Error:\", response.status_code, response.text)\n"
   ],
   "id": "fc863a0c0be88565",
   "outputs": [
    {
     "name": "stdout",
     "output_type": "stream",
     "text": [
      "<Response [200]>\n"
     ]
    }
   ],
   "execution_count": 102
  },
  {
   "metadata": {
    "ExecuteTime": {
     "end_time": "2025-03-09T21:23:53.569646Z",
     "start_time": "2025-03-09T21:23:53.564223Z"
    }
   },
   "cell_type": "code",
   "source": "response.json()[0]",
   "id": "f2ca3d9449cb95a5",
   "outputs": [
    {
     "data": {
      "text/plain": [
       "{'name': 'Kappel am Albis',\n",
       " 'latitude': 47.2288482,\n",
       " 'longitude': 8.5251335,\n",
       " 'country': 'CH',\n",
       " 'state': 'Zurich'}"
      ]
     },
     "execution_count": 103,
     "metadata": {},
     "output_type": "execute_result"
    }
   ],
   "execution_count": 103
  },
  {
   "metadata": {
    "ExecuteTime": {
     "end_time": "2025-03-09T21:27:21.098874Z",
     "start_time": "2025-03-09T21:27:20.979620Z"
    }
   },
   "cell_type": "code",
   "source": [
    "## Load municipalities\n",
    "municipalities = pd.read_excel('../data_engineering/Data/municipalities/be-b-00.04-agv-20050313.xlsx', sheet_name='Gemeindeliste-Liste d. communes')"
   ],
   "id": "82d8289b18566ce7",
   "outputs": [],
   "execution_count": 109
  },
  {
   "metadata": {
    "ExecuteTime": {
     "end_time": "2025-03-08T22:46:22.565514Z",
     "start_time": "2025-03-08T22:27:58.378064Z"
    }
   },
   "cell_type": "code",
   "source": [
    "new_mun_coordinates = municipalities['GDENAME'].tolist()\n",
    "problems = []\n",
    "len_todo = len(new_mun_coordinates)\n",
    "for i, municipality in enumerate(new_mun_coordinates):\n",
    "    api_url = f'https://api.api-ninjas.com/v1/geocoding?city={municipality}&country=Switzerland'\n",
    "    response = rq.get(api_url + municipality, headers={'X-Api-Key': credentials['ApiNinjasKey']})\n",
    "    if response.status_code == rq.codes.ok:\n",
    "        if len(response.json())== 0:\n",
    "            problems.append(municipality)\n",
    "            print(\"Error with \", municipality)\n",
    "            continue\n",
    "        name = response.json()[0].get(\"name\")\n",
    "        latitude = response.json()[0].get(\"latitude\")\n",
    "        longitude = response.json()[0].get(\"longitude\")\n",
    "        new_mun_coordinates.append([name, latitude, longitude])\n",
    "    else:\n",
    "        print(\"Error:\", response.status_code, response.text)\n",
    "        problems.append(municipality)\n",
    "    if i %50== 0:\n",
    "        print(i, \" of \", len_todo, \" done\")\n",
    "\n",
    "columns = ['Municipality', 'Latitude', 'Longitude']\n",
    "df_mun_coordinates = pd.DataFrame.from_records(new_mun_coordinates, columns=columns)\n",
    "df_mun_coordinates.to_csv('../data_engineering/Data/municipality_to_latitude_longitude.csv', index=False)\n",
    "pd.DataFrame(problems).to_csv('../data_engineering/Data/municipalities_coordinates_problems.csv', index=False)"
   ],
   "id": "2fa95286add77ba",
   "outputs": [
    {
     "name": "stdout",
     "output_type": "stream",
     "text": [
      "0  of  1228  done\n",
      "Error with  Oberhofen (AG)\n",
      "100  of  1228  done\n",
      "Error with  Willisau Land\n",
      "Error with  Rüti (GL)\n",
      "Error with  Riom-Parsonz\n",
      "150  of  1228  done\n",
      "Error with  Reckingen-Gluringen\n",
      "200  of  1228  done\n",
      "Error with  Villaz-Saint-Pierre\n",
      "Error with  Gettnau\n",
      "250  of  1228  done\n",
      "Error with  Niedererlinsbach\n",
      "300  of  1228  done\n",
      "Error with  Niederried bei Kallnach\n",
      "Error with  Obererlinsbach\n",
      "Error with  Isorno\n",
      "350  of  1228  done\n",
      "400  of  1228  done\n",
      "Error with  Casti-Wergenstein\n",
      "450  of  1228  done\n",
      "Error with  Tinizong-Rona\n",
      "Error with  Unterbözberg\n",
      "500  of  1228  done\n",
      "Error with  Willisau Stadt\n",
      "Error with  Wiesen (GR)\n",
      "Error with  Schwanden (GL)\n",
      "Error with  Münster-Geschinen\n",
      "550  of  1228  done\n",
      "Error with  St. Antönien Ascharina\n",
      "600  of  1228  done\n",
      "Error with  Heinrichswil-Winistorf\n",
      "650  of  1228  done\n",
      "700  of  1228  done\n",
      "Error with  Tüscherz-Alfermée\n",
      "750  of  1228  done\n",
      "800  of  1228  done\n",
      "850  of  1228  done\n",
      "Error with  Klosters-Serneus\n",
      "Error with  Thielle-Wavre\n",
      "900  of  1228  done\n",
      "Error with  Bibern (SO)\n",
      "950  of  1228  done\n",
      "1000  of  1228  done\n",
      "1050  of  1228  done\n",
      "Error with  Nesslau-Krummenau\n",
      "1100  of  1228  done\n",
      "1150  of  1228  done\n",
      "Error with  Suraua\n",
      "Error with  Rapperswil (SG)\n",
      "Error with  Rohr (AG)\n"
     ]
    }
   ],
   "execution_count": 67
  },
  {
   "metadata": {},
   "cell_type": "markdown",
   "source": [
    "## Validation\n",
    "- added the \"problematic\" municipalities manually\n",
    "- NO municipality twice in the list, otherwise delete\n",
    "- join with [municipalities](data_engineering/Data/municipalities/be-b-00.04-agv-20050313.xlsx) as this is the main file given by the swiss government."
   ],
   "id": "b3c10247cbc2203a"
  },
  {
   "metadata": {
    "ExecuteTime": {
     "end_time": "2025-03-09T22:22:00.569407Z",
     "start_time": "2025-03-09T22:22:00.448047Z"
    }
   },
   "cell_type": "code",
   "source": [
    "df_final_mun = pd.read_csv('../data_engineering/Data/municipalities/municipality_to_latitude_longitude.csv')\n",
    "df_main_mun = pd.read_excel('../data_engineering/Data/municipalities/be-b-00.04-agv-20050313.xlsx', sheet_name='Gemeindeliste-Liste d. communes')"
   ],
   "id": "5359f67aa38789c2",
   "outputs": [],
   "execution_count": 120
  },
  {
   "metadata": {
    "ExecuteTime": {
     "end_time": "2025-03-09T22:28:53.028067Z",
     "start_time": "2025-03-09T22:28:53.021729Z"
    }
   },
   "cell_type": "code",
   "source": "df_final_mun[df_final_mun.duplicated(['Municipality'])]",
   "id": "8bfa61099a911b81",
   "outputs": [
    {
     "data": {
      "text/plain": [
       "Empty DataFrame\n",
       "Columns: [Municipality, Latitude, Longitude]\n",
       "Index: []"
      ],
      "text/html": [
       "<div>\n",
       "<style scoped>\n",
       "    .dataframe tbody tr th:only-of-type {\n",
       "        vertical-align: middle;\n",
       "    }\n",
       "\n",
       "    .dataframe tbody tr th {\n",
       "        vertical-align: top;\n",
       "    }\n",
       "\n",
       "    .dataframe thead th {\n",
       "        text-align: right;\n",
       "    }\n",
       "</style>\n",
       "<table border=\"1\" class=\"dataframe\">\n",
       "  <thead>\n",
       "    <tr style=\"text-align: right;\">\n",
       "      <th></th>\n",
       "      <th>Municipality</th>\n",
       "      <th>Latitude</th>\n",
       "      <th>Longitude</th>\n",
       "    </tr>\n",
       "  </thead>\n",
       "  <tbody>\n",
       "  </tbody>\n",
       "</table>\n",
       "</div>"
      ]
     },
     "execution_count": 125,
     "metadata": {},
     "output_type": "execute_result"
    }
   ],
   "execution_count": 125
  },
  {
   "metadata": {
    "ExecuteTime": {
     "end_time": "2025-03-09T22:30:32.363255Z",
     "start_time": "2025-03-09T22:30:32.344054Z"
    }
   },
   "cell_type": "code",
   "source": "df_main_mun = df_main_mun['GDENAME']",
   "id": "d3cc32aea84ab47d",
   "outputs": [
    {
     "ename": "KeyError",
     "evalue": "'GDENAME'",
     "output_type": "error",
     "traceback": [
      "\u001B[0;31m---------------------------------------------------------------------------\u001B[0m",
      "\u001B[0;31mKeyError\u001B[0m                                  Traceback (most recent call last)",
      "Cell \u001B[0;32mIn[130], line 1\u001B[0m\n\u001B[0;32m----> 1\u001B[0m df_main_mun \u001B[38;5;241m=\u001B[39m \u001B[43mdf_main_mun\u001B[49m\u001B[43m[\u001B[49m\u001B[38;5;124;43m'\u001B[39;49m\u001B[38;5;124;43mGDENAME\u001B[39;49m\u001B[38;5;124;43m'\u001B[39;49m\u001B[43m]\u001B[49m\u001B[38;5;241m.\u001B[39mdtype\n",
      "File \u001B[0;32m/opt/homebrew/anaconda3/envs/stormmind/lib/python3.12/site-packages/pandas/core/series.py:1121\u001B[0m, in \u001B[0;36mSeries.__getitem__\u001B[0;34m(self, key)\u001B[0m\n\u001B[1;32m   1118\u001B[0m     \u001B[38;5;28;01mreturn\u001B[39;00m \u001B[38;5;28mself\u001B[39m\u001B[38;5;241m.\u001B[39m_values[key]\n\u001B[1;32m   1120\u001B[0m \u001B[38;5;28;01melif\u001B[39;00m key_is_scalar:\n\u001B[0;32m-> 1121\u001B[0m     \u001B[38;5;28;01mreturn\u001B[39;00m \u001B[38;5;28;43mself\u001B[39;49m\u001B[38;5;241;43m.\u001B[39;49m\u001B[43m_get_value\u001B[49m\u001B[43m(\u001B[49m\u001B[43mkey\u001B[49m\u001B[43m)\u001B[49m\n\u001B[1;32m   1123\u001B[0m \u001B[38;5;66;03m# Convert generator to list before going through hashable part\u001B[39;00m\n\u001B[1;32m   1124\u001B[0m \u001B[38;5;66;03m# (We will iterate through the generator there to check for slices)\u001B[39;00m\n\u001B[1;32m   1125\u001B[0m \u001B[38;5;28;01mif\u001B[39;00m is_iterator(key):\n",
      "File \u001B[0;32m/opt/homebrew/anaconda3/envs/stormmind/lib/python3.12/site-packages/pandas/core/series.py:1237\u001B[0m, in \u001B[0;36mSeries._get_value\u001B[0;34m(self, label, takeable)\u001B[0m\n\u001B[1;32m   1234\u001B[0m     \u001B[38;5;28;01mreturn\u001B[39;00m \u001B[38;5;28mself\u001B[39m\u001B[38;5;241m.\u001B[39m_values[label]\n\u001B[1;32m   1236\u001B[0m \u001B[38;5;66;03m# Similar to Index.get_value, but we do not fall back to positional\u001B[39;00m\n\u001B[0;32m-> 1237\u001B[0m loc \u001B[38;5;241m=\u001B[39m \u001B[38;5;28;43mself\u001B[39;49m\u001B[38;5;241;43m.\u001B[39;49m\u001B[43mindex\u001B[49m\u001B[38;5;241;43m.\u001B[39;49m\u001B[43mget_loc\u001B[49m\u001B[43m(\u001B[49m\u001B[43mlabel\u001B[49m\u001B[43m)\u001B[49m\n\u001B[1;32m   1239\u001B[0m \u001B[38;5;28;01mif\u001B[39;00m is_integer(loc):\n\u001B[1;32m   1240\u001B[0m     \u001B[38;5;28;01mreturn\u001B[39;00m \u001B[38;5;28mself\u001B[39m\u001B[38;5;241m.\u001B[39m_values[loc]\n",
      "File \u001B[0;32m/opt/homebrew/anaconda3/envs/stormmind/lib/python3.12/site-packages/pandas/core/indexes/range.py:417\u001B[0m, in \u001B[0;36mRangeIndex.get_loc\u001B[0;34m(self, key)\u001B[0m\n\u001B[1;32m    415\u001B[0m         \u001B[38;5;28;01mraise\u001B[39;00m \u001B[38;5;167;01mKeyError\u001B[39;00m(key) \u001B[38;5;28;01mfrom\u001B[39;00m\u001B[38;5;250m \u001B[39m\u001B[38;5;21;01merr\u001B[39;00m\n\u001B[1;32m    416\u001B[0m \u001B[38;5;28;01mif\u001B[39;00m \u001B[38;5;28misinstance\u001B[39m(key, Hashable):\n\u001B[0;32m--> 417\u001B[0m     \u001B[38;5;28;01mraise\u001B[39;00m \u001B[38;5;167;01mKeyError\u001B[39;00m(key)\n\u001B[1;32m    418\u001B[0m \u001B[38;5;28mself\u001B[39m\u001B[38;5;241m.\u001B[39m_check_indexing_error(key)\n\u001B[1;32m    419\u001B[0m \u001B[38;5;28;01mraise\u001B[39;00m \u001B[38;5;167;01mKeyError\u001B[39;00m(key)\n",
      "\u001B[0;31mKeyError\u001B[0m: 'GDENAME'"
     ]
    }
   ],
   "execution_count": 130
  },
  {
   "metadata": {
    "ExecuteTime": {
     "end_time": "2025-03-09T22:31:20.197969Z",
     "start_time": "2025-03-09T22:31:20.191671Z"
    }
   },
   "cell_type": "code",
   "source": "df_main_mun = df_main_mun.to_frame()",
   "id": "480cb22cc63e260d",
   "outputs": [],
   "execution_count": 132
  },
  {
   "metadata": {
    "ExecuteTime": {
     "end_time": "2025-03-09T22:34:37.141566Z",
     "start_time": "2025-03-09T22:34:37.122655Z"
    }
   },
   "cell_type": "code",
   "source": "df_merged = df_main_mun.merge(df_final_mun, left_on='GDENAME', right_on='Municipality', how='left')",
   "id": "1c62d133bd932cd",
   "outputs": [],
   "execution_count": 133
  },
  {
   "metadata": {
    "ExecuteTime": {
     "end_time": "2025-03-09T22:38:44.595071Z",
     "start_time": "2025-03-09T22:38:44.586154Z"
    }
   },
   "cell_type": "code",
   "source": [
    "df_merged = df_merged[['Municipality', 'Latitude', 'Longitude']]\n",
    "df_merged.to_csv('../data_engineering/Data/municipalities/municipality_coordinates.csv')"
   ],
   "id": "df516a178e8e8f0",
   "outputs": [],
   "execution_count": 142
  },
  {
   "metadata": {
    "ExecuteTime": {
     "end_time": "2025-03-09T22:36:32.343049Z",
     "start_time": "2025-03-09T22:36:32.336147Z"
    }
   },
   "cell_type": "code",
   "source": [
    "nan_rows = df_merged[df_merged['Latitude'].isna() | df_merged['Longitude'].isna()]\n",
    "nan_rows"
   ],
   "id": "5f33a00407bf29d",
   "outputs": [
    {
     "data": {
      "text/plain": [
       "     GDENAME Municipality  Latitude  Longitude\n",
       "1363  Suraua          NaN       NaN        NaN"
      ],
      "text/html": [
       "<div>\n",
       "<style scoped>\n",
       "    .dataframe tbody tr th:only-of-type {\n",
       "        vertical-align: middle;\n",
       "    }\n",
       "\n",
       "    .dataframe tbody tr th {\n",
       "        vertical-align: top;\n",
       "    }\n",
       "\n",
       "    .dataframe thead th {\n",
       "        text-align: right;\n",
       "    }\n",
       "</style>\n",
       "<table border=\"1\" class=\"dataframe\">\n",
       "  <thead>\n",
       "    <tr style=\"text-align: right;\">\n",
       "      <th></th>\n",
       "      <th>GDENAME</th>\n",
       "      <th>Municipality</th>\n",
       "      <th>Latitude</th>\n",
       "      <th>Longitude</th>\n",
       "    </tr>\n",
       "  </thead>\n",
       "  <tbody>\n",
       "    <tr>\n",
       "      <th>1363</th>\n",
       "      <td>Suraua</td>\n",
       "      <td>NaN</td>\n",
       "      <td>NaN</td>\n",
       "      <td>NaN</td>\n",
       "    </tr>\n",
       "  </tbody>\n",
       "</table>\n",
       "</div>"
      ]
     },
     "execution_count": 138,
     "metadata": {},
     "output_type": "execute_result"
    }
   ],
   "execution_count": 138
  },
  {
   "metadata": {},
   "cell_type": "markdown",
   "source": "Suraua was updated directly in the data_engineering/Data/municipalities/municipality_coordinates.csv file!",
   "id": "1949d73c2589994f"
  }
 ],
 "metadata": {
  "kernelspec": {
   "display_name": "Python 3",
   "language": "python",
   "name": "python3"
  },
  "language_info": {
   "codemirror_mode": {
    "name": "ipython",
    "version": 2
   },
   "file_extension": ".py",
   "mimetype": "text/x-python",
   "name": "python",
   "nbconvert_exporter": "python",
   "pygments_lexer": "ipython2",
   "version": "2.7.6"
  }
 },
 "nbformat": 4,
 "nbformat_minor": 5
}
