{
 "cells": [
  {
   "metadata": {},
   "cell_type": "markdown",
   "source": [
    "# Municipalities\n",
    "This notebook has the purpose to map all municipalities to their coordinates, as the weather will be queried by the coordinates."
   ],
   "id": "14f83090dbf3d63e"
  },
  {
   "metadata": {
    "collapsed": true,
    "ExecuteTime": {
     "end_time": "2025-03-08T16:05:55.156440Z",
     "start_time": "2025-03-08T16:05:55.149626Z"
    }
   },
   "cell_type": "code",
   "outputs": [],
   "execution_count": 11,
   "source": [
    "import json\n",
    "import requests as rq\n",
    "import pandas as pd"
   ],
   "id": "initial_id"
  },
  {
   "metadata": {
    "ExecuteTime": {
     "end_time": "2025-03-09T21:23:06.616725Z",
     "start_time": "2025-03-09T21:23:06.612041Z"
    }
   },
   "cell_type": "code",
   "source": [
    "credentials = {}\n",
    "try:\n",
    "    with open(\"../Ressources/credentials.json\") as file:\n",
    "        credentials = json.load(file)\n",
    "except FileNotFoundError:\n",
    "    print(\"Credentials file not found\")"
   ],
   "id": "15ed8109c11a7ac0",
   "outputs": [],
   "execution_count": 101
  },
  {
   "metadata": {
    "ExecuteTime": {
     "end_time": "2025-03-09T21:23:50.454951Z",
     "start_time": "2025-03-09T21:23:49.319974Z"
    }
   },
   "cell_type": "code",
   "source": [
    "# Sample Request with API Ninjas geocoding\n",
    "municipality = 'Kappel am Albis'\n",
    "api_url = f'https://api.api-ninjas.com/v1/geocoding?city={municipality}&country=Switzerland'\n",
    "response = rq.get(api_url + municipality, headers={'X-Api-Key': credentials['ApiNinjasKey']})\n",
    "if response.status_code == rq.codes.ok:\n",
    "    print(response)\n",
    "else:\n",
    "    print(\"Error:\", response.status_code, response.text)\n"
   ],
   "id": "fc863a0c0be88565",
   "outputs": [
    {
     "name": "stdout",
     "output_type": "stream",
     "text": [
      "<Response [200]>\n"
     ]
    }
   ],
   "execution_count": 102
  },
  {
   "metadata": {
    "ExecuteTime": {
     "end_time": "2025-03-09T21:23:53.569646Z",
     "start_time": "2025-03-09T21:23:53.564223Z"
    }
   },
   "cell_type": "code",
   "source": "response.json()[0]",
   "id": "f2ca3d9449cb95a5",
   "outputs": [
    {
     "data": {
      "text/plain": [
       "{'name': 'Kappel am Albis',\n",
       " 'latitude': 47.2288482,\n",
       " 'longitude': 8.5251335,\n",
       " 'country': 'CH',\n",
       " 'state': 'Zurich'}"
      ]
     },
     "execution_count": 103,
     "metadata": {},
     "output_type": "execute_result"
    }
   ],
   "execution_count": 103
  },
  {
   "metadata": {
    "ExecuteTime": {
     "end_time": "2025-03-09T21:27:21.098874Z",
     "start_time": "2025-03-09T21:27:20.979620Z"
    }
   },
   "cell_type": "code",
   "source": [
    "## Load municipalities\n",
    "municipalities = pd.read_excel('../data_engineering/Data/municipalities/be-b-00.04-agv-20050313.xlsx', sheet_name='Gemeindeliste-Liste d. communes')"
   ],
   "id": "82d8289b18566ce7",
   "outputs": [],
   "execution_count": 109
  },
  {
   "metadata": {
    "ExecuteTime": {
     "end_time": "2025-03-08T22:46:22.565514Z",
     "start_time": "2025-03-08T22:27:58.378064Z"
    }
   },
   "cell_type": "code",
   "source": [
    "new_mun_coordinates = municipalities['GDENAME'].tolist()\n",
    "problems = []\n",
    "len_todo = len(mun_todo)\n",
    "for i, municipality in enumerate(mun_todo):\n",
    "    api_url = f'https://api.api-ninjas.com/v1/geocoding?city={municipality}&country=Switzerland'\n",
    "    response = rq.get(api_url + municipality, headers={'X-Api-Key': credentials['ApiNinjasKey']})\n",
    "    if response.status_code == rq.codes.ok:\n",
    "        if len(response.json())== 0:\n",
    "            problems.append(municipality)\n",
    "            print(\"Error with \", municipality)\n",
    "            continue\n",
    "        name = response.json()[0].get(\"name\")\n",
    "        latitude = response.json()[0].get(\"latitude\")\n",
    "        longitude = response.json()[0].get(\"longitude\")\n",
    "        new_mun_coordinates.append([name, latitude, longitude])\n",
    "    else:\n",
    "        print(\"Error:\", response.status_code, response.text)\n",
    "        problems.append(municipality)\n",
    "    if i %50== 0:\n",
    "        print(i, \" of \", len_todo, \" done\")\n",
    "\n",
    "columns = ['Municipality', 'Latitude', 'Longitude']\n",
    "df_mun_coordinates = pd.DataFrame.from_records(new_mun_coordinates, columns=columns)\n",
    "df_mun_coordinates.to_csv('../data_engineering/Data/municipality_to_latitude_longitude.csv', index=False)\n",
    "pd.DataFrame(problems).to_csv('../data_engineering/Data/municipalities_coordinates_problems.csv', index=False)"
   ],
   "id": "2fa95286add77ba",
   "outputs": [
    {
     "name": "stdout",
     "output_type": "stream",
     "text": [
      "0  of  1228  done\n",
      "Error with  Oberhofen (AG)\n",
      "100  of  1228  done\n",
      "Error with  Willisau Land\n",
      "Error with  Rüti (GL)\n",
      "Error with  Riom-Parsonz\n",
      "150  of  1228  done\n",
      "Error with  Reckingen-Gluringen\n",
      "200  of  1228  done\n",
      "Error with  Villaz-Saint-Pierre\n",
      "Error with  Gettnau\n",
      "250  of  1228  done\n",
      "Error with  Niedererlinsbach\n",
      "300  of  1228  done\n",
      "Error with  Niederried bei Kallnach\n",
      "Error with  Obererlinsbach\n",
      "Error with  Isorno\n",
      "350  of  1228  done\n",
      "400  of  1228  done\n",
      "Error with  Casti-Wergenstein\n",
      "450  of  1228  done\n",
      "Error with  Tinizong-Rona\n",
      "Error with  Unterbözberg\n",
      "500  of  1228  done\n",
      "Error with  Willisau Stadt\n",
      "Error with  Wiesen (GR)\n",
      "Error with  Schwanden (GL)\n",
      "Error with  Münster-Geschinen\n",
      "550  of  1228  done\n",
      "Error with  St. Antönien Ascharina\n",
      "600  of  1228  done\n",
      "Error with  Heinrichswil-Winistorf\n",
      "650  of  1228  done\n",
      "700  of  1228  done\n",
      "Error with  Tüscherz-Alfermée\n",
      "750  of  1228  done\n",
      "800  of  1228  done\n",
      "850  of  1228  done\n",
      "Error with  Klosters-Serneus\n",
      "Error with  Thielle-Wavre\n",
      "900  of  1228  done\n",
      "Error with  Bibern (SO)\n",
      "950  of  1228  done\n",
      "1000  of  1228  done\n",
      "1050  of  1228  done\n",
      "Error with  Nesslau-Krummenau\n",
      "1100  of  1228  done\n",
      "1150  of  1228  done\n",
      "Error with  Suraua\n",
      "Error with  Rapperswil (SG)\n",
      "Error with  Rohr (AG)\n"
     ]
    }
   ],
   "execution_count": 67
  }
 ],
 "metadata": {
  "kernelspec": {
   "display_name": "Python 3",
   "language": "python",
   "name": "python3"
  },
  "language_info": {
   "codemirror_mode": {
    "name": "ipython",
    "version": 2
   },
   "file_extension": ".py",
   "mimetype": "text/x-python",
   "name": "python",
   "nbconvert_exporter": "python",
   "pygments_lexer": "ipython2",
   "version": "2.7.6"
  }
 },
 "nbformat": 4,
 "nbformat_minor": 5
}
