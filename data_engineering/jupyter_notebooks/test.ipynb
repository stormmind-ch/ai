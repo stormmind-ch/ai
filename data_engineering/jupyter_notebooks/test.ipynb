{
 "cells": [
  {
   "cell_type": "code",
   "id": "initial_id",
   "metadata": {
    "collapsed": true,
    "ExecuteTime": {
     "end_time": "2025-04-03T11:17:42.068341Z",
     "start_time": "2025-04-03T11:17:42.064632Z"
    }
   },
   "source": [
    "import pandas as pd\n",
    "import numpy as np"
   ],
   "outputs": [],
   "execution_count": 22
  },
  {
   "metadata": {
    "ExecuteTime": {
     "end_time": "2025-04-03T11:07:38.563952Z",
     "start_time": "2025-04-03T11:07:31.707989Z"
    }
   },
   "cell_type": "code",
   "source": "df = pd.read_csv('../../Ressources/main_data_combined.csv')",
   "id": "21634c2e165a4801",
   "outputs": [],
   "execution_count": 12
  },
  {
   "metadata": {
    "ExecuteTime": {
     "end_time": "2025-04-03T12:24:12.265258Z",
     "start_time": "2025-04-03T12:24:12.250155Z"
    }
   },
   "cell_type": "code",
   "source": "df",
   "id": "efe7c94e143a5111",
   "outputs": [
    {
     "data": {
      "text/plain": [
       "             Municipality        Date  combination_damage_mainprocess\n",
       "0         Aeugst am Albis  1972-02-17                             0.0\n",
       "1         Aeugst am Albis  1972-02-18                             0.0\n",
       "2         Aeugst am Albis  1972-02-19                             0.0\n",
       "3         Aeugst am Albis  1972-02-20                             0.0\n",
       "4         Aeugst am Albis  1972-02-21                             0.0\n",
       "...                   ...         ...                             ...\n",
       "52231982     Vendlincourt  2023-12-19                             0.0\n",
       "52231983     Vendlincourt  2023-12-20                             0.0\n",
       "52231984     Vendlincourt  2023-12-21                             0.0\n",
       "52231985     Vendlincourt  2023-12-22                             0.0\n",
       "52231986     Vendlincourt  2023-12-23                             0.0\n",
       "\n",
       "[52231987 rows x 3 columns]"
      ],
      "text/html": [
       "<div>\n",
       "<style scoped>\n",
       "    .dataframe tbody tr th:only-of-type {\n",
       "        vertical-align: middle;\n",
       "    }\n",
       "\n",
       "    .dataframe tbody tr th {\n",
       "        vertical-align: top;\n",
       "    }\n",
       "\n",
       "    .dataframe thead th {\n",
       "        text-align: right;\n",
       "    }\n",
       "</style>\n",
       "<table border=\"1\" class=\"dataframe\">\n",
       "  <thead>\n",
       "    <tr style=\"text-align: right;\">\n",
       "      <th></th>\n",
       "      <th>Municipality</th>\n",
       "      <th>Date</th>\n",
       "      <th>combination_damage_mainprocess</th>\n",
       "    </tr>\n",
       "  </thead>\n",
       "  <tbody>\n",
       "    <tr>\n",
       "      <th>0</th>\n",
       "      <td>Aeugst am Albis</td>\n",
       "      <td>1972-02-17</td>\n",
       "      <td>0.0</td>\n",
       "    </tr>\n",
       "    <tr>\n",
       "      <th>1</th>\n",
       "      <td>Aeugst am Albis</td>\n",
       "      <td>1972-02-18</td>\n",
       "      <td>0.0</td>\n",
       "    </tr>\n",
       "    <tr>\n",
       "      <th>2</th>\n",
       "      <td>Aeugst am Albis</td>\n",
       "      <td>1972-02-19</td>\n",
       "      <td>0.0</td>\n",
       "    </tr>\n",
       "    <tr>\n",
       "      <th>3</th>\n",
       "      <td>Aeugst am Albis</td>\n",
       "      <td>1972-02-20</td>\n",
       "      <td>0.0</td>\n",
       "    </tr>\n",
       "    <tr>\n",
       "      <th>4</th>\n",
       "      <td>Aeugst am Albis</td>\n",
       "      <td>1972-02-21</td>\n",
       "      <td>0.0</td>\n",
       "    </tr>\n",
       "    <tr>\n",
       "      <th>...</th>\n",
       "      <td>...</td>\n",
       "      <td>...</td>\n",
       "      <td>...</td>\n",
       "    </tr>\n",
       "    <tr>\n",
       "      <th>52231982</th>\n",
       "      <td>Vendlincourt</td>\n",
       "      <td>2023-12-19</td>\n",
       "      <td>0.0</td>\n",
       "    </tr>\n",
       "    <tr>\n",
       "      <th>52231983</th>\n",
       "      <td>Vendlincourt</td>\n",
       "      <td>2023-12-20</td>\n",
       "      <td>0.0</td>\n",
       "    </tr>\n",
       "    <tr>\n",
       "      <th>52231984</th>\n",
       "      <td>Vendlincourt</td>\n",
       "      <td>2023-12-21</td>\n",
       "      <td>0.0</td>\n",
       "    </tr>\n",
       "    <tr>\n",
       "      <th>52231985</th>\n",
       "      <td>Vendlincourt</td>\n",
       "      <td>2023-12-22</td>\n",
       "      <td>0.0</td>\n",
       "    </tr>\n",
       "    <tr>\n",
       "      <th>52231986</th>\n",
       "      <td>Vendlincourt</td>\n",
       "      <td>2023-12-23</td>\n",
       "      <td>0.0</td>\n",
       "    </tr>\n",
       "  </tbody>\n",
       "</table>\n",
       "<p>52231987 rows × 3 columns</p>\n",
       "</div>"
      ]
     },
     "execution_count": 30,
     "metadata": {},
     "output_type": "execute_result"
    }
   ],
   "execution_count": 30
  },
  {
   "metadata": {
    "ExecuteTime": {
     "end_time": "2025-04-03T11:17:11.366357Z",
     "start_time": "2025-04-03T11:17:08.023091Z"
    }
   },
   "cell_type": "code",
   "source": "count_no_damage = df[df['combination_damage_mainprocess'].isin([0.0])].count()['Municipality']",
   "id": "a06f48722c948885",
   "outputs": [],
   "execution_count": 19
  },
  {
   "metadata": {
    "ExecuteTime": {
     "end_time": "2025-04-03T11:17:25.274811Z",
     "start_time": "2025-04-03T11:17:14.398045Z"
    }
   },
   "cell_type": "code",
   "source": "count_damage = df[df['combination_damage_mainprocess'].isin([i for i in range(1,16)])].count()['Municipality']",
   "id": "bfc0fc925f37fa5a",
   "outputs": [],
   "execution_count": 20
  },
  {
   "metadata": {
    "ExecuteTime": {
     "end_time": "2025-04-03T11:17:26.107867Z",
     "start_time": "2025-04-03T11:17:26.101011Z"
    }
   },
   "cell_type": "code",
   "source": "count_no_damage, count_damage",
   "id": "4440c084eb7fc78d",
   "outputs": [
    {
     "data": {
      "text/plain": [
       "(np.int64(52206832), np.int64(25155))"
      ]
     },
     "execution_count": 21,
     "metadata": {},
     "output_type": "execute_result"
    }
   ],
   "execution_count": 21
  },
  {
   "metadata": {
    "ExecuteTime": {
     "end_time": "2025-04-03T11:21:47.758026Z",
     "start_time": "2025-04-03T11:21:47.754475Z"
    }
   },
   "cell_type": "code",
   "source": [
    "total = count_damage + count_no_damage\n",
    "percent_no_damage =  count_no_damage / total * 100\n",
    "percent_damage = count_damage / total * 100\n",
    "percent_damage = np.round(percent_damage, 5)\n",
    "percent_no_damage = np.round(percent_no_damage, 5)\n",
    "percent_no_damage, percent_damage\n",
    "# 99.95349"
   ],
   "id": "89606e36d98d0e44",
   "outputs": [
    {
     "data": {
      "text/plain": [
       "(np.float64(99.95184), np.float64(0.04816))"
      ]
     },
     "execution_count": 27,
     "metadata": {},
     "output_type": "execute_result"
    }
   ],
   "execution_count": 27
  },
  {
   "metadata": {
    "ExecuteTime": {
     "end_time": "2025-04-03T12:30:39.225370Z",
     "start_time": "2025-04-03T12:30:35.395733Z"
    }
   },
   "cell_type": "code",
   "source": "duplicates = df.duplicated(subset=['Municipality', 'Date'])",
   "id": "d95b11dae8327e89",
   "outputs": [],
   "execution_count": 37
  },
  {
   "metadata": {
    "ExecuteTime": {
     "end_time": "2025-04-03T12:30:43.388125Z",
     "start_time": "2025-04-03T12:30:43.369428Z"
    }
   },
   "cell_type": "code",
   "source": "df[duplicates]",
   "id": "72a8fa8e0acf9cd2",
   "outputs": [
    {
     "data": {
      "text/plain": [
       "              Municipality        Date  combination_damage_mainprocess\n",
       "235384           Stallikon  1994-05-19                            11.0\n",
       "268966             Adlikon  1982-08-15                             6.0\n",
       "444082         Andelfingen  1995-06-01                            11.0\n",
       "502339    Kleinandelfingen  1999-05-13                             7.0\n",
       "758747              Bülach  1975-06-23                             7.0\n",
       "...                    ...         ...                             ...\n",
       "50988039          Movelier  1988-06-16                             7.0\n",
       "51090418            Soulce  2009-07-04                             7.0\n",
       "51137390            Vermes  1982-07-23                             6.0\n",
       "51615159          Boncourt  1994-05-19                             6.0\n",
       "51781590        Courchavon  1983-05-25                             6.0\n",
       "\n",
       "[983 rows x 3 columns]"
      ],
      "text/html": [
       "<div>\n",
       "<style scoped>\n",
       "    .dataframe tbody tr th:only-of-type {\n",
       "        vertical-align: middle;\n",
       "    }\n",
       "\n",
       "    .dataframe tbody tr th {\n",
       "        vertical-align: top;\n",
       "    }\n",
       "\n",
       "    .dataframe thead th {\n",
       "        text-align: right;\n",
       "    }\n",
       "</style>\n",
       "<table border=\"1\" class=\"dataframe\">\n",
       "  <thead>\n",
       "    <tr style=\"text-align: right;\">\n",
       "      <th></th>\n",
       "      <th>Municipality</th>\n",
       "      <th>Date</th>\n",
       "      <th>combination_damage_mainprocess</th>\n",
       "    </tr>\n",
       "  </thead>\n",
       "  <tbody>\n",
       "    <tr>\n",
       "      <th>235384</th>\n",
       "      <td>Stallikon</td>\n",
       "      <td>1994-05-19</td>\n",
       "      <td>11.0</td>\n",
       "    </tr>\n",
       "    <tr>\n",
       "      <th>268966</th>\n",
       "      <td>Adlikon</td>\n",
       "      <td>1982-08-15</td>\n",
       "      <td>6.0</td>\n",
       "    </tr>\n",
       "    <tr>\n",
       "      <th>444082</th>\n",
       "      <td>Andelfingen</td>\n",
       "      <td>1995-06-01</td>\n",
       "      <td>11.0</td>\n",
       "    </tr>\n",
       "    <tr>\n",
       "      <th>502339</th>\n",
       "      <td>Kleinandelfingen</td>\n",
       "      <td>1999-05-13</td>\n",
       "      <td>7.0</td>\n",
       "    </tr>\n",
       "    <tr>\n",
       "      <th>758747</th>\n",
       "      <td>Bülach</td>\n",
       "      <td>1975-06-23</td>\n",
       "      <td>7.0</td>\n",
       "    </tr>\n",
       "    <tr>\n",
       "      <th>...</th>\n",
       "      <td>...</td>\n",
       "      <td>...</td>\n",
       "      <td>...</td>\n",
       "    </tr>\n",
       "    <tr>\n",
       "      <th>50988039</th>\n",
       "      <td>Movelier</td>\n",
       "      <td>1988-06-16</td>\n",
       "      <td>7.0</td>\n",
       "    </tr>\n",
       "    <tr>\n",
       "      <th>51090418</th>\n",
       "      <td>Soulce</td>\n",
       "      <td>2009-07-04</td>\n",
       "      <td>7.0</td>\n",
       "    </tr>\n",
       "    <tr>\n",
       "      <th>51137390</th>\n",
       "      <td>Vermes</td>\n",
       "      <td>1982-07-23</td>\n",
       "      <td>6.0</td>\n",
       "    </tr>\n",
       "    <tr>\n",
       "      <th>51615159</th>\n",
       "      <td>Boncourt</td>\n",
       "      <td>1994-05-19</td>\n",
       "      <td>6.0</td>\n",
       "    </tr>\n",
       "    <tr>\n",
       "      <th>51781590</th>\n",
       "      <td>Courchavon</td>\n",
       "      <td>1983-05-25</td>\n",
       "      <td>6.0</td>\n",
       "    </tr>\n",
       "  </tbody>\n",
       "</table>\n",
       "<p>983 rows × 3 columns</p>\n",
       "</div>"
      ]
     },
     "execution_count": 38,
     "metadata": {},
     "output_type": "execute_result"
    }
   ],
   "execution_count": 38
  }
 ],
 "metadata": {
  "kernelspec": {
   "display_name": "Python 3",
   "language": "python",
   "name": "python3"
  },
  "language_info": {
   "codemirror_mode": {
    "name": "ipython",
    "version": 2
   },
   "file_extension": ".py",
   "mimetype": "text/x-python",
   "name": "python",
   "nbconvert_exporter": "python",
   "pygments_lexer": "ipython2",
   "version": "2.7.6"
  }
 },
 "nbformat": 4,
 "nbformat_minor": 5
}
